{
 "cells": [
  {
   "cell_type": "markdown",
   "metadata": {
    "id": "rP8SuqILhaPo"
   },
   "source": [
    "## Config"
   ]
  },
  {
   "cell_type": "code",
   "execution_count": 1,
   "metadata": {
    "id": "I_hrwU9x479z"
   },
   "outputs": [],
   "source": [
    "# change to raw data file\n",
    "INPUT_DATA_PATH = \"../../data/raw/saldo-van-wisselingen-private-verhuur-naar-koopwoning_raw.csv\"\n",
    "INPUT_SHAPEFILE_PATH = \"../../data/gemeente_shapefiles/gemeente_shapefile.shp\"\n",
    "\n",
    "# set true or false\n",
    "SAVE_OUTPUT = True\n",
    "# change to filename\n",
    "OUTPUT_DATA_PATH = \"../../data/processed/saldo-wisselingen-huur-naar-koop_clean.csv\""
   ]
  },
  {
   "cell_type": "code",
   "execution_count": 2,
   "metadata": {
    "id": "HnDB36CLTIxL"
   },
   "outputs": [],
   "source": [
    "import numpy as np\n",
    "import pandas as pd\n",
    "import geopandas as gpd\n",
    "import matplotlib.pyplot as plt"
   ]
  },
  {
   "cell_type": "markdown",
   "metadata": {
    "id": "JMxfkSGDhuDI"
   },
   "source": [
    "## Load data"
   ]
  },
  {
   "cell_type": "code",
   "execution_count": 3,
   "metadata": {
    "colab": {
     "base_uri": "https://localhost:8080/"
    },
    "executionInfo": {
     "elapsed": 235,
     "status": "ok",
     "timestamp": 1736162052510,
     "user": {
      "displayName": "Maaike Kuipers",
      "userId": "04147149776489660608"
     },
     "user_tz": -60
    },
    "id": "rVnEtRfdTONP",
    "outputId": "869a7767-c824-4c8e-a158-75f7ba134137"
   },
   "outputs": [],
   "source": [
    "# load data\n",
    "df = pd.read_csv(INPUT_DATA_PATH, sep = ',')\n",
    "gdf = gpd.read_file(INPUT_SHAPEFILE_PATH, sep = ';')"
   ]
  },
  {
   "cell_type": "code",
   "execution_count": 4,
   "metadata": {
    "id": "8extd_ml_ydE"
   },
   "outputs": [],
   "source": [
    "gdf = gdf.to_crs(\"EPSG:4326\")"
   ]
  },
  {
   "cell_type": "markdown",
   "metadata": {
    "id": "ryt3odo6h1W5"
   },
   "source": [
    "## Data management"
   ]
  },
  {
   "cell_type": "code",
   "execution_count": 5,
   "metadata": {
    "colab": {
     "base_uri": "https://localhost:8080/",
     "height": 206
    },
    "executionInfo": {
     "elapsed": 12,
     "status": "ok",
     "timestamp": 1736162058636,
     "user": {
      "displayName": "Maaike Kuipers",
      "userId": "04147149776489660608"
     },
     "user_tz": -60
    },
    "id": "F2PgA3ZMryBa",
    "outputId": "0c7f130a-5d08-4bb3-c148-2658bdcf5511"
   },
   "outputs": [
    {
     "data": {
      "text/html": [
       "<div>\n",
       "<style scoped>\n",
       "    .dataframe tbody tr th:only-of-type {\n",
       "        vertical-align: middle;\n",
       "    }\n",
       "\n",
       "    .dataframe tbody tr th {\n",
       "        vertical-align: top;\n",
       "    }\n",
       "\n",
       "    .dataframe thead th {\n",
       "        text-align: right;\n",
       "    }\n",
       "</style>\n",
       "<table border=\"1\" class=\"dataframe\">\n",
       "  <thead>\n",
       "    <tr style=\"text-align: right;\">\n",
       "      <th></th>\n",
       "      <th>Gemeente</th>\n",
       "      <th>statcode</th>\n",
       "      <th>Saldo private verhuur naar koop</th>\n",
       "    </tr>\n",
       "  </thead>\n",
       "  <tbody>\n",
       "    <tr>\n",
       "      <th>0</th>\n",
       "      <td>Aa en Hunze</td>\n",
       "      <td>GM1680</td>\n",
       "      <td>0</td>\n",
       "    </tr>\n",
       "    <tr>\n",
       "      <th>1</th>\n",
       "      <td>Aalsmeer</td>\n",
       "      <td>GM0358</td>\n",
       "      <td>1</td>\n",
       "    </tr>\n",
       "    <tr>\n",
       "      <th>2</th>\n",
       "      <td>Aalten</td>\n",
       "      <td>GM0197</td>\n",
       "      <td>2</td>\n",
       "    </tr>\n",
       "    <tr>\n",
       "      <th>3</th>\n",
       "      <td>Achtkarspelen</td>\n",
       "      <td>GM0059</td>\n",
       "      <td>-1</td>\n",
       "    </tr>\n",
       "    <tr>\n",
       "      <th>4</th>\n",
       "      <td>Alblasserdam</td>\n",
       "      <td>GM0482</td>\n",
       "      <td>1</td>\n",
       "    </tr>\n",
       "  </tbody>\n",
       "</table>\n",
       "</div>"
      ],
      "text/plain": [
       "        Gemeente statcode  Saldo private verhuur naar koop\n",
       "0    Aa en Hunze   GM1680                                0\n",
       "1       Aalsmeer   GM0358                                1\n",
       "2         Aalten   GM0197                                2\n",
       "3  Achtkarspelen   GM0059                               -1\n",
       "4   Alblasserdam   GM0482                                1"
      ]
     },
     "execution_count": 5,
     "metadata": {},
     "output_type": "execute_result"
    }
   ],
   "source": [
    "df.head()"
   ]
  },
  {
   "cell_type": "code",
   "execution_count": 6,
   "metadata": {
    "colab": {
     "base_uri": "https://localhost:8080/",
     "height": 206
    },
    "executionInfo": {
     "elapsed": 11,
     "status": "ok",
     "timestamp": 1736162058637,
     "user": {
      "displayName": "Maaike Kuipers",
      "userId": "04147149776489660608"
     },
     "user_tz": -60
    },
    "id": "slJoNYctPSkl",
    "outputId": "5d34271e-4e7f-4136-c998-e44f4dfaade0"
   },
   "outputs": [
    {
     "data": {
      "text/html": [
       "<div>\n",
       "<style scoped>\n",
       "    .dataframe tbody tr th:only-of-type {\n",
       "        vertical-align: middle;\n",
       "    }\n",
       "\n",
       "    .dataframe tbody tr th {\n",
       "        vertical-align: top;\n",
       "    }\n",
       "\n",
       "    .dataframe thead th {\n",
       "        text-align: right;\n",
       "    }\n",
       "</style>\n",
       "<table border=\"1\" class=\"dataframe\">\n",
       "  <thead>\n",
       "    <tr style=\"text-align: right;\">\n",
       "      <th></th>\n",
       "      <th>Gemeente</th>\n",
       "      <th>gm_code</th>\n",
       "      <th>perc_transitie_verhuur_koop</th>\n",
       "    </tr>\n",
       "  </thead>\n",
       "  <tbody>\n",
       "    <tr>\n",
       "      <th>0</th>\n",
       "      <td>Aa en Hunze</td>\n",
       "      <td>GM1680</td>\n",
       "      <td>0</td>\n",
       "    </tr>\n",
       "    <tr>\n",
       "      <th>1</th>\n",
       "      <td>Aalsmeer</td>\n",
       "      <td>GM0358</td>\n",
       "      <td>1</td>\n",
       "    </tr>\n",
       "    <tr>\n",
       "      <th>2</th>\n",
       "      <td>Aalten</td>\n",
       "      <td>GM0197</td>\n",
       "      <td>2</td>\n",
       "    </tr>\n",
       "    <tr>\n",
       "      <th>3</th>\n",
       "      <td>Achtkarspelen</td>\n",
       "      <td>GM0059</td>\n",
       "      <td>-1</td>\n",
       "    </tr>\n",
       "    <tr>\n",
       "      <th>4</th>\n",
       "      <td>Alblasserdam</td>\n",
       "      <td>GM0482</td>\n",
       "      <td>1</td>\n",
       "    </tr>\n",
       "  </tbody>\n",
       "</table>\n",
       "</div>"
      ],
      "text/plain": [
       "        Gemeente gm_code  perc_transitie_verhuur_koop\n",
       "0    Aa en Hunze  GM1680                            0\n",
       "1       Aalsmeer  GM0358                            1\n",
       "2         Aalten  GM0197                            2\n",
       "3  Achtkarspelen  GM0059                           -1\n",
       "4   Alblasserdam  GM0482                            1"
      ]
     },
     "execution_count": 6,
     "metadata": {},
     "output_type": "execute_result"
    }
   ],
   "source": [
    "# make names clearer; Saldo private verhuur naar koop = perc_transitie_verhuur_koop\n",
    "df.rename(columns = {'Saldo private verhuur naar koop': 'perc_transitie_verhuur_koop', 'statcode':'gm_code' }, inplace = True)\n",
    "df.head()"
   ]
  },
  {
   "cell_type": "code",
   "execution_count": 7,
   "metadata": {
    "colab": {
     "base_uri": "https://localhost:8080/",
     "height": 206
    },
    "executionInfo": {
     "elapsed": 732,
     "status": "ok",
     "timestamp": 1736162059359,
     "user": {
      "displayName": "Maaike Kuipers",
      "userId": "04147149776489660608"
     },
     "user_tz": -60
    },
    "id": "q9I416ssPf7c",
    "outputId": "e77aa3db-5935-4074-f063-37f7722e407d"
   },
   "outputs": [
    {
     "data": {
      "text/html": [
       "<div>\n",
       "<style scoped>\n",
       "    .dataframe tbody tr th:only-of-type {\n",
       "        vertical-align: middle;\n",
       "    }\n",
       "\n",
       "    .dataframe tbody tr th {\n",
       "        vertical-align: top;\n",
       "    }\n",
       "\n",
       "    .dataframe thead th {\n",
       "        text-align: right;\n",
       "    }\n",
       "</style>\n",
       "<table border=\"1\" class=\"dataframe\">\n",
       "  <thead>\n",
       "    <tr style=\"text-align: right;\">\n",
       "      <th></th>\n",
       "      <th>Gemeente</th>\n",
       "      <th>gm_code</th>\n",
       "      <th>perc_transitie_verhuur_koop</th>\n",
       "      <th>gm_naam</th>\n",
       "      <th>geometry</th>\n",
       "    </tr>\n",
       "  </thead>\n",
       "  <tbody>\n",
       "    <tr>\n",
       "      <th>0</th>\n",
       "      <td>NaN</td>\n",
       "      <td>GM0003</td>\n",
       "      <td>NaN</td>\n",
       "      <td>Appingedam</td>\n",
       "      <td>POLYGON ((6.80583 53.31703, 6.80588 53.31704, ...</td>\n",
       "    </tr>\n",
       "    <tr>\n",
       "      <th>1</th>\n",
       "      <td>NaN</td>\n",
       "      <td>GM0010</td>\n",
       "      <td>NaN</td>\n",
       "      <td>Delfzijl</td>\n",
       "      <td>MULTIPOLYGON (((7.07833 53.26658, 7.07826 53.2...</td>\n",
       "    </tr>\n",
       "    <tr>\n",
       "      <th>2</th>\n",
       "      <td>Groningen</td>\n",
       "      <td>GM0014</td>\n",
       "      <td>1.0</td>\n",
       "      <td>Groningen</td>\n",
       "      <td>POLYGON ((6.48047 53.24551, 6.48050 53.24579, ...</td>\n",
       "    </tr>\n",
       "    <tr>\n",
       "      <th>3</th>\n",
       "      <td>NaN</td>\n",
       "      <td>GM0024</td>\n",
       "      <td>NaN</td>\n",
       "      <td>Loppersum</td>\n",
       "      <td>POLYGON ((6.73921 53.38812, 6.73925 53.38815, ...</td>\n",
       "    </tr>\n",
       "    <tr>\n",
       "      <th>4</th>\n",
       "      <td>Almere</td>\n",
       "      <td>GM0034</td>\n",
       "      <td>0.0</td>\n",
       "      <td>Almere</td>\n",
       "      <td>MULTIPOLYGON (((5.21106 52.33159, 5.21106 52.3...</td>\n",
       "    </tr>\n",
       "  </tbody>\n",
       "</table>\n",
       "</div>"
      ],
      "text/plain": [
       "    Gemeente gm_code  perc_transitie_verhuur_koop     gm_naam  \\\n",
       "0        NaN  GM0003                          NaN  Appingedam   \n",
       "1        NaN  GM0010                          NaN    Delfzijl   \n",
       "2  Groningen  GM0014                          1.0   Groningen   \n",
       "3        NaN  GM0024                          NaN   Loppersum   \n",
       "4     Almere  GM0034                          0.0      Almere   \n",
       "\n",
       "                                            geometry  \n",
       "0  POLYGON ((6.80583 53.31703, 6.80588 53.31704, ...  \n",
       "1  MULTIPOLYGON (((7.07833 53.26658, 7.07826 53.2...  \n",
       "2  POLYGON ((6.48047 53.24551, 6.48050 53.24579, ...  \n",
       "3  POLYGON ((6.73921 53.38812, 6.73925 53.38815, ...  \n",
       "4  MULTIPOLYGON (((5.21106 52.33159, 5.21106 52.3...  "
      ]
     },
     "execution_count": 7,
     "metadata": {},
     "output_type": "execute_result"
    }
   ],
   "source": [
    "merged_df = df.merge(gdf, on = 'gm_code', how = 'right')\n",
    "merged_df.head()"
   ]
  },
  {
   "cell_type": "code",
   "execution_count": 8,
   "metadata": {
    "colab": {
     "base_uri": "https://localhost:8080/"
    },
    "executionInfo": {
     "elapsed": 20,
     "status": "ok",
     "timestamp": 1736162059360,
     "user": {
      "displayName": "Maaike Kuipers",
      "userId": "04147149776489660608"
     },
     "user_tz": -60
    },
    "id": "DGCLPjMRQN4R",
    "outputId": "d7ac8ad4-22d6-468a-b30b-79c63ebcc2ab"
   },
   "outputs": [
    {
     "name": "stdout",
     "output_type": "stream",
     "text": [
      "<class 'pandas.core.frame.DataFrame'>\n",
      "RangeIndex: 355 entries, 0 to 354\n",
      "Data columns (total 5 columns):\n",
      " #   Column                       Non-Null Count  Dtype   \n",
      "---  ------                       --------------  -----   \n",
      " 0   Gemeente                     337 non-null    object  \n",
      " 1   gm_code                      355 non-null    object  \n",
      " 2   perc_transitie_verhuur_koop  337 non-null    float64 \n",
      " 3   gm_naam                      355 non-null    object  \n",
      " 4   geometry                     355 non-null    geometry\n",
      "dtypes: float64(1), geometry(1), object(3)\n",
      "memory usage: 14.0+ KB\n"
     ]
    }
   ],
   "source": [
    "merged_df.info()"
   ]
  },
  {
   "cell_type": "code",
   "execution_count": 9,
   "metadata": {
    "id": "0B6jpkMGQSwY"
   },
   "outputs": [],
   "source": [
    "# drop column Gemeente\n",
    "merged_df.drop(columns = ['Gemeente'], inplace = True)"
   ]
  },
  {
   "cell_type": "code",
   "execution_count": 10,
   "metadata": {
    "colab": {
     "base_uri": "https://localhost:8080/"
    },
    "executionInfo": {
     "elapsed": 15,
     "status": "ok",
     "timestamp": 1736162059360,
     "user": {
      "displayName": "Maaike Kuipers",
      "userId": "04147149776489660608"
     },
     "user_tz": -60
    },
    "id": "2w5Im0f-P-lZ",
    "outputId": "2a6f4ffd-7937-47d2-fa77-c8f7928dc147"
   },
   "outputs": [
    {
     "name": "stdout",
     "output_type": "stream",
     "text": [
      "<class 'pandas.core.frame.DataFrame'>\n",
      "RangeIndex: 342 entries, 0 to 341\n",
      "Data columns (total 3 columns):\n",
      " #   Column                       Non-Null Count  Dtype \n",
      "---  ------                       --------------  ----- \n",
      " 0   Gemeente                     342 non-null    object\n",
      " 1   gm_code                      342 non-null    object\n",
      " 2   perc_transitie_verhuur_koop  342 non-null    int64 \n",
      "dtypes: int64(1), object(2)\n",
      "memory usage: 8.1+ KB\n"
     ]
    }
   ],
   "source": [
    "df.info()"
   ]
  },
  {
   "cell_type": "code",
   "execution_count": 11,
   "metadata": {
    "colab": {
     "base_uri": "https://localhost:8080/"
    },
    "executionInfo": {
     "elapsed": 12,
     "status": "ok",
     "timestamp": 1736162059360,
     "user": {
      "displayName": "Maaike Kuipers",
      "userId": "04147149776489660608"
     },
     "user_tz": -60
    },
    "id": "DEZqRldzQBBA",
    "outputId": "70acbd5b-531b-46b7-fc0d-46ffc277bd5c"
   },
   "outputs": [
    {
     "name": "stdout",
     "output_type": "stream",
     "text": [
      "<class 'geopandas.geodataframe.GeoDataFrame'>\n",
      "RangeIndex: 355 entries, 0 to 354\n",
      "Data columns (total 3 columns):\n",
      " #   Column    Non-Null Count  Dtype   \n",
      "---  ------    --------------  -----   \n",
      " 0   gm_code   355 non-null    object  \n",
      " 1   gm_naam   355 non-null    object  \n",
      " 2   geometry  355 non-null    geometry\n",
      "dtypes: geometry(1), object(2)\n",
      "memory usage: 8.4+ KB\n"
     ]
    }
   ],
   "source": [
    "gdf.info()"
   ]
  },
  {
   "cell_type": "code",
   "execution_count": 12,
   "metadata": {
    "colab": {
     "base_uri": "https://localhost:8080/",
     "height": 613
    },
    "executionInfo": {
     "elapsed": 238,
     "status": "ok",
     "timestamp": 1736162059591,
     "user": {
      "displayName": "Maaike Kuipers",
      "userId": "04147149776489660608"
     },
     "user_tz": -60
    },
    "id": "1ZVJ46kCQagM",
    "outputId": "249f2e57-e365-4b72-b424-5b16d02a0de5"
   },
   "outputs": [
    {
     "data": {
      "text/html": [
       "<div>\n",
       "<style scoped>\n",
       "    .dataframe tbody tr th:only-of-type {\n",
       "        vertical-align: middle;\n",
       "    }\n",
       "\n",
       "    .dataframe tbody tr th {\n",
       "        vertical-align: top;\n",
       "    }\n",
       "\n",
       "    .dataframe thead th {\n",
       "        text-align: right;\n",
       "    }\n",
       "</style>\n",
       "<table border=\"1\" class=\"dataframe\">\n",
       "  <thead>\n",
       "    <tr style=\"text-align: right;\">\n",
       "      <th></th>\n",
       "      <th>gm_code</th>\n",
       "      <th>perc_transitie_verhuur_koop</th>\n",
       "      <th>gm_naam</th>\n",
       "      <th>geometry</th>\n",
       "    </tr>\n",
       "  </thead>\n",
       "  <tbody>\n",
       "    <tr>\n",
       "      <th>0</th>\n",
       "      <td>GM0003</td>\n",
       "      <td>NaN</td>\n",
       "      <td>Appingedam</td>\n",
       "      <td>POLYGON ((6.80583 53.31703, 6.80588 53.31704, ...</td>\n",
       "    </tr>\n",
       "    <tr>\n",
       "      <th>1</th>\n",
       "      <td>GM0010</td>\n",
       "      <td>NaN</td>\n",
       "      <td>Delfzijl</td>\n",
       "      <td>MULTIPOLYGON (((7.07833 53.26658, 7.07826 53.2...</td>\n",
       "    </tr>\n",
       "    <tr>\n",
       "      <th>3</th>\n",
       "      <td>GM0024</td>\n",
       "      <td>NaN</td>\n",
       "      <td>Loppersum</td>\n",
       "      <td>POLYGON ((6.73921 53.38812, 6.73925 53.38815, ...</td>\n",
       "    </tr>\n",
       "    <tr>\n",
       "      <th>110</th>\n",
       "      <td>GM0370</td>\n",
       "      <td>NaN</td>\n",
       "      <td>Beemster</td>\n",
       "      <td>POLYGON ((4.86299 52.56828, 4.86301 52.56852, ...</td>\n",
       "    </tr>\n",
       "    <tr>\n",
       "      <th>123</th>\n",
       "      <td>GM0398</td>\n",
       "      <td>NaN</td>\n",
       "      <td>Heerhugowaard</td>\n",
       "      <td>POLYGON ((4.82572 52.68498, 4.82572 52.68499, ...</td>\n",
       "    </tr>\n",
       "    <tr>\n",
       "      <th>130</th>\n",
       "      <td>GM0416</td>\n",
       "      <td>NaN</td>\n",
       "      <td>Langedijk</td>\n",
       "      <td>POLYGON ((4.76743 52.69821, 4.76782 52.69827, ...</td>\n",
       "    </tr>\n",
       "    <tr>\n",
       "      <th>142</th>\n",
       "      <td>GM0457</td>\n",
       "      <td>NaN</td>\n",
       "      <td>Weesp</td>\n",
       "      <td>POLYGON ((5.01842 52.32434, 5.01841 52.32452, ...</td>\n",
       "    </tr>\n",
       "    <tr>\n",
       "      <th>149</th>\n",
       "      <td>GM0501</td>\n",
       "      <td>NaN</td>\n",
       "      <td>Brielle</td>\n",
       "      <td>POLYGON ((4.16027 51.88325, 4.16035 51.88335, ...</td>\n",
       "    </tr>\n",
       "    <tr>\n",
       "      <th>157</th>\n",
       "      <td>GM0530</td>\n",
       "      <td>NaN</td>\n",
       "      <td>Hellevoetsluis</td>\n",
       "      <td>MULTIPOLYGON (((4.22012 51.82577, 4.22008 51.8...</td>\n",
       "    </tr>\n",
       "    <tr>\n",
       "      <th>178</th>\n",
       "      <td>GM0614</td>\n",
       "      <td>NaN</td>\n",
       "      <td>Westvoorne</td>\n",
       "      <td>POLYGON ((4.05047 51.90730, 4.05061 51.90739, ...</td>\n",
       "    </tr>\n",
       "    <tr>\n",
       "      <th>205</th>\n",
       "      <td>GM0756</td>\n",
       "      <td>NaN</td>\n",
       "      <td>Boxmeer</td>\n",
       "      <td>POLYGON ((5.92589 51.63202, 5.92586 51.63207, ...</td>\n",
       "    </tr>\n",
       "    <tr>\n",
       "      <th>217</th>\n",
       "      <td>GM0786</td>\n",
       "      <td>NaN</td>\n",
       "      <td>Grave</td>\n",
       "      <td>POLYGON ((5.73202 51.77189, 5.73360 51.77086, ...</td>\n",
       "    </tr>\n",
       "    <tr>\n",
       "      <th>218</th>\n",
       "      <td>GM0788</td>\n",
       "      <td>NaN</td>\n",
       "      <td>Haaren</td>\n",
       "      <td>POLYGON ((5.16007 51.63954, 5.15952 51.64105, ...</td>\n",
       "    </tr>\n",
       "    <tr>\n",
       "      <th>224</th>\n",
       "      <td>GM0815</td>\n",
       "      <td>NaN</td>\n",
       "      <td>Mill en Sint Hubert</td>\n",
       "      <td>POLYGON ((5.73528 51.67460, 5.73514 51.67505, ...</td>\n",
       "    </tr>\n",
       "    <tr>\n",
       "      <th>237</th>\n",
       "      <td>GM0856</td>\n",
       "      <td>NaN</td>\n",
       "      <td>Uden</td>\n",
       "      <td>POLYGON ((5.58678 51.64342, 5.58628 51.64364, ...</td>\n",
       "    </tr>\n",
       "    <tr>\n",
       "      <th>287</th>\n",
       "      <td>GM1684</td>\n",
       "      <td>NaN</td>\n",
       "      <td>Cuijk</td>\n",
       "      <td>POLYGON ((5.79975 51.73437, 5.79946 51.73446, ...</td>\n",
       "    </tr>\n",
       "    <tr>\n",
       "      <th>288</th>\n",
       "      <td>GM1685</td>\n",
       "      <td>NaN</td>\n",
       "      <td>Landerd</td>\n",
       "      <td>POLYGON ((5.58222 51.73275, 5.58226 51.73291, ...</td>\n",
       "    </tr>\n",
       "    <tr>\n",
       "      <th>295</th>\n",
       "      <td>GM1702</td>\n",
       "      <td>NaN</td>\n",
       "      <td>Sint Anthonis</td>\n",
       "      <td>POLYGON ((5.77858 51.64500, 5.77880 51.64509, ...</td>\n",
       "    </tr>\n",
       "  </tbody>\n",
       "</table>\n",
       "</div>"
      ],
      "text/plain": [
       "    gm_code  perc_transitie_verhuur_koop              gm_naam  \\\n",
       "0    GM0003                          NaN           Appingedam   \n",
       "1    GM0010                          NaN             Delfzijl   \n",
       "3    GM0024                          NaN            Loppersum   \n",
       "110  GM0370                          NaN             Beemster   \n",
       "123  GM0398                          NaN        Heerhugowaard   \n",
       "130  GM0416                          NaN            Langedijk   \n",
       "142  GM0457                          NaN                Weesp   \n",
       "149  GM0501                          NaN              Brielle   \n",
       "157  GM0530                          NaN       Hellevoetsluis   \n",
       "178  GM0614                          NaN           Westvoorne   \n",
       "205  GM0756                          NaN              Boxmeer   \n",
       "217  GM0786                          NaN                Grave   \n",
       "218  GM0788                          NaN               Haaren   \n",
       "224  GM0815                          NaN  Mill en Sint Hubert   \n",
       "237  GM0856                          NaN                 Uden   \n",
       "287  GM1684                          NaN                Cuijk   \n",
       "288  GM1685                          NaN              Landerd   \n",
       "295  GM1702                          NaN        Sint Anthonis   \n",
       "\n",
       "                                              geometry  \n",
       "0    POLYGON ((6.80583 53.31703, 6.80588 53.31704, ...  \n",
       "1    MULTIPOLYGON (((7.07833 53.26658, 7.07826 53.2...  \n",
       "3    POLYGON ((6.73921 53.38812, 6.73925 53.38815, ...  \n",
       "110  POLYGON ((4.86299 52.56828, 4.86301 52.56852, ...  \n",
       "123  POLYGON ((4.82572 52.68498, 4.82572 52.68499, ...  \n",
       "130  POLYGON ((4.76743 52.69821, 4.76782 52.69827, ...  \n",
       "142  POLYGON ((5.01842 52.32434, 5.01841 52.32452, ...  \n",
       "149  POLYGON ((4.16027 51.88325, 4.16035 51.88335, ...  \n",
       "157  MULTIPOLYGON (((4.22012 51.82577, 4.22008 51.8...  \n",
       "178  POLYGON ((4.05047 51.90730, 4.05061 51.90739, ...  \n",
       "205  POLYGON ((5.92589 51.63202, 5.92586 51.63207, ...  \n",
       "217  POLYGON ((5.73202 51.77189, 5.73360 51.77086, ...  \n",
       "218  POLYGON ((5.16007 51.63954, 5.15952 51.64105, ...  \n",
       "224  POLYGON ((5.73528 51.67460, 5.73514 51.67505, ...  \n",
       "237  POLYGON ((5.58678 51.64342, 5.58628 51.64364, ...  \n",
       "287  POLYGON ((5.79975 51.73437, 5.79946 51.73446, ...  \n",
       "288  POLYGON ((5.58222 51.73275, 5.58226 51.73291, ...  \n",
       "295  POLYGON ((5.77858 51.64500, 5.77880 51.64509, ...  "
      ]
     },
     "execution_count": 12,
     "metadata": {},
     "output_type": "execute_result"
    }
   ],
   "source": [
    "# look at the rows with nan perc_transitie_verhuur_koop\n",
    "missing_values = merged_df[merged_df['perc_transitie_verhuur_koop'].isna()]\n",
    "missing_values"
   ]
  },
  {
   "cell_type": "markdown",
   "metadata": {
    "id": "a_ZrQ64i7plQ"
   },
   "source": [
    "## Save output"
   ]
  },
  {
   "cell_type": "code",
   "execution_count": 13,
   "metadata": {
    "id": "6bj2-CeR7owh"
   },
   "outputs": [],
   "source": [
    "if SAVE_OUTPUT:\n",
    "    df.to_csv(OUTPUT_DATA_PATH, sep = ';', index = False)"
   ]
  },
  {
   "cell_type": "markdown",
   "metadata": {
    "id": "xT_uQYZSbEty"
   },
   "source": [
    "## Watermark"
   ]
  },
  {
   "cell_type": "code",
   "execution_count": 14,
   "metadata": {
    "id": "iY8ZyfnAbFoO"
   },
   "outputs": [],
   "source": [
    "!python -m pip install watermark --quiet"
   ]
  },
  {
   "cell_type": "code",
   "execution_count": 15,
   "metadata": {
    "colab": {
     "base_uri": "https://localhost:8080/"
    },
    "executionInfo": {
     "elapsed": 9,
     "status": "ok",
     "timestamp": 1736162064866,
     "user": {
      "displayName": "Maaike Kuipers",
      "userId": "04147149776489660608"
     },
     "user_tz": -60
    },
    "id": "Cd2yG3BgbGE3",
    "outputId": "0f8ff0cc-078f-41b1-a4ed-e800feaa7d18"
   },
   "outputs": [],
   "source": [
    "%load_ext watermark"
   ]
  },
  {
   "cell_type": "code",
   "execution_count": 16,
   "metadata": {
    "colab": {
     "base_uri": "https://localhost:8080/"
    },
    "executionInfo": {
     "elapsed": 8,
     "status": "ok",
     "timestamp": 1736162064866,
     "user": {
      "displayName": "Maaike Kuipers",
      "userId": "04147149776489660608"
     },
     "user_tz": -60
    },
    "id": "Ef6VBO1QbI-_",
    "outputId": "a9c38a6f-4394-41eb-c543-28c10f33aa4f"
   },
   "outputs": [
    {
     "name": "stdout",
     "output_type": "stream",
     "text": [
      "Last updated: 2025-01-27T11:02:15.518615+01:00\n",
      "\n",
      "Python implementation: CPython\n",
      "Python version       : 3.11.5\n",
      "IPython version      : 8.17.2\n",
      "\n",
      "Compiler    : MSC v.1916 64 bit (AMD64)\n",
      "OS          : Windows\n",
      "Release     : 10\n",
      "Machine     : AMD64\n",
      "Processor   : Intel64 Family 6 Model 142 Stepping 10, GenuineIntel\n",
      "CPU cores   : 8\n",
      "Architecture: 64bit\n",
      "\n"
     ]
    }
   ],
   "source": [
    "%watermark"
   ]
  },
  {
   "cell_type": "code",
   "execution_count": 17,
   "metadata": {
    "colab": {
     "base_uri": "https://localhost:8080/"
    },
    "executionInfo": {
     "elapsed": 6,
     "status": "ok",
     "timestamp": 1736162064866,
     "user": {
      "displayName": "Maaike Kuipers",
      "userId": "04147149776489660608"
     },
     "user_tz": -60
    },
    "id": "EW9nOXoNbKrP",
    "outputId": "67286cae-e0c4-420b-a661-06b031347aba"
   },
   "outputs": [
    {
     "name": "stdout",
     "output_type": "stream",
     "text": [
      "numpy     : 1.26.1\n",
      "matplotlib: 3.8.1\n",
      "pandas    : 2.1.2\n",
      "geopandas : 0.14.0\n",
      "\n"
     ]
    }
   ],
   "source": [
    "%watermark --iversions"
   ]
  },
  {
   "cell_type": "code",
   "execution_count": 18,
   "metadata": {
    "colab": {
     "base_uri": "https://localhost:8080/"
    },
    "executionInfo": {
     "elapsed": 217,
     "status": "ok",
     "timestamp": 1736162065078,
     "user": {
      "displayName": "Maaike Kuipers",
      "userId": "04147149776489660608"
     },
     "user_tz": -60
    },
    "id": "2LOCLnX0bMxt",
    "outputId": "bbbf01ce-158c-47be-b1a3-9457329ab328"
   },
   "outputs": [
    {
     "name": "stderr",
     "output_type": "stream",
     "text": [
      "'lsb_release' is not recognized as an internal or external command,\n",
      "operable program or batch file.\n"
     ]
    }
   ],
   "source": [
    "!lsb_release -a"
   ]
  },
  {
   "cell_type": "code",
   "execution_count": null,
   "metadata": {
    "id": "8NsU4QLzQr0i"
   },
   "outputs": [],
   "source": []
  }
 ],
 "metadata": {
  "colab": {
   "provenance": []
  },
  "kernelspec": {
   "display_name": "ML3",
   "language": "python",
   "name": "python3"
  },
  "language_info": {
   "codemirror_mode": {
    "name": "ipython",
    "version": 3
   },
   "file_extension": ".py",
   "mimetype": "text/x-python",
   "name": "python",
   "nbconvert_exporter": "python",
   "pygments_lexer": "ipython3",
   "version": "3.11.5"
  }
 },
 "nbformat": 4,
 "nbformat_minor": 0
}

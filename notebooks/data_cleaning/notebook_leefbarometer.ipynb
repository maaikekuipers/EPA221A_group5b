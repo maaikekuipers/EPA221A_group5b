{
 "cells": [
  {
   "cell_type": "markdown",
   "metadata": {
    "id": "rP8SuqILhaPo"
   },
   "source": [
    "## Config"
   ]
  },
  {
   "cell_type": "code",
   "execution_count": 29,
   "metadata": {
    "executionInfo": {
     "elapsed": 356,
     "status": "ok",
     "timestamp": 1737968998829,
     "user": {
      "displayName": "Maaike Kuipers",
      "userId": "04147149776489660608"
     },
     "user_tz": -60
    },
    "id": "I_hrwU9x479z"
   },
   "outputs": [],
   "source": [
    "# change to raw data file\n",
    "INPUT_DATA_PATH = \"../../data/raw/leefbarometer/Leefbaarometer-scores-gemeenten-2002-2022_raw.csv\"\n",
    "INPUT_SHAPEFILE_PATH = \"../../data/gemeente_shapefiles/gemeente_shapefile.shp\"\n",
    "\n",
    "# set true or false\n",
    "SAVE_OUTPUT = True\n",
    "# change to filename\n",
    "OUTPUT_DATA_PATH = \"../../data/processed/leefbarometer_clean.csv\""
   ]
  },
  {
   "cell_type": "code",
   "execution_count": 30,
   "metadata": {
    "collapsed": true,
    "executionInfo": {
     "elapsed": 1534,
     "status": "ok",
     "timestamp": 1737969011994,
     "user": {
      "displayName": "Maaike Kuipers",
      "userId": "04147149776489660608"
     },
     "user_tz": -60
    },
    "id": "HnDB36CLTIxL"
   },
   "outputs": [],
   "source": [
    "import numpy as np\n",
    "import pandas as pd\n",
    "import geopandas as gpd\n",
    "import matplotlib.pyplot as plt\n",
    "from matplotlib.colors import Normalize, LinearSegmentedColormap"
   ]
  },
  {
   "cell_type": "markdown",
   "metadata": {
    "id": "JMxfkSGDhuDI"
   },
   "source": [
    "## Load data"
   ]
  },
  {
   "cell_type": "code",
   "execution_count": 31,
   "metadata": {
    "colab": {
     "base_uri": "https://localhost:8080/"
    },
    "executionInfo": {
     "elapsed": 3369,
     "status": "ok",
     "timestamp": 1737969015355,
     "user": {
      "displayName": "Maaike Kuipers",
      "userId": "04147149776489660608"
     },
     "user_tz": -60
    },
    "id": "rVnEtRfdTONP",
    "outputId": "c6a0eee8-54fb-4f1c-bf91-45eeffab9f7a"
   },
   "outputs": [],
   "source": [
    "# load data\n",
    "scores = pd.read_csv(INPUT_DATA_PATH, sep = ',')\n",
    "\n",
    "# read shapefile\n",
    "gdf = gpd.read_file(INPUT_SHAPEFILE_PATH, sep = ';')"
   ]
  },
  {
   "cell_type": "markdown",
   "metadata": {
    "id": "ryt3odo6h1W5"
   },
   "source": [
    "## Data management"
   ]
  },
  {
   "cell_type": "code",
   "execution_count": 32,
   "metadata": {
    "colab": {
     "base_uri": "https://localhost:8080/",
     "height": 206
    },
    "executionInfo": {
     "elapsed": 22,
     "status": "ok",
     "timestamp": 1737969015360,
     "user": {
      "displayName": "Maaike Kuipers",
      "userId": "04147149776489660608"
     },
     "user_tz": -60
    },
    "id": "Jso4OxbkDD1c",
    "outputId": "7e54ad82-9886-400d-9efb-9915e8de630b"
   },
   "outputs": [
    {
     "data": {
      "text/html": [
       "<div>\n",
       "<style scoped>\n",
       "    .dataframe tbody tr th:only-of-type {\n",
       "        vertical-align: middle;\n",
       "    }\n",
       "\n",
       "    .dataframe tbody tr th {\n",
       "        vertical-align: top;\n",
       "    }\n",
       "\n",
       "    .dataframe thead th {\n",
       "        text-align: right;\n",
       "    }\n",
       "</style>\n",
       "<table border=\"1\" class=\"dataframe\">\n",
       "  <thead>\n",
       "    <tr style=\"text-align: right;\">\n",
       "      <th></th>\n",
       "      <th>gm_code</th>\n",
       "      <th>gm_naam</th>\n",
       "      <th>jaar</th>\n",
       "      <th>lbm</th>\n",
       "      <th>afw</th>\n",
       "      <th>fys</th>\n",
       "      <th>onv</th>\n",
       "      <th>soc</th>\n",
       "      <th>vrz</th>\n",
       "      <th>won</th>\n",
       "    </tr>\n",
       "  </thead>\n",
       "  <tbody>\n",
       "    <tr>\n",
       "      <th>0</th>\n",
       "      <td>GM0014</td>\n",
       "      <td>Groningen</td>\n",
       "      <td>2002</td>\n",
       "      <td>4.045898</td>\n",
       "      <td>-0.056367</td>\n",
       "      <td>NaN</td>\n",
       "      <td>NaN</td>\n",
       "      <td>NaN</td>\n",
       "      <td>NaN</td>\n",
       "      <td>NaN</td>\n",
       "    </tr>\n",
       "    <tr>\n",
       "      <th>1</th>\n",
       "      <td>GM0014</td>\n",
       "      <td>Groningen</td>\n",
       "      <td>2008</td>\n",
       "      <td>4.089955</td>\n",
       "      <td>-0.012310</td>\n",
       "      <td>NaN</td>\n",
       "      <td>NaN</td>\n",
       "      <td>NaN</td>\n",
       "      <td>NaN</td>\n",
       "      <td>NaN</td>\n",
       "    </tr>\n",
       "    <tr>\n",
       "      <th>2</th>\n",
       "      <td>GM0014</td>\n",
       "      <td>Groningen</td>\n",
       "      <td>2012</td>\n",
       "      <td>4.123199</td>\n",
       "      <td>0.020934</td>\n",
       "      <td>NaN</td>\n",
       "      <td>NaN</td>\n",
       "      <td>NaN</td>\n",
       "      <td>NaN</td>\n",
       "      <td>NaN</td>\n",
       "    </tr>\n",
       "    <tr>\n",
       "      <th>3</th>\n",
       "      <td>GM0014</td>\n",
       "      <td>Groningen</td>\n",
       "      <td>2014</td>\n",
       "      <td>4.129275</td>\n",
       "      <td>0.027010</td>\n",
       "      <td>0.023791</td>\n",
       "      <td>-0.031338</td>\n",
       "      <td>-0.023424</td>\n",
       "      <td>0.070398</td>\n",
       "      <td>-0.012416</td>\n",
       "    </tr>\n",
       "    <tr>\n",
       "      <th>4</th>\n",
       "      <td>GM0014</td>\n",
       "      <td>Groningen</td>\n",
       "      <td>2016</td>\n",
       "      <td>4.151465</td>\n",
       "      <td>0.049200</td>\n",
       "      <td>NaN</td>\n",
       "      <td>NaN</td>\n",
       "      <td>NaN</td>\n",
       "      <td>NaN</td>\n",
       "      <td>NaN</td>\n",
       "    </tr>\n",
       "  </tbody>\n",
       "</table>\n",
       "</div>"
      ],
      "text/plain": [
       "  gm_code    gm_naam  jaar       lbm       afw       fys       onv       soc  \\\n",
       "0  GM0014  Groningen  2002  4.045898 -0.056367       NaN       NaN       NaN   \n",
       "1  GM0014  Groningen  2008  4.089955 -0.012310       NaN       NaN       NaN   \n",
       "2  GM0014  Groningen  2012  4.123199  0.020934       NaN       NaN       NaN   \n",
       "3  GM0014  Groningen  2014  4.129275  0.027010  0.023791 -0.031338 -0.023424   \n",
       "4  GM0014  Groningen  2016  4.151465  0.049200       NaN       NaN       NaN   \n",
       "\n",
       "        vrz       won  \n",
       "0       NaN       NaN  \n",
       "1       NaN       NaN  \n",
       "2       NaN       NaN  \n",
       "3  0.070398 -0.012416  \n",
       "4       NaN       NaN  "
      ]
     },
     "execution_count": 32,
     "metadata": {},
     "output_type": "execute_result"
    }
   ],
   "source": [
    "scores.head()"
   ]
  },
  {
   "cell_type": "code",
   "execution_count": 33,
   "metadata": {
    "colab": {
     "base_uri": "https://localhost:8080/",
     "height": 206
    },
    "executionInfo": {
     "elapsed": 742,
     "status": "ok",
     "timestamp": 1737969016085,
     "user": {
      "displayName": "Maaike Kuipers",
      "userId": "04147149776489660608"
     },
     "user_tz": -60
    },
    "id": "VwmKScL7F3WA",
    "outputId": "46ff19de-c99a-48b1-f6c7-8e989ee97fe8"
   },
   "outputs": [
    {
     "data": {
      "text/html": [
       "<div>\n",
       "<style scoped>\n",
       "    .dataframe tbody tr th:only-of-type {\n",
       "        vertical-align: middle;\n",
       "    }\n",
       "\n",
       "    .dataframe tbody tr th {\n",
       "        vertical-align: top;\n",
       "    }\n",
       "\n",
       "    .dataframe thead th {\n",
       "        text-align: right;\n",
       "    }\n",
       "</style>\n",
       "<table border=\"1\" class=\"dataframe\">\n",
       "  <thead>\n",
       "    <tr style=\"text-align: right;\">\n",
       "      <th></th>\n",
       "      <th>gm_code</th>\n",
       "      <th>gm_naam</th>\n",
       "      <th>geometry</th>\n",
       "    </tr>\n",
       "  </thead>\n",
       "  <tbody>\n",
       "    <tr>\n",
       "      <th>0</th>\n",
       "      <td>GM0003</td>\n",
       "      <td>Appingedam</td>\n",
       "      <td>POLYGON ((249539.950 593217.579, 249543.450 59...</td>\n",
       "    </tr>\n",
       "    <tr>\n",
       "      <th>1</th>\n",
       "      <td>GM0010</td>\n",
       "      <td>Delfzijl</td>\n",
       "      <td>MULTIPOLYGON (((267829.905 587996.480, 267824....</td>\n",
       "    </tr>\n",
       "    <tr>\n",
       "      <th>2</th>\n",
       "      <td>GM0014</td>\n",
       "      <td>Groningen</td>\n",
       "      <td>POLYGON ((227979.943 584879.819, 227981.153 58...</td>\n",
       "    </tr>\n",
       "    <tr>\n",
       "      <th>3</th>\n",
       "      <td>GM0024</td>\n",
       "      <td>Loppersum</td>\n",
       "      <td>POLYGON ((244952.159 601043.418, 244954.500 60...</td>\n",
       "    </tr>\n",
       "    <tr>\n",
       "      <th>4</th>\n",
       "      <td>GM0034</td>\n",
       "      <td>Almere</td>\n",
       "      <td>MULTIPOLYGON (((142993.687 482642.725, 142993....</td>\n",
       "    </tr>\n",
       "  </tbody>\n",
       "</table>\n",
       "</div>"
      ],
      "text/plain": [
       "  gm_code     gm_naam                                           geometry\n",
       "0  GM0003  Appingedam  POLYGON ((249539.950 593217.579, 249543.450 59...\n",
       "1  GM0010    Delfzijl  MULTIPOLYGON (((267829.905 587996.480, 267824....\n",
       "2  GM0014   Groningen  POLYGON ((227979.943 584879.819, 227981.153 58...\n",
       "3  GM0024   Loppersum  POLYGON ((244952.159 601043.418, 244954.500 60...\n",
       "4  GM0034      Almere  MULTIPOLYGON (((142993.687 482642.725, 142993...."
      ]
     },
     "execution_count": 33,
     "metadata": {},
     "output_type": "execute_result"
    }
   ],
   "source": [
    "gdf.head()"
   ]
  },
  {
   "cell_type": "code",
   "execution_count": 34,
   "metadata": {
    "executionInfo": {
     "elapsed": 32,
     "status": "ok",
     "timestamp": 1737969016087,
     "user": {
      "displayName": "Maaike Kuipers",
      "userId": "04147149776489660608"
     },
     "user_tz": -60
    },
    "id": "svNbrzVOIppE"
   },
   "outputs": [],
   "source": [
    "# rename statcode to gm_code\n",
    "gdf = gdf.rename(columns={'statnaam': 'gm_naam'})"
   ]
  },
  {
   "cell_type": "code",
   "execution_count": 35,
   "metadata": {
    "colab": {
     "base_uri": "https://localhost:8080/"
    },
    "executionInfo": {
     "elapsed": 31,
     "status": "ok",
     "timestamp": 1737969016087,
     "user": {
      "displayName": "Maaike Kuipers",
      "userId": "04147149776489660608"
     },
     "user_tz": -60
    },
    "id": "vjINIciAFpa7",
    "outputId": "ebe5d6ed-0dbd-4ee8-f4b8-bc02a3255737"
   },
   "outputs": [
    {
     "name": "stdout",
     "output_type": "stream",
     "text": [
      "<class 'pandas.core.frame.DataFrame'>\n",
      "RangeIndex: 2760 entries, 0 to 2759\n",
      "Data columns (total 10 columns):\n",
      " #   Column   Non-Null Count  Dtype  \n",
      "---  ------   --------------  -----  \n",
      " 0   gm_code  2760 non-null   object \n",
      " 1   gm_naam  2760 non-null   object \n",
      " 2   jaar     2760 non-null   int64  \n",
      " 3   lbm      2760 non-null   float64\n",
      " 4   afw      2760 non-null   float64\n",
      " 5   fys      1380 non-null   float64\n",
      " 6   onv      1380 non-null   float64\n",
      " 7   soc      1380 non-null   float64\n",
      " 8   vrz      1380 non-null   float64\n",
      " 9   won      1380 non-null   float64\n",
      "dtypes: float64(7), int64(1), object(2)\n",
      "memory usage: 215.8+ KB\n"
     ]
    }
   ],
   "source": [
    "# check for nans per column\n",
    "scores.info()"
   ]
  },
  {
   "cell_type": "code",
   "execution_count": 36,
   "metadata": {
    "colab": {
     "base_uri": "https://localhost:8080/"
    },
    "executionInfo": {
     "elapsed": 27,
     "status": "ok",
     "timestamp": 1737969016087,
     "user": {
      "displayName": "Maaike Kuipers",
      "userId": "04147149776489660608"
     },
     "user_tz": -60
    },
    "id": "U9ZlRoISLlJW",
    "outputId": "6c891b26-2ab7-4519-c3ee-8c65d60fa3d7"
   },
   "outputs": [
    {
     "data": {
      "text/plain": [
       "4.689251806830523"
      ]
     },
     "execution_count": 36,
     "metadata": {},
     "output_type": "execute_result"
    }
   ],
   "source": [
    "scores['lbm'].max()"
   ]
  },
  {
   "cell_type": "code",
   "execution_count": 37,
   "metadata": {
    "colab": {
     "base_uri": "https://localhost:8080/"
    },
    "executionInfo": {
     "elapsed": 24,
     "status": "ok",
     "timestamp": 1737969016088,
     "user": {
      "displayName": "Maaike Kuipers",
      "userId": "04147149776489660608"
     },
     "user_tz": -60
    },
    "id": "ILeULFzpF7-o",
    "outputId": "47f6f869-20d1-4d9e-e432-c6ab3def98d3"
   },
   "outputs": [
    {
     "name": "stdout",
     "output_type": "stream",
     "text": [
      "<class 'geopandas.geodataframe.GeoDataFrame'>\n",
      "RangeIndex: 355 entries, 0 to 354\n",
      "Data columns (total 3 columns):\n",
      " #   Column    Non-Null Count  Dtype   \n",
      "---  ------    --------------  -----   \n",
      " 0   gm_code   355 non-null    object  \n",
      " 1   gm_naam   355 non-null    object  \n",
      " 2   geometry  355 non-null    geometry\n",
      "dtypes: geometry(1), object(2)\n",
      "memory usage: 8.4+ KB\n"
     ]
    }
   ],
   "source": [
    "# check for nans per column\n",
    "gdf.info()"
   ]
  },
  {
   "cell_type": "markdown",
   "metadata": {
    "id": "_BZ3GlMeFeY7"
   },
   "source": [
    "For some years of municiplaties fys, onv, soc, vrz, won are not available. However, all leefbarometers are available."
   ]
  },
  {
   "cell_type": "code",
   "execution_count": 38,
   "metadata": {
    "executionInfo": {
     "elapsed": 20,
     "status": "ok",
     "timestamp": 1737969016088,
     "user": {
      "displayName": "Maaike Kuipers",
      "userId": "04147149776489660608"
     },
     "user_tz": -60
    },
    "id": "Y6ijqJiqFx9J"
   },
   "outputs": [],
   "source": [
    "# merge with shapefile\n",
    "merged_df = scores.merge(gdf, on=['gm_code', 'gm_naam'], how='right')"
   ]
  },
  {
   "cell_type": "code",
   "execution_count": 39,
   "metadata": {
    "colab": {
     "base_uri": "https://localhost:8080/"
    },
    "executionInfo": {
     "elapsed": 19,
     "status": "ok",
     "timestamp": 1737969016088,
     "user": {
      "displayName": "Maaike Kuipers",
      "userId": "04147149776489660608"
     },
     "user_tz": -60
    },
    "id": "Q2hvFwROF7I3",
    "outputId": "13d072e9-cd7f-40ec-90c7-a6ddeb1ccfb1"
   },
   "outputs": [
    {
     "name": "stdout",
     "output_type": "stream",
     "text": [
      "<class 'pandas.core.frame.DataFrame'>\n",
      "RangeIndex: 2742 entries, 0 to 2741\n",
      "Data columns (total 11 columns):\n",
      " #   Column    Non-Null Count  Dtype   \n",
      "---  ------    --------------  -----   \n",
      " 0   gm_code   2742 non-null   object  \n",
      " 1   gm_naam   2742 non-null   object  \n",
      " 2   jaar      2728 non-null   float64 \n",
      " 3   lbm       2728 non-null   float64 \n",
      " 4   afw       2728 non-null   float64 \n",
      " 5   fys       1364 non-null   float64 \n",
      " 6   onv       1364 non-null   float64 \n",
      " 7   soc       1364 non-null   float64 \n",
      " 8   vrz       1364 non-null   float64 \n",
      " 9   won       1364 non-null   float64 \n",
      " 10  geometry  2742 non-null   geometry\n",
      "dtypes: float64(8), geometry(1), object(2)\n",
      "memory usage: 235.8+ KB\n"
     ]
    }
   ],
   "source": [
    "merged_df.info()"
   ]
  },
  {
   "cell_type": "code",
   "execution_count": 40,
   "metadata": {
    "executionInfo": {
     "elapsed": 18311,
     "status": "ok",
     "timestamp": 1737969034383,
     "user": {
      "displayName": "Maaike Kuipers",
      "userId": "04147149776489660608"
     },
     "user_tz": -60
    },
    "id": "_CTXsihn6qIs"
   },
   "outputs": [],
   "source": [
    "# make it a geofaraframe\n",
    "merged_gdf = gpd.GeoDataFrame(merged_df, geometry='geometry')\n",
    "# Reproject to WGS 84 (EPSG:4326)\n",
    "merged_gdf = merged_gdf.to_crs(epsg=4326)"
   ]
  },
  {
   "cell_type": "code",
   "execution_count": 41,
   "metadata": {
    "colab": {
     "base_uri": "https://localhost:8080/",
     "height": 206
    },
    "executionInfo": {
     "elapsed": 58,
     "status": "ok",
     "timestamp": 1737969034385,
     "user": {
      "displayName": "Maaike Kuipers",
      "userId": "04147149776489660608"
     },
     "user_tz": -60
    },
    "id": "B2on5HliN0Ms",
    "outputId": "8e0ba6eb-1cba-448e-b6bb-1618dc1f1264"
   },
   "outputs": [
    {
     "data": {
      "text/html": [
       "<div>\n",
       "<style scoped>\n",
       "    .dataframe tbody tr th:only-of-type {\n",
       "        vertical-align: middle;\n",
       "    }\n",
       "\n",
       "    .dataframe tbody tr th {\n",
       "        vertical-align: top;\n",
       "    }\n",
       "\n",
       "    .dataframe thead th {\n",
       "        text-align: right;\n",
       "    }\n",
       "</style>\n",
       "<table border=\"1\" class=\"dataframe\">\n",
       "  <thead>\n",
       "    <tr style=\"text-align: right;\">\n",
       "      <th></th>\n",
       "      <th>gm_code</th>\n",
       "      <th>gm_naam</th>\n",
       "      <th>jaar</th>\n",
       "      <th>lbm</th>\n",
       "      <th>afw</th>\n",
       "      <th>fys</th>\n",
       "      <th>onv</th>\n",
       "      <th>soc</th>\n",
       "      <th>vrz</th>\n",
       "      <th>won</th>\n",
       "      <th>geometry</th>\n",
       "    </tr>\n",
       "  </thead>\n",
       "  <tbody>\n",
       "    <tr>\n",
       "      <th>0</th>\n",
       "      <td>GM0003</td>\n",
       "      <td>Appingedam</td>\n",
       "      <td>NaN</td>\n",
       "      <td>NaN</td>\n",
       "      <td>NaN</td>\n",
       "      <td>NaN</td>\n",
       "      <td>NaN</td>\n",
       "      <td>NaN</td>\n",
       "      <td>NaN</td>\n",
       "      <td>NaN</td>\n",
       "      <td>POLYGON ((249539.950 593217.579, 249543.450 59...</td>\n",
       "    </tr>\n",
       "    <tr>\n",
       "      <th>1</th>\n",
       "      <td>GM0010</td>\n",
       "      <td>Delfzijl</td>\n",
       "      <td>NaN</td>\n",
       "      <td>NaN</td>\n",
       "      <td>NaN</td>\n",
       "      <td>NaN</td>\n",
       "      <td>NaN</td>\n",
       "      <td>NaN</td>\n",
       "      <td>NaN</td>\n",
       "      <td>NaN</td>\n",
       "      <td>MULTIPOLYGON (((267829.905 587996.480, 267824....</td>\n",
       "    </tr>\n",
       "    <tr>\n",
       "      <th>10</th>\n",
       "      <td>GM0024</td>\n",
       "      <td>Loppersum</td>\n",
       "      <td>NaN</td>\n",
       "      <td>NaN</td>\n",
       "      <td>NaN</td>\n",
       "      <td>NaN</td>\n",
       "      <td>NaN</td>\n",
       "      <td>NaN</td>\n",
       "      <td>NaN</td>\n",
       "      <td>NaN</td>\n",
       "      <td>POLYGON ((244952.159 601043.418, 244954.500 60...</td>\n",
       "    </tr>\n",
       "    <tr>\n",
       "      <th>859</th>\n",
       "      <td>GM0370</td>\n",
       "      <td>Beemster</td>\n",
       "      <td>NaN</td>\n",
       "      <td>NaN</td>\n",
       "      <td>NaN</td>\n",
       "      <td>NaN</td>\n",
       "      <td>NaN</td>\n",
       "      <td>NaN</td>\n",
       "      <td>NaN</td>\n",
       "      <td>NaN</td>\n",
       "      <td>POLYGON ((119458.546 509093.046, 119460.054 50...</td>\n",
       "    </tr>\n",
       "    <tr>\n",
       "      <th>956</th>\n",
       "      <td>GM0398</td>\n",
       "      <td>Heerhugowaard</td>\n",
       "      <td>NaN</td>\n",
       "      <td>NaN</td>\n",
       "      <td>NaN</td>\n",
       "      <td>NaN</td>\n",
       "      <td>NaN</td>\n",
       "      <td>NaN</td>\n",
       "      <td>NaN</td>\n",
       "      <td>NaN</td>\n",
       "      <td>POLYGON ((117032.251 522096.714, 117032.300 52...</td>\n",
       "    </tr>\n",
       "  </tbody>\n",
       "</table>\n",
       "</div>"
      ],
      "text/plain": [
       "    gm_code        gm_naam  jaar  lbm  afw  fys  onv  soc  vrz  won  \\\n",
       "0    GM0003     Appingedam   NaN  NaN  NaN  NaN  NaN  NaN  NaN  NaN   \n",
       "1    GM0010       Delfzijl   NaN  NaN  NaN  NaN  NaN  NaN  NaN  NaN   \n",
       "10   GM0024      Loppersum   NaN  NaN  NaN  NaN  NaN  NaN  NaN  NaN   \n",
       "859  GM0370       Beemster   NaN  NaN  NaN  NaN  NaN  NaN  NaN  NaN   \n",
       "956  GM0398  Heerhugowaard   NaN  NaN  NaN  NaN  NaN  NaN  NaN  NaN   \n",
       "\n",
       "                                              geometry  \n",
       "0    POLYGON ((249539.950 593217.579, 249543.450 59...  \n",
       "1    MULTIPOLYGON (((267829.905 587996.480, 267824....  \n",
       "10   POLYGON ((244952.159 601043.418, 244954.500 60...  \n",
       "859  POLYGON ((119458.546 509093.046, 119460.054 50...  \n",
       "956  POLYGON ((117032.251 522096.714, 117032.300 52...  "
      ]
     },
     "execution_count": 41,
     "metadata": {},
     "output_type": "execute_result"
    }
   ],
   "source": [
    "# print nan values of lbm\n",
    "# some lbm scores are missing\n",
    "nan_lbm = merged_df[merged_df['lbm'].isna()]\n",
    "nan_lbm.head()"
   ]
  },
  {
   "cell_type": "code",
   "execution_count": 42,
   "metadata": {
    "colab": {
     "base_uri": "https://localhost:8080/",
     "height": 424
    },
    "executionInfo": {
     "elapsed": 3117,
     "status": "ok",
     "timestamp": 1737969037450,
     "user": {
      "displayName": "Maaike Kuipers",
      "userId": "04147149776489660608"
     },
     "user_tz": -60
    },
    "id": "gI7hWJ5qMBYp",
    "outputId": "e3a0a9e7-5a05-4a8d-90e7-d1dd0213fcca"
   },
   "outputs": [
    {
     "data": {
      "text/html": [
       "<div>\n",
       "<style scoped>\n",
       "    .dataframe tbody tr th:only-of-type {\n",
       "        vertical-align: middle;\n",
       "    }\n",
       "\n",
       "    .dataframe tbody tr th {\n",
       "        vertical-align: top;\n",
       "    }\n",
       "\n",
       "    .dataframe thead th {\n",
       "        text-align: right;\n",
       "    }\n",
       "</style>\n",
       "<table border=\"1\" class=\"dataframe\">\n",
       "  <thead>\n",
       "    <tr style=\"text-align: right;\">\n",
       "      <th></th>\n",
       "      <th>gm_code</th>\n",
       "      <th>gm_naam</th>\n",
       "      <th>jaar</th>\n",
       "      <th>lbm</th>\n",
       "      <th>afw</th>\n",
       "      <th>fys</th>\n",
       "      <th>onv</th>\n",
       "      <th>soc</th>\n",
       "      <th>vrz</th>\n",
       "      <th>won</th>\n",
       "      <th>geometry</th>\n",
       "    </tr>\n",
       "  </thead>\n",
       "  <tbody>\n",
       "    <tr>\n",
       "      <th>0</th>\n",
       "      <td>GM0003</td>\n",
       "      <td>Appingedam</td>\n",
       "      <td>NaN</td>\n",
       "      <td>NaN</td>\n",
       "      <td>NaN</td>\n",
       "      <td>NaN</td>\n",
       "      <td>NaN</td>\n",
       "      <td>NaN</td>\n",
       "      <td>NaN</td>\n",
       "      <td>NaN</td>\n",
       "      <td>POLYGON ((6.80583 53.31703, 6.80588 53.31704, ...</td>\n",
       "    </tr>\n",
       "    <tr>\n",
       "      <th>1</th>\n",
       "      <td>GM0010</td>\n",
       "      <td>Delfzijl</td>\n",
       "      <td>NaN</td>\n",
       "      <td>NaN</td>\n",
       "      <td>NaN</td>\n",
       "      <td>NaN</td>\n",
       "      <td>NaN</td>\n",
       "      <td>NaN</td>\n",
       "      <td>NaN</td>\n",
       "      <td>NaN</td>\n",
       "      <td>MULTIPOLYGON (((7.07833 53.26658, 7.07826 53.2...</td>\n",
       "    </tr>\n",
       "    <tr>\n",
       "      <th>2</th>\n",
       "      <td>GM0014</td>\n",
       "      <td>Groningen</td>\n",
       "      <td>2002.0</td>\n",
       "      <td>4.045898</td>\n",
       "      <td>-0.056367</td>\n",
       "      <td>NaN</td>\n",
       "      <td>NaN</td>\n",
       "      <td>NaN</td>\n",
       "      <td>NaN</td>\n",
       "      <td>NaN</td>\n",
       "      <td>POLYGON ((6.48047 53.24551, 6.48050 53.24579, ...</td>\n",
       "    </tr>\n",
       "    <tr>\n",
       "      <th>3</th>\n",
       "      <td>GM0014</td>\n",
       "      <td>Groningen</td>\n",
       "      <td>2008.0</td>\n",
       "      <td>4.089955</td>\n",
       "      <td>-0.012310</td>\n",
       "      <td>NaN</td>\n",
       "      <td>NaN</td>\n",
       "      <td>NaN</td>\n",
       "      <td>NaN</td>\n",
       "      <td>NaN</td>\n",
       "      <td>POLYGON ((6.48047 53.24551, 6.48050 53.24579, ...</td>\n",
       "    </tr>\n",
       "    <tr>\n",
       "      <th>4</th>\n",
       "      <td>GM0014</td>\n",
       "      <td>Groningen</td>\n",
       "      <td>2012.0</td>\n",
       "      <td>4.123199</td>\n",
       "      <td>0.020934</td>\n",
       "      <td>NaN</td>\n",
       "      <td>NaN</td>\n",
       "      <td>NaN</td>\n",
       "      <td>NaN</td>\n",
       "      <td>NaN</td>\n",
       "      <td>POLYGON ((6.48047 53.24551, 6.48050 53.24579, ...</td>\n",
       "    </tr>\n",
       "    <tr>\n",
       "      <th>...</th>\n",
       "      <td>...</td>\n",
       "      <td>...</td>\n",
       "      <td>...</td>\n",
       "      <td>...</td>\n",
       "      <td>...</td>\n",
       "      <td>...</td>\n",
       "      <td>...</td>\n",
       "      <td>...</td>\n",
       "      <td>...</td>\n",
       "      <td>...</td>\n",
       "      <td>...</td>\n",
       "    </tr>\n",
       "    <tr>\n",
       "      <th>2737</th>\n",
       "      <td>GM1978</td>\n",
       "      <td>Molenlanden</td>\n",
       "      <td>2014.0</td>\n",
       "      <td>4.102979</td>\n",
       "      <td>0.000715</td>\n",
       "      <td>-0.004494</td>\n",
       "      <td>0.080646</td>\n",
       "      <td>0.051251</td>\n",
       "      <td>-0.147532</td>\n",
       "      <td>0.020843</td>\n",
       "      <td>POLYGON ((4.62940 51.88084, 4.62932 51.88088, ...</td>\n",
       "    </tr>\n",
       "    <tr>\n",
       "      <th>2738</th>\n",
       "      <td>GM1978</td>\n",
       "      <td>Molenlanden</td>\n",
       "      <td>2016.0</td>\n",
       "      <td>4.118999</td>\n",
       "      <td>0.016734</td>\n",
       "      <td>NaN</td>\n",
       "      <td>NaN</td>\n",
       "      <td>NaN</td>\n",
       "      <td>NaN</td>\n",
       "      <td>NaN</td>\n",
       "      <td>POLYGON ((4.62940 51.88084, 4.62932 51.88088, ...</td>\n",
       "    </tr>\n",
       "    <tr>\n",
       "      <th>2739</th>\n",
       "      <td>GM1978</td>\n",
       "      <td>Molenlanden</td>\n",
       "      <td>2018.0</td>\n",
       "      <td>4.114004</td>\n",
       "      <td>0.011739</td>\n",
       "      <td>-0.006625</td>\n",
       "      <td>0.086057</td>\n",
       "      <td>0.048165</td>\n",
       "      <td>-0.139700</td>\n",
       "      <td>0.023843</td>\n",
       "      <td>POLYGON ((4.62940 51.88084, 4.62932 51.88088, ...</td>\n",
       "    </tr>\n",
       "    <tr>\n",
       "      <th>2740</th>\n",
       "      <td>GM1978</td>\n",
       "      <td>Molenlanden</td>\n",
       "      <td>2020.0</td>\n",
       "      <td>4.125291</td>\n",
       "      <td>0.023026</td>\n",
       "      <td>-0.004530</td>\n",
       "      <td>0.089176</td>\n",
       "      <td>0.042746</td>\n",
       "      <td>-0.128014</td>\n",
       "      <td>0.023648</td>\n",
       "      <td>POLYGON ((4.62940 51.88084, 4.62932 51.88088, ...</td>\n",
       "    </tr>\n",
       "    <tr>\n",
       "      <th>2741</th>\n",
       "      <td>GM1978</td>\n",
       "      <td>Molenlanden</td>\n",
       "      <td>2022.0</td>\n",
       "      <td>4.107962</td>\n",
       "      <td>0.005697</td>\n",
       "      <td>-0.004871</td>\n",
       "      <td>0.086729</td>\n",
       "      <td>0.038811</td>\n",
       "      <td>-0.145367</td>\n",
       "      <td>0.030396</td>\n",
       "      <td>POLYGON ((4.62940 51.88084, 4.62932 51.88088, ...</td>\n",
       "    </tr>\n",
       "  </tbody>\n",
       "</table>\n",
       "<p>2742 rows × 11 columns</p>\n",
       "</div>"
      ],
      "text/plain": [
       "     gm_code      gm_naam    jaar       lbm       afw       fys       onv  \\\n",
       "0     GM0003   Appingedam     NaN       NaN       NaN       NaN       NaN   \n",
       "1     GM0010     Delfzijl     NaN       NaN       NaN       NaN       NaN   \n",
       "2     GM0014    Groningen  2002.0  4.045898 -0.056367       NaN       NaN   \n",
       "3     GM0014    Groningen  2008.0  4.089955 -0.012310       NaN       NaN   \n",
       "4     GM0014    Groningen  2012.0  4.123199  0.020934       NaN       NaN   \n",
       "...      ...          ...     ...       ...       ...       ...       ...   \n",
       "2737  GM1978  Molenlanden  2014.0  4.102979  0.000715 -0.004494  0.080646   \n",
       "2738  GM1978  Molenlanden  2016.0  4.118999  0.016734       NaN       NaN   \n",
       "2739  GM1978  Molenlanden  2018.0  4.114004  0.011739 -0.006625  0.086057   \n",
       "2740  GM1978  Molenlanden  2020.0  4.125291  0.023026 -0.004530  0.089176   \n",
       "2741  GM1978  Molenlanden  2022.0  4.107962  0.005697 -0.004871  0.086729   \n",
       "\n",
       "           soc       vrz       won  \\\n",
       "0          NaN       NaN       NaN   \n",
       "1          NaN       NaN       NaN   \n",
       "2          NaN       NaN       NaN   \n",
       "3          NaN       NaN       NaN   \n",
       "4          NaN       NaN       NaN   \n",
       "...        ...       ...       ...   \n",
       "2737  0.051251 -0.147532  0.020843   \n",
       "2738       NaN       NaN       NaN   \n",
       "2739  0.048165 -0.139700  0.023843   \n",
       "2740  0.042746 -0.128014  0.023648   \n",
       "2741  0.038811 -0.145367  0.030396   \n",
       "\n",
       "                                               geometry  \n",
       "0     POLYGON ((6.80583 53.31703, 6.80588 53.31704, ...  \n",
       "1     MULTIPOLYGON (((7.07833 53.26658, 7.07826 53.2...  \n",
       "2     POLYGON ((6.48047 53.24551, 6.48050 53.24579, ...  \n",
       "3     POLYGON ((6.48047 53.24551, 6.48050 53.24579, ...  \n",
       "4     POLYGON ((6.48047 53.24551, 6.48050 53.24579, ...  \n",
       "...                                                 ...  \n",
       "2737  POLYGON ((4.62940 51.88084, 4.62932 51.88088, ...  \n",
       "2738  POLYGON ((4.62940 51.88084, 4.62932 51.88088, ...  \n",
       "2739  POLYGON ((4.62940 51.88084, 4.62932 51.88088, ...  \n",
       "2740  POLYGON ((4.62940 51.88084, 4.62932 51.88088, ...  \n",
       "2741  POLYGON ((4.62940 51.88084, 4.62932 51.88088, ...  \n",
       "\n",
       "[2742 rows x 11 columns]"
      ]
     },
     "execution_count": 42,
     "metadata": {},
     "output_type": "execute_result"
    }
   ],
   "source": [
    "merged_gdf"
   ]
  },
  {
   "cell_type": "code",
   "execution_count": 43,
   "metadata": {
    "colab": {
     "base_uri": "https://localhost:8080/"
    },
    "executionInfo": {
     "elapsed": 33,
     "status": "ok",
     "timestamp": 1737969037451,
     "user": {
      "displayName": "Maaike Kuipers",
      "userId": "04147149776489660608"
     },
     "user_tz": -60
    },
    "id": "oMM7bbkOGWfP",
    "outputId": "69224b84-bc35-4f48-9c6e-1486b9059c31"
   },
   "outputs": [
    {
     "name": "stdout",
     "output_type": "stream",
     "text": [
      "gm_naam in scores but not in gdf:\n",
      "['Land van Cuijk', 'Dijk en Waard', 'Eemsdelta', 'Maashorst']\n"
     ]
    }
   ],
   "source": [
    "# look which gm_naam is in scores and not in gdf\n",
    "scores_gm_naam = set(scores[\"gm_naam\"].unique())\n",
    "gdf_gm_naam = set(gdf[\"gm_naam\"].unique())\n",
    "\n",
    "# Find gm_naam in scores but not in gdf\n",
    "missing_in_gdf = scores_gm_naam - gdf_gm_naam\n",
    "\n",
    "# Convert the result to a list or DataFrame for display\n",
    "missing_in_gdf_list = list(missing_in_gdf)\n",
    "print(\"gm_naam in scores but not in gdf:\")\n",
    "print(missing_in_gdf_list)"
   ]
  },
  {
   "cell_type": "code",
   "execution_count": 44,
   "metadata": {
    "colab": {
     "base_uri": "https://localhost:8080/"
    },
    "executionInfo": {
     "elapsed": 27,
     "status": "ok",
     "timestamp": 1737969037451,
     "user": {
      "displayName": "Maaike Kuipers",
      "userId": "04147149776489660608"
     },
     "user_tz": -60
    },
    "id": "GEtE-9G_Jj_x",
    "outputId": "b222ff0f-96ef-4e7e-aba9-2c93ab5f6120"
   },
   "outputs": [
    {
     "name": "stdout",
     "output_type": "stream",
     "text": [
      "gm_naam in gdf but not in scores:\n",
      "{'Uden', 'Mill en Sint Hubert', 'Langedijk', 'Haaren', 'Delfzijl', 'Sint Anthonis', 'Landerd', 'Grave', 'Cuijk', 'Loppersum', 'Boxmeer', 'Appingedam', 'Heerhugowaard', 'Beemster'}\n"
     ]
    }
   ],
   "source": [
    "# look which gm_naam is in gdf and not in scores\n",
    "scores_gm_naam = set(scores[\"gm_naam\"].unique())\n",
    "gdf_gm_naam = set(gdf[\"gm_naam\"].unique())\n",
    "\n",
    "# Find gm_naam in scores but not in gdf\n",
    "missing_in_scores = gdf_gm_naam - scores_gm_naam\n",
    "\n",
    "# Convert the result to a list or DataFrame for display\n",
    "missing_in_scores_list = list(missing_in_scores)\n",
    "print(\"gm_naam in gdf but not in scores:\")\n",
    "print(missing_in_scores)"
   ]
  },
  {
   "cell_type": "code",
   "execution_count": 45,
   "metadata": {
    "executionInfo": {
     "elapsed": 20,
     "status": "ok",
     "timestamp": 1737969037452,
     "user": {
      "displayName": "Maaike Kuipers",
      "userId": "04147149776489660608"
     },
     "user_tz": -60
    },
    "id": "j0zYiqLNJvXx"
   },
   "outputs": [],
   "source": [
    "# for now, drop these nans\n",
    "merged_gdf = merged_gdf.dropna(subset=['lbm'])"
   ]
  },
  {
   "cell_type": "code",
   "execution_count": 46,
   "metadata": {
    "colab": {
     "base_uri": "https://localhost:8080/",
     "height": 206
    },
    "executionInfo": {
     "elapsed": 1917,
     "status": "ok",
     "timestamp": 1737969039350,
     "user": {
      "displayName": "Maaike Kuipers",
      "userId": "04147149776489660608"
     },
     "user_tz": -60
    },
    "id": "CA3A2eeVLCEd",
    "outputId": "1c36cc2e-866e-41fa-f864-c79d6ab7b310"
   },
   "outputs": [
    {
     "data": {
      "text/html": [
       "<div>\n",
       "<style scoped>\n",
       "    .dataframe tbody tr th:only-of-type {\n",
       "        vertical-align: middle;\n",
       "    }\n",
       "\n",
       "    .dataframe tbody tr th {\n",
       "        vertical-align: top;\n",
       "    }\n",
       "\n",
       "    .dataframe thead th {\n",
       "        text-align: right;\n",
       "    }\n",
       "</style>\n",
       "<table border=\"1\" class=\"dataframe\">\n",
       "  <thead>\n",
       "    <tr style=\"text-align: right;\">\n",
       "      <th></th>\n",
       "      <th>gm_code</th>\n",
       "      <th>gm_naam</th>\n",
       "      <th>jaar</th>\n",
       "      <th>lbm</th>\n",
       "      <th>geometry</th>\n",
       "    </tr>\n",
       "  </thead>\n",
       "  <tbody>\n",
       "    <tr>\n",
       "      <th>2</th>\n",
       "      <td>GM0014</td>\n",
       "      <td>Groningen</td>\n",
       "      <td>2002.0</td>\n",
       "      <td>4.045898</td>\n",
       "      <td>POLYGON ((6.48047 53.24551, 6.48050 53.24579, ...</td>\n",
       "    </tr>\n",
       "    <tr>\n",
       "      <th>3</th>\n",
       "      <td>GM0014</td>\n",
       "      <td>Groningen</td>\n",
       "      <td>2008.0</td>\n",
       "      <td>4.089955</td>\n",
       "      <td>POLYGON ((6.48047 53.24551, 6.48050 53.24579, ...</td>\n",
       "    </tr>\n",
       "    <tr>\n",
       "      <th>4</th>\n",
       "      <td>GM0014</td>\n",
       "      <td>Groningen</td>\n",
       "      <td>2012.0</td>\n",
       "      <td>4.123199</td>\n",
       "      <td>POLYGON ((6.48047 53.24551, 6.48050 53.24579, ...</td>\n",
       "    </tr>\n",
       "    <tr>\n",
       "      <th>5</th>\n",
       "      <td>GM0014</td>\n",
       "      <td>Groningen</td>\n",
       "      <td>2014.0</td>\n",
       "      <td>4.129275</td>\n",
       "      <td>POLYGON ((6.48047 53.24551, 6.48050 53.24579, ...</td>\n",
       "    </tr>\n",
       "    <tr>\n",
       "      <th>6</th>\n",
       "      <td>GM0014</td>\n",
       "      <td>Groningen</td>\n",
       "      <td>2016.0</td>\n",
       "      <td>4.151465</td>\n",
       "      <td>POLYGON ((6.48047 53.24551, 6.48050 53.24579, ...</td>\n",
       "    </tr>\n",
       "  </tbody>\n",
       "</table>\n",
       "</div>"
      ],
      "text/plain": [
       "  gm_code    gm_naam    jaar       lbm  \\\n",
       "2  GM0014  Groningen  2002.0  4.045898   \n",
       "3  GM0014  Groningen  2008.0  4.089955   \n",
       "4  GM0014  Groningen  2012.0  4.123199   \n",
       "5  GM0014  Groningen  2014.0  4.129275   \n",
       "6  GM0014  Groningen  2016.0  4.151465   \n",
       "\n",
       "                                            geometry  \n",
       "2  POLYGON ((6.48047 53.24551, 6.48050 53.24579, ...  \n",
       "3  POLYGON ((6.48047 53.24551, 6.48050 53.24579, ...  \n",
       "4  POLYGON ((6.48047 53.24551, 6.48050 53.24579, ...  \n",
       "5  POLYGON ((6.48047 53.24551, 6.48050 53.24579, ...  \n",
       "6  POLYGON ((6.48047 53.24551, 6.48050 53.24579, ...  "
      ]
     },
     "execution_count": 46,
     "metadata": {},
     "output_type": "execute_result"
    }
   ],
   "source": [
    "# drop all columns except for gm_code, gm_naam, jaar, lbm and geometry\n",
    "merged_gdf = merged_gdf[['gm_code', 'gm_naam', 'jaar', 'lbm', 'geometry']]\n",
    "merged_gdf.head()"
   ]
  },
  {
   "cell_type": "code",
   "execution_count": 47,
   "metadata": {
    "colab": {
     "base_uri": "https://localhost:8080/",
     "height": 424
    },
    "executionInfo": {
     "elapsed": 1834,
     "status": "ok",
     "timestamp": 1737969041159,
     "user": {
      "displayName": "Maaike Kuipers",
      "userId": "04147149776489660608"
     },
     "user_tz": -60
    },
    "id": "zktSrpBBHeIJ",
    "outputId": "2d5aa368-832a-4d4f-ead4-47a38e7db049"
   },
   "outputs": [
    {
     "data": {
      "text/html": [
       "<div>\n",
       "<style scoped>\n",
       "    .dataframe tbody tr th:only-of-type {\n",
       "        vertical-align: middle;\n",
       "    }\n",
       "\n",
       "    .dataframe tbody tr th {\n",
       "        vertical-align: top;\n",
       "    }\n",
       "\n",
       "    .dataframe thead th {\n",
       "        text-align: right;\n",
       "    }\n",
       "</style>\n",
       "<table border=\"1\" class=\"dataframe\">\n",
       "  <thead>\n",
       "    <tr style=\"text-align: right;\">\n",
       "      <th></th>\n",
       "      <th>gm_code</th>\n",
       "      <th>gm_naam</th>\n",
       "      <th>jaar</th>\n",
       "      <th>lbm</th>\n",
       "      <th>geometry</th>\n",
       "    </tr>\n",
       "  </thead>\n",
       "  <tbody>\n",
       "    <tr>\n",
       "      <th>2</th>\n",
       "      <td>GM0014</td>\n",
       "      <td>Groningen</td>\n",
       "      <td>2002</td>\n",
       "      <td>4.045898</td>\n",
       "      <td>POLYGON ((6.48047 53.24551, 6.48050 53.24579, ...</td>\n",
       "    </tr>\n",
       "    <tr>\n",
       "      <th>3</th>\n",
       "      <td>GM0014</td>\n",
       "      <td>Groningen</td>\n",
       "      <td>2008</td>\n",
       "      <td>4.089955</td>\n",
       "      <td>POLYGON ((6.48047 53.24551, 6.48050 53.24579, ...</td>\n",
       "    </tr>\n",
       "    <tr>\n",
       "      <th>4</th>\n",
       "      <td>GM0014</td>\n",
       "      <td>Groningen</td>\n",
       "      <td>2012</td>\n",
       "      <td>4.123199</td>\n",
       "      <td>POLYGON ((6.48047 53.24551, 6.48050 53.24579, ...</td>\n",
       "    </tr>\n",
       "    <tr>\n",
       "      <th>5</th>\n",
       "      <td>GM0014</td>\n",
       "      <td>Groningen</td>\n",
       "      <td>2014</td>\n",
       "      <td>4.129275</td>\n",
       "      <td>POLYGON ((6.48047 53.24551, 6.48050 53.24579, ...</td>\n",
       "    </tr>\n",
       "    <tr>\n",
       "      <th>6</th>\n",
       "      <td>GM0014</td>\n",
       "      <td>Groningen</td>\n",
       "      <td>2016</td>\n",
       "      <td>4.151465</td>\n",
       "      <td>POLYGON ((6.48047 53.24551, 6.48050 53.24579, ...</td>\n",
       "    </tr>\n",
       "    <tr>\n",
       "      <th>...</th>\n",
       "      <td>...</td>\n",
       "      <td>...</td>\n",
       "      <td>...</td>\n",
       "      <td>...</td>\n",
       "      <td>...</td>\n",
       "    </tr>\n",
       "    <tr>\n",
       "      <th>2737</th>\n",
       "      <td>GM1978</td>\n",
       "      <td>Molenlanden</td>\n",
       "      <td>2014</td>\n",
       "      <td>4.102979</td>\n",
       "      <td>POLYGON ((4.62940 51.88084, 4.62932 51.88088, ...</td>\n",
       "    </tr>\n",
       "    <tr>\n",
       "      <th>2738</th>\n",
       "      <td>GM1978</td>\n",
       "      <td>Molenlanden</td>\n",
       "      <td>2016</td>\n",
       "      <td>4.118999</td>\n",
       "      <td>POLYGON ((4.62940 51.88084, 4.62932 51.88088, ...</td>\n",
       "    </tr>\n",
       "    <tr>\n",
       "      <th>2739</th>\n",
       "      <td>GM1978</td>\n",
       "      <td>Molenlanden</td>\n",
       "      <td>2018</td>\n",
       "      <td>4.114004</td>\n",
       "      <td>POLYGON ((4.62940 51.88084, 4.62932 51.88088, ...</td>\n",
       "    </tr>\n",
       "    <tr>\n",
       "      <th>2740</th>\n",
       "      <td>GM1978</td>\n",
       "      <td>Molenlanden</td>\n",
       "      <td>2020</td>\n",
       "      <td>4.125291</td>\n",
       "      <td>POLYGON ((4.62940 51.88084, 4.62932 51.88088, ...</td>\n",
       "    </tr>\n",
       "    <tr>\n",
       "      <th>2741</th>\n",
       "      <td>GM1978</td>\n",
       "      <td>Molenlanden</td>\n",
       "      <td>2022</td>\n",
       "      <td>4.107962</td>\n",
       "      <td>POLYGON ((4.62940 51.88084, 4.62932 51.88088, ...</td>\n",
       "    </tr>\n",
       "  </tbody>\n",
       "</table>\n",
       "<p>2728 rows × 5 columns</p>\n",
       "</div>"
      ],
      "text/plain": [
       "     gm_code      gm_naam  jaar       lbm  \\\n",
       "2     GM0014    Groningen  2002  4.045898   \n",
       "3     GM0014    Groningen  2008  4.089955   \n",
       "4     GM0014    Groningen  2012  4.123199   \n",
       "5     GM0014    Groningen  2014  4.129275   \n",
       "6     GM0014    Groningen  2016  4.151465   \n",
       "...      ...          ...   ...       ...   \n",
       "2737  GM1978  Molenlanden  2014  4.102979   \n",
       "2738  GM1978  Molenlanden  2016  4.118999   \n",
       "2739  GM1978  Molenlanden  2018  4.114004   \n",
       "2740  GM1978  Molenlanden  2020  4.125291   \n",
       "2741  GM1978  Molenlanden  2022  4.107962   \n",
       "\n",
       "                                               geometry  \n",
       "2     POLYGON ((6.48047 53.24551, 6.48050 53.24579, ...  \n",
       "3     POLYGON ((6.48047 53.24551, 6.48050 53.24579, ...  \n",
       "4     POLYGON ((6.48047 53.24551, 6.48050 53.24579, ...  \n",
       "5     POLYGON ((6.48047 53.24551, 6.48050 53.24579, ...  \n",
       "6     POLYGON ((6.48047 53.24551, 6.48050 53.24579, ...  \n",
       "...                                                 ...  \n",
       "2737  POLYGON ((4.62940 51.88084, 4.62932 51.88088, ...  \n",
       "2738  POLYGON ((4.62940 51.88084, 4.62932 51.88088, ...  \n",
       "2739  POLYGON ((4.62940 51.88084, 4.62932 51.88088, ...  \n",
       "2740  POLYGON ((4.62940 51.88084, 4.62932 51.88088, ...  \n",
       "2741  POLYGON ((4.62940 51.88084, 4.62932 51.88088, ...  \n",
       "\n",
       "[2728 rows x 5 columns]"
      ]
     },
     "execution_count": 47,
     "metadata": {},
     "output_type": "execute_result"
    }
   ],
   "source": [
    "merged_gdf['jaar'] = merged_gdf['jaar'].astype('int')\n",
    "merged_gdf"
   ]
  },
  {
   "cell_type": "code",
   "execution_count": 48,
   "metadata": {
    "colab": {
     "base_uri": "https://localhost:8080/",
     "height": 238
    },
    "executionInfo": {
     "elapsed": 1146,
     "status": "ok",
     "timestamp": 1737969042293,
     "user": {
      "displayName": "Maaike Kuipers",
      "userId": "04147149776489660608"
     },
     "user_tz": -60
    },
    "id": "q4o5kcfWHqH6",
    "outputId": "837b7c1a-4c70-4a58-e8eb-203a09a5f715"
   },
   "outputs": [
    {
     "data": {
      "text/html": [
       "<div>\n",
       "<style scoped>\n",
       "    .dataframe tbody tr th:only-of-type {\n",
       "        vertical-align: middle;\n",
       "    }\n",
       "\n",
       "    .dataframe tbody tr th {\n",
       "        vertical-align: top;\n",
       "    }\n",
       "\n",
       "    .dataframe thead th {\n",
       "        text-align: right;\n",
       "    }\n",
       "</style>\n",
       "<table border=\"1\" class=\"dataframe\">\n",
       "  <thead>\n",
       "    <tr style=\"text-align: right;\">\n",
       "      <th></th>\n",
       "      <th>2002</th>\n",
       "      <th>2008</th>\n",
       "      <th>2012</th>\n",
       "      <th>2014</th>\n",
       "      <th>2016</th>\n",
       "      <th>2018</th>\n",
       "      <th>2020</th>\n",
       "      <th>2022</th>\n",
       "      <th>gm_code</th>\n",
       "      <th>geometry</th>\n",
       "    </tr>\n",
       "    <tr>\n",
       "      <th>gm_naam</th>\n",
       "      <th></th>\n",
       "      <th></th>\n",
       "      <th></th>\n",
       "      <th></th>\n",
       "      <th></th>\n",
       "      <th></th>\n",
       "      <th></th>\n",
       "      <th></th>\n",
       "      <th></th>\n",
       "      <th></th>\n",
       "    </tr>\n",
       "  </thead>\n",
       "  <tbody>\n",
       "    <tr>\n",
       "      <th>'s-Gravenhage</th>\n",
       "      <td>4.062348</td>\n",
       "      <td>4.065541</td>\n",
       "      <td>4.041840</td>\n",
       "      <td>4.031019</td>\n",
       "      <td>4.077424</td>\n",
       "      <td>4.099340</td>\n",
       "      <td>4.106839</td>\n",
       "      <td>4.134549</td>\n",
       "      <td>GM0518</td>\n",
       "      <td>MULTIPOLYGON (((4.19210 52.05797, 4.19197 52.0...</td>\n",
       "    </tr>\n",
       "    <tr>\n",
       "      <th>'s-Hertogenbosch</th>\n",
       "      <td>3.972506</td>\n",
       "      <td>4.002900</td>\n",
       "      <td>4.017644</td>\n",
       "      <td>4.054725</td>\n",
       "      <td>4.092917</td>\n",
       "      <td>4.101404</td>\n",
       "      <td>4.117857</td>\n",
       "      <td>4.118029</td>\n",
       "      <td>GM0796</td>\n",
       "      <td>POLYGON ((5.22752 51.72715, 5.22749 51.72715, ...</td>\n",
       "    </tr>\n",
       "    <tr>\n",
       "      <th>Aa en Hunze</th>\n",
       "      <td>4.192350</td>\n",
       "      <td>4.187574</td>\n",
       "      <td>4.215539</td>\n",
       "      <td>4.234321</td>\n",
       "      <td>4.241116</td>\n",
       "      <td>4.249099</td>\n",
       "      <td>4.225308</td>\n",
       "      <td>4.227829</td>\n",
       "      <td>GM1680</td>\n",
       "      <td>POLYGON ((6.64801 53.02826, 6.64786 53.02879, ...</td>\n",
       "    </tr>\n",
       "    <tr>\n",
       "      <th>Aalsmeer</th>\n",
       "      <td>4.065392</td>\n",
       "      <td>4.079211</td>\n",
       "      <td>4.091437</td>\n",
       "      <td>4.092970</td>\n",
       "      <td>4.063587</td>\n",
       "      <td>4.113765</td>\n",
       "      <td>4.118463</td>\n",
       "      <td>4.116335</td>\n",
       "      <td>GM0358</td>\n",
       "      <td>POLYGON ((4.79444 52.29627, 4.79445 52.29628, ...</td>\n",
       "    </tr>\n",
       "    <tr>\n",
       "      <th>Aalten</th>\n",
       "      <td>4.097104</td>\n",
       "      <td>4.088877</td>\n",
       "      <td>4.101236</td>\n",
       "      <td>4.108180</td>\n",
       "      <td>4.130035</td>\n",
       "      <td>4.129945</td>\n",
       "      <td>4.140398</td>\n",
       "      <td>4.136142</td>\n",
       "      <td>GM0197</td>\n",
       "      <td>POLYGON ((6.63918 51.93247, 6.63973 51.93217, ...</td>\n",
       "    </tr>\n",
       "  </tbody>\n",
       "</table>\n",
       "</div>"
      ],
      "text/plain": [
       "                      2002      2008      2012      2014      2016      2018  \\\n",
       "gm_naam                                                                        \n",
       "'s-Gravenhage     4.062348  4.065541  4.041840  4.031019  4.077424  4.099340   \n",
       "'s-Hertogenbosch  3.972506  4.002900  4.017644  4.054725  4.092917  4.101404   \n",
       "Aa en Hunze       4.192350  4.187574  4.215539  4.234321  4.241116  4.249099   \n",
       "Aalsmeer          4.065392  4.079211  4.091437  4.092970  4.063587  4.113765   \n",
       "Aalten            4.097104  4.088877  4.101236  4.108180  4.130035  4.129945   \n",
       "\n",
       "                      2020      2022 gm_code  \\\n",
       "gm_naam                                        \n",
       "'s-Gravenhage     4.106839  4.134549  GM0518   \n",
       "'s-Hertogenbosch  4.117857  4.118029  GM0796   \n",
       "Aa en Hunze       4.225308  4.227829  GM1680   \n",
       "Aalsmeer          4.118463  4.116335  GM0358   \n",
       "Aalten            4.140398  4.136142  GM0197   \n",
       "\n",
       "                                                           geometry  \n",
       "gm_naam                                                              \n",
       "'s-Gravenhage     MULTIPOLYGON (((4.19210 52.05797, 4.19197 52.0...  \n",
       "'s-Hertogenbosch  POLYGON ((5.22752 51.72715, 5.22749 51.72715, ...  \n",
       "Aa en Hunze       POLYGON ((6.64801 53.02826, 6.64786 53.02879, ...  \n",
       "Aalsmeer          POLYGON ((4.79444 52.29627, 4.79445 52.29628, ...  \n",
       "Aalten            POLYGON ((6.63918 51.93247, 6.63973 51.93217, ...  "
      ]
     },
     "execution_count": 48,
     "metadata": {},
     "output_type": "execute_result"
    }
   ],
   "source": [
    "# Make a backup of gm_code and geometry\n",
    "metadata = merged_gdf[['gm_naam', 'gm_code', 'geometry']].drop_duplicates()\n",
    "\n",
    "# Pivot for lbm\n",
    "pivoted_lbm = merged_gdf.pivot(index='jaar', columns='gm_naam', values='lbm')\n",
    "\n",
    "# Set the metadata index to gm_name and add it to the result\n",
    "metadata = metadata.set_index('gm_naam')\n",
    "pivoted_lbm = pivoted_lbm.T  # Transpose to make gm_name as index\n",
    "pivoted_lbm = pivoted_lbm.join(metadata[['gm_code', 'geometry']])  # Add metadata\n",
    "\n",
    "# Check the result\n",
    "pivoted_lbm.head()"
   ]
  },
  {
   "cell_type": "code",
   "execution_count": 49,
   "metadata": {
    "colab": {
     "base_uri": "https://localhost:8080/",
     "height": 424
    },
    "executionInfo": {
     "elapsed": 1267,
     "status": "ok",
     "timestamp": 1737969043550,
     "user": {
      "displayName": "Maaike Kuipers",
      "userId": "04147149776489660608"
     },
     "user_tz": -60
    },
    "id": "eXCFQo9-JB2E",
    "outputId": "14baf74b-9099-4983-9197-70b0e06f0190"
   },
   "outputs": [
    {
     "data": {
      "text/html": [
       "<div>\n",
       "<style scoped>\n",
       "    .dataframe tbody tr th:only-of-type {\n",
       "        vertical-align: middle;\n",
       "    }\n",
       "\n",
       "    .dataframe tbody tr th {\n",
       "        vertical-align: top;\n",
       "    }\n",
       "\n",
       "    .dataframe thead th {\n",
       "        text-align: right;\n",
       "    }\n",
       "</style>\n",
       "<table border=\"1\" class=\"dataframe\">\n",
       "  <thead>\n",
       "    <tr style=\"text-align: right;\">\n",
       "      <th></th>\n",
       "      <th>gm_naam</th>\n",
       "      <th>2002</th>\n",
       "      <th>2008</th>\n",
       "      <th>2012</th>\n",
       "      <th>2014</th>\n",
       "      <th>2016</th>\n",
       "      <th>2018</th>\n",
       "      <th>2020</th>\n",
       "      <th>2022</th>\n",
       "      <th>gm_code</th>\n",
       "      <th>geometry</th>\n",
       "    </tr>\n",
       "  </thead>\n",
       "  <tbody>\n",
       "    <tr>\n",
       "      <th>0</th>\n",
       "      <td>'s-Gravenhage</td>\n",
       "      <td>4.062348</td>\n",
       "      <td>4.065541</td>\n",
       "      <td>4.041840</td>\n",
       "      <td>4.031019</td>\n",
       "      <td>4.077424</td>\n",
       "      <td>4.099340</td>\n",
       "      <td>4.106839</td>\n",
       "      <td>4.134549</td>\n",
       "      <td>GM0518</td>\n",
       "      <td>MULTIPOLYGON (((4.19210 52.05797, 4.19197 52.0...</td>\n",
       "    </tr>\n",
       "    <tr>\n",
       "      <th>1</th>\n",
       "      <td>'s-Hertogenbosch</td>\n",
       "      <td>3.972506</td>\n",
       "      <td>4.002900</td>\n",
       "      <td>4.017644</td>\n",
       "      <td>4.054725</td>\n",
       "      <td>4.092917</td>\n",
       "      <td>4.101404</td>\n",
       "      <td>4.117857</td>\n",
       "      <td>4.118029</td>\n",
       "      <td>GM0796</td>\n",
       "      <td>POLYGON ((5.22752 51.72715, 5.22749 51.72715, ...</td>\n",
       "    </tr>\n",
       "    <tr>\n",
       "      <th>2</th>\n",
       "      <td>Aa en Hunze</td>\n",
       "      <td>4.192350</td>\n",
       "      <td>4.187574</td>\n",
       "      <td>4.215539</td>\n",
       "      <td>4.234321</td>\n",
       "      <td>4.241116</td>\n",
       "      <td>4.249099</td>\n",
       "      <td>4.225308</td>\n",
       "      <td>4.227829</td>\n",
       "      <td>GM1680</td>\n",
       "      <td>POLYGON ((6.64801 53.02826, 6.64786 53.02879, ...</td>\n",
       "    </tr>\n",
       "    <tr>\n",
       "      <th>3</th>\n",
       "      <td>Aalsmeer</td>\n",
       "      <td>4.065392</td>\n",
       "      <td>4.079211</td>\n",
       "      <td>4.091437</td>\n",
       "      <td>4.092970</td>\n",
       "      <td>4.063587</td>\n",
       "      <td>4.113765</td>\n",
       "      <td>4.118463</td>\n",
       "      <td>4.116335</td>\n",
       "      <td>GM0358</td>\n",
       "      <td>POLYGON ((4.79444 52.29627, 4.79445 52.29628, ...</td>\n",
       "    </tr>\n",
       "    <tr>\n",
       "      <th>4</th>\n",
       "      <td>Aalten</td>\n",
       "      <td>4.097104</td>\n",
       "      <td>4.088877</td>\n",
       "      <td>4.101236</td>\n",
       "      <td>4.108180</td>\n",
       "      <td>4.130035</td>\n",
       "      <td>4.129945</td>\n",
       "      <td>4.140398</td>\n",
       "      <td>4.136142</td>\n",
       "      <td>GM0197</td>\n",
       "      <td>POLYGON ((6.63918 51.93247, 6.63973 51.93217, ...</td>\n",
       "    </tr>\n",
       "    <tr>\n",
       "      <th>...</th>\n",
       "      <td>...</td>\n",
       "      <td>...</td>\n",
       "      <td>...</td>\n",
       "      <td>...</td>\n",
       "      <td>...</td>\n",
       "      <td>...</td>\n",
       "      <td>...</td>\n",
       "      <td>...</td>\n",
       "      <td>...</td>\n",
       "      <td>...</td>\n",
       "      <td>...</td>\n",
       "    </tr>\n",
       "    <tr>\n",
       "      <th>336</th>\n",
       "      <td>Zundert</td>\n",
       "      <td>4.068531</td>\n",
       "      <td>4.038181</td>\n",
       "      <td>4.040567</td>\n",
       "      <td>4.017688</td>\n",
       "      <td>4.053564</td>\n",
       "      <td>4.064086</td>\n",
       "      <td>4.075664</td>\n",
       "      <td>4.091302</td>\n",
       "      <td>GM0879</td>\n",
       "      <td>POLYGON ((4.57230 51.48267, 4.57232 51.48271, ...</td>\n",
       "    </tr>\n",
       "    <tr>\n",
       "      <th>337</th>\n",
       "      <td>Zutphen</td>\n",
       "      <td>4.070172</td>\n",
       "      <td>4.058033</td>\n",
       "      <td>4.082412</td>\n",
       "      <td>4.079431</td>\n",
       "      <td>4.094202</td>\n",
       "      <td>4.092603</td>\n",
       "      <td>4.098449</td>\n",
       "      <td>4.129023</td>\n",
       "      <td>GM0301</td>\n",
       "      <td>POLYGON ((6.18588 52.12379, 6.18604 52.12421, ...</td>\n",
       "    </tr>\n",
       "    <tr>\n",
       "      <th>338</th>\n",
       "      <td>Zwartewaterland</td>\n",
       "      <td>4.095010</td>\n",
       "      <td>4.084661</td>\n",
       "      <td>4.088307</td>\n",
       "      <td>4.104402</td>\n",
       "      <td>4.119927</td>\n",
       "      <td>4.134670</td>\n",
       "      <td>4.130526</td>\n",
       "      <td>4.120966</td>\n",
       "      <td>GM1896</td>\n",
       "      <td>MULTIPOLYGON (((6.01886 52.64351, 6.02002 52.6...</td>\n",
       "    </tr>\n",
       "    <tr>\n",
       "      <th>339</th>\n",
       "      <td>Zwijndrecht</td>\n",
       "      <td>3.969942</td>\n",
       "      <td>3.984897</td>\n",
       "      <td>4.010052</td>\n",
       "      <td>4.019172</td>\n",
       "      <td>4.034644</td>\n",
       "      <td>4.041020</td>\n",
       "      <td>4.062210</td>\n",
       "      <td>4.065264</td>\n",
       "      <td>GM0642</td>\n",
       "      <td>POLYGON ((4.55930 51.82314, 4.55926 51.82329, ...</td>\n",
       "    </tr>\n",
       "    <tr>\n",
       "      <th>340</th>\n",
       "      <td>Zwolle</td>\n",
       "      <td>4.083011</td>\n",
       "      <td>4.074848</td>\n",
       "      <td>4.089281</td>\n",
       "      <td>4.127142</td>\n",
       "      <td>4.146816</td>\n",
       "      <td>4.140916</td>\n",
       "      <td>4.150724</td>\n",
       "      <td>4.144650</td>\n",
       "      <td>GM0193</td>\n",
       "      <td>POLYGON ((6.03045 52.53806, 6.02948 52.53844, ...</td>\n",
       "    </tr>\n",
       "  </tbody>\n",
       "</table>\n",
       "<p>341 rows × 11 columns</p>\n",
       "</div>"
      ],
      "text/plain": [
       "              gm_naam      2002      2008      2012      2014      2016  \\\n",
       "0       's-Gravenhage  4.062348  4.065541  4.041840  4.031019  4.077424   \n",
       "1    's-Hertogenbosch  3.972506  4.002900  4.017644  4.054725  4.092917   \n",
       "2         Aa en Hunze  4.192350  4.187574  4.215539  4.234321  4.241116   \n",
       "3            Aalsmeer  4.065392  4.079211  4.091437  4.092970  4.063587   \n",
       "4              Aalten  4.097104  4.088877  4.101236  4.108180  4.130035   \n",
       "..                ...       ...       ...       ...       ...       ...   \n",
       "336           Zundert  4.068531  4.038181  4.040567  4.017688  4.053564   \n",
       "337           Zutphen  4.070172  4.058033  4.082412  4.079431  4.094202   \n",
       "338   Zwartewaterland  4.095010  4.084661  4.088307  4.104402  4.119927   \n",
       "339       Zwijndrecht  3.969942  3.984897  4.010052  4.019172  4.034644   \n",
       "340            Zwolle  4.083011  4.074848  4.089281  4.127142  4.146816   \n",
       "\n",
       "         2018      2020      2022 gm_code  \\\n",
       "0    4.099340  4.106839  4.134549  GM0518   \n",
       "1    4.101404  4.117857  4.118029  GM0796   \n",
       "2    4.249099  4.225308  4.227829  GM1680   \n",
       "3    4.113765  4.118463  4.116335  GM0358   \n",
       "4    4.129945  4.140398  4.136142  GM0197   \n",
       "..        ...       ...       ...     ...   \n",
       "336  4.064086  4.075664  4.091302  GM0879   \n",
       "337  4.092603  4.098449  4.129023  GM0301   \n",
       "338  4.134670  4.130526  4.120966  GM1896   \n",
       "339  4.041020  4.062210  4.065264  GM0642   \n",
       "340  4.140916  4.150724  4.144650  GM0193   \n",
       "\n",
       "                                              geometry  \n",
       "0    MULTIPOLYGON (((4.19210 52.05797, 4.19197 52.0...  \n",
       "1    POLYGON ((5.22752 51.72715, 5.22749 51.72715, ...  \n",
       "2    POLYGON ((6.64801 53.02826, 6.64786 53.02879, ...  \n",
       "3    POLYGON ((4.79444 52.29627, 4.79445 52.29628, ...  \n",
       "4    POLYGON ((6.63918 51.93247, 6.63973 51.93217, ...  \n",
       "..                                                 ...  \n",
       "336  POLYGON ((4.57230 51.48267, 4.57232 51.48271, ...  \n",
       "337  POLYGON ((6.18588 52.12379, 6.18604 52.12421, ...  \n",
       "338  MULTIPOLYGON (((6.01886 52.64351, 6.02002 52.6...  \n",
       "339  POLYGON ((4.55930 51.82314, 4.55926 51.82329, ...  \n",
       "340  POLYGON ((6.03045 52.53806, 6.02948 52.53844, ...  \n",
       "\n",
       "[341 rows x 11 columns]"
      ]
     },
     "execution_count": 49,
     "metadata": {},
     "output_type": "execute_result"
    }
   ],
   "source": [
    "pivoted_lbm.reset_index(inplace = True)\n",
    "pivoted_lbm"
   ]
  },
  {
   "cell_type": "markdown",
   "metadata": {
    "id": "a_ZrQ64i7plQ"
   },
   "source": [
    "## Save output"
   ]
  },
  {
   "cell_type": "markdown",
   "metadata": {
    "id": "xT_uQYZSbEty"
   },
   "source": [
    "## Watermark"
   ]
  },
  {
   "cell_type": "code",
   "execution_count": 50,
   "metadata": {
    "colab": {
     "base_uri": "https://localhost:8080/"
    },
    "executionInfo": {
     "elapsed": 3783,
     "status": "ok",
     "timestamp": 1737969262930,
     "user": {
      "displayName": "Maaike Kuipers",
      "userId": "04147149776489660608"
     },
     "user_tz": -60
    },
    "id": "iY8ZyfnAbFoO",
    "outputId": "79cd9222-9fa6-44e7-ebce-3f6666bfb936"
   },
   "outputs": [],
   "source": [
    "!python -m pip install watermark --quiet"
   ]
  },
  {
   "cell_type": "code",
   "execution_count": 51,
   "metadata": {
    "executionInfo": {
     "elapsed": 17,
     "status": "ok",
     "timestamp": 1737969262931,
     "user": {
      "displayName": "Maaike Kuipers",
      "userId": "04147149776489660608"
     },
     "user_tz": -60
    },
    "id": "Cd2yG3BgbGE3"
   },
   "outputs": [
    {
     "name": "stdout",
     "output_type": "stream",
     "text": [
      "The watermark extension is already loaded. To reload it, use:\n",
      "  %reload_ext watermark\n"
     ]
    }
   ],
   "source": [
    "%load_ext watermark"
   ]
  },
  {
   "cell_type": "code",
   "execution_count": 52,
   "metadata": {
    "colab": {
     "base_uri": "https://localhost:8080/"
    },
    "executionInfo": {
     "elapsed": 17,
     "status": "ok",
     "timestamp": 1737969262932,
     "user": {
      "displayName": "Maaike Kuipers",
      "userId": "04147149776489660608"
     },
     "user_tz": -60
    },
    "id": "Ef6VBO1QbI-_",
    "outputId": "471d285a-59b1-4a70-9f3d-35f2423a5ff8"
   },
   "outputs": [
    {
     "name": "stdout",
     "output_type": "stream",
     "text": [
      "Last updated: 2025-01-27T11:05:24.749630+01:00\n",
      "\n",
      "Python implementation: CPython\n",
      "Python version       : 3.11.5\n",
      "IPython version      : 8.17.2\n",
      "\n",
      "Compiler    : MSC v.1916 64 bit (AMD64)\n",
      "OS          : Windows\n",
      "Release     : 10\n",
      "Machine     : AMD64\n",
      "Processor   : Intel64 Family 6 Model 142 Stepping 10, GenuineIntel\n",
      "CPU cores   : 8\n",
      "Architecture: 64bit\n",
      "\n"
     ]
    }
   ],
   "source": [
    "%watermark"
   ]
  },
  {
   "cell_type": "code",
   "execution_count": 53,
   "metadata": {
    "executionInfo": {
     "elapsed": 34,
     "status": "aborted",
     "timestamp": 1737969043553,
     "user": {
      "displayName": "Maaike Kuipers",
      "userId": "04147149776489660608"
     },
     "user_tz": -60
    },
    "id": "EW9nOXoNbKrP"
   },
   "outputs": [
    {
     "name": "stdout",
     "output_type": "stream",
     "text": [
      "numpy     : 1.26.1\n",
      "matplotlib: 3.8.1\n",
      "geopandas : 0.14.0\n",
      "pandas    : 2.1.2\n",
      "\n"
     ]
    }
   ],
   "source": [
    "%watermark --iversions"
   ]
  },
  {
   "cell_type": "code",
   "execution_count": 54,
   "metadata": {
    "executionInfo": {
     "elapsed": 33,
     "status": "aborted",
     "timestamp": 1737969043553,
     "user": {
      "displayName": "Maaike Kuipers",
      "userId": "04147149776489660608"
     },
     "user_tz": -60
    },
    "id": "2LOCLnX0bMxt"
   },
   "outputs": [
    {
     "name": "stderr",
     "output_type": "stream",
     "text": [
      "'lsb_release' is not recognized as an internal or external command,\n",
      "operable program or batch file.\n"
     ]
    }
   ],
   "source": [
    "!lsb_release -a"
   ]
  },
  {
   "cell_type": "code",
   "execution_count": null,
   "metadata": {
    "executionInfo": {
     "elapsed": 34,
     "status": "aborted",
     "timestamp": 1737969043554,
     "user": {
      "displayName": "Maaike Kuipers",
      "userId": "04147149776489660608"
     },
     "user_tz": -60
    },
    "id": "vHc75_urORTk"
   },
   "outputs": [],
   "source": []
  }
 ],
 "metadata": {
  "colab": {
   "provenance": []
  },
  "kernelspec": {
   "display_name": "ML3",
   "language": "python",
   "name": "python3"
  },
  "language_info": {
   "codemirror_mode": {
    "name": "ipython",
    "version": 3
   },
   "file_extension": ".py",
   "mimetype": "text/x-python",
   "name": "python",
   "nbconvert_exporter": "python",
   "pygments_lexer": "ipython3",
   "version": "3.11.5"
  }
 },
 "nbformat": 4,
 "nbformat_minor": 0
}

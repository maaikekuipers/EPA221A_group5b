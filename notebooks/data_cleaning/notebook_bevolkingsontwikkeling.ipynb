{
 "cells": [
  {
   "cell_type": "markdown",
   "metadata": {
    "id": "rP8SuqILhaPo"
   },
   "source": [
    "## Config"
   ]
  },
  {
   "cell_type": "code",
   "execution_count": 1,
   "metadata": {
    "executionInfo": {
     "elapsed": 295,
     "status": "ok",
     "timestamp": 1737969652804,
     "user": {
      "displayName": "Maaike Kuipers",
      "userId": "04147149776489660608"
     },
     "user_tz": -60
    },
    "id": "I_hrwU9x479z"
   },
   "outputs": [],
   "source": [
    "# change to raw ../../data file\n",
    "INPUT_DATA_PATH = \"../../data/raw/Bevolkingsontwikkeling__regio_per_maand_12122024_160930.csv\"\n",
    "INPUT_SHAPEFILE_PATH = \"../../data/gemeente_shapefiles/gemeente_shapefile.shp\"\n",
    "\n",
    "# set true or false\n",
    "SAVE_OUTPUT = True\n",
    "# change to filename\n",
    "OUTPUT_DATA_PATH = \"../../data/processed/bevolkingsontwikkeling.csv\""
   ]
  },
  {
   "cell_type": "code",
   "execution_count": 2,
   "metadata": {
    "executionInfo": {
     "elapsed": 6,
     "status": "ok",
     "timestamp": 1737969654254,
     "user": {
      "displayName": "Maaike Kuipers",
      "userId": "04147149776489660608"
     },
     "user_tz": -60
    },
    "id": "HnDB36CLTIxL"
   },
   "outputs": [],
   "source": [
    "import numpy as np\n",
    "import pandas as pd\n",
    "import geopandas as gpd"
   ]
  },
  {
   "cell_type": "markdown",
   "metadata": {
    "id": "JMxfkSGDhuDI"
   },
   "source": [
    "## Load data"
   ]
  },
  {
   "cell_type": "code",
   "execution_count": 4,
   "metadata": {
    "colab": {
     "base_uri": "https://localhost:8080/"
    },
    "executionInfo": {
     "elapsed": 214,
     "status": "ok",
     "timestamp": 1737969654463,
     "user": {
      "displayName": "Maaike Kuipers",
      "userId": "04147149776489660608"
     },
     "user_tz": -60
    },
    "id": "rVnEtRfdTONP",
    "outputId": "a6b9b09d-9dcc-4ad6-cc82-e1784c43b214"
   },
   "outputs": [],
   "source": [
    "# load data\n",
    "df = pd.read_csv(INPUT_DATA_PATH, sep = ';')\n",
    "gdf = gpd.read_file(INPUT_SHAPEFILE_PATH, sep = ';')"
   ]
  },
  {
   "cell_type": "code",
   "execution_count": 5,
   "metadata": {
    "executionInfo": {
     "elapsed": 2102,
     "status": "ok",
     "timestamp": 1737969656561,
     "user": {
      "displayName": "Maaike Kuipers",
      "userId": "04147149776489660608"
     },
     "user_tz": -60
    },
    "id": "8extd_ml_ydE"
   },
   "outputs": [],
   "source": [
    "gdf = gdf.to_crs(\"EPSG:4326\")"
   ]
  },
  {
   "cell_type": "code",
   "execution_count": 6,
   "metadata": {
    "colab": {
     "base_uri": "https://localhost:8080/",
     "height": 424
    },
    "executionInfo": {
     "elapsed": 719,
     "status": "ok",
     "timestamp": 1737969657274,
     "user": {
      "displayName": "Maaike Kuipers",
      "userId": "04147149776489660608"
     },
     "user_tz": -60
    },
    "id": "l9TQoeI-8pAn",
    "outputId": "4db59138-d165-480e-9f7c-8133cc26c04a"
   },
   "outputs": [
    {
     "data": {
      "text/html": [
       "<div>\n",
       "<style scoped>\n",
       "    .dataframe tbody tr th:only-of-type {\n",
       "        vertical-align: middle;\n",
       "    }\n",
       "\n",
       "    .dataframe tbody tr th {\n",
       "        vertical-align: top;\n",
       "    }\n",
       "\n",
       "    .dataframe thead th {\n",
       "        text-align: right;\n",
       "    }\n",
       "</style>\n",
       "<table border=\"1\" class=\"dataframe\">\n",
       "  <thead>\n",
       "    <tr style=\"text-align: right;\">\n",
       "      <th></th>\n",
       "      <th>gm_code</th>\n",
       "      <th>gm_naam</th>\n",
       "      <th>geometry</th>\n",
       "    </tr>\n",
       "  </thead>\n",
       "  <tbody>\n",
       "    <tr>\n",
       "      <th>0</th>\n",
       "      <td>GM0003</td>\n",
       "      <td>Appingedam</td>\n",
       "      <td>POLYGON ((6.80583 53.31703, 6.80588 53.31704, ...</td>\n",
       "    </tr>\n",
       "    <tr>\n",
       "      <th>1</th>\n",
       "      <td>GM0010</td>\n",
       "      <td>Delfzijl</td>\n",
       "      <td>MULTIPOLYGON (((7.07833 53.26658, 7.07826 53.2...</td>\n",
       "    </tr>\n",
       "    <tr>\n",
       "      <th>2</th>\n",
       "      <td>GM0014</td>\n",
       "      <td>Groningen</td>\n",
       "      <td>POLYGON ((6.48047 53.24551, 6.48050 53.24579, ...</td>\n",
       "    </tr>\n",
       "    <tr>\n",
       "      <th>3</th>\n",
       "      <td>GM0024</td>\n",
       "      <td>Loppersum</td>\n",
       "      <td>POLYGON ((6.73921 53.38812, 6.73925 53.38815, ...</td>\n",
       "    </tr>\n",
       "    <tr>\n",
       "      <th>4</th>\n",
       "      <td>GM0034</td>\n",
       "      <td>Almere</td>\n",
       "      <td>MULTIPOLYGON (((5.21106 52.33159, 5.21106 52.3...</td>\n",
       "    </tr>\n",
       "    <tr>\n",
       "      <th>...</th>\n",
       "      <td>...</td>\n",
       "      <td>...</td>\n",
       "      <td>...</td>\n",
       "    </tr>\n",
       "    <tr>\n",
       "      <th>350</th>\n",
       "      <td>GM1963</td>\n",
       "      <td>Hoeksche Waard</td>\n",
       "      <td>MULTIPOLYGON (((4.57231 51.70007, 4.57053 51.6...</td>\n",
       "    </tr>\n",
       "    <tr>\n",
       "      <th>351</th>\n",
       "      <td>GM1966</td>\n",
       "      <td>Het Hogeland</td>\n",
       "      <td>MULTIPOLYGON (((6.29052 53.33942, 6.29052 53.3...</td>\n",
       "    </tr>\n",
       "    <tr>\n",
       "      <th>352</th>\n",
       "      <td>GM1969</td>\n",
       "      <td>Westerkwartier</td>\n",
       "      <td>POLYGON ((6.23175 53.25595, 6.23176 53.25599, ...</td>\n",
       "    </tr>\n",
       "    <tr>\n",
       "      <th>353</th>\n",
       "      <td>GM1970</td>\n",
       "      <td>Noardeast-Fryslân</td>\n",
       "      <td>MULTIPOLYGON (((6.17582 53.34599, 6.17582 53.3...</td>\n",
       "    </tr>\n",
       "    <tr>\n",
       "      <th>354</th>\n",
       "      <td>GM1978</td>\n",
       "      <td>Molenlanden</td>\n",
       "      <td>POLYGON ((4.62940 51.88084, 4.62932 51.88088, ...</td>\n",
       "    </tr>\n",
       "  </tbody>\n",
       "</table>\n",
       "<p>355 rows × 3 columns</p>\n",
       "</div>"
      ],
      "text/plain": [
       "    gm_code            gm_naam  \\\n",
       "0    GM0003         Appingedam   \n",
       "1    GM0010           Delfzijl   \n",
       "2    GM0014          Groningen   \n",
       "3    GM0024          Loppersum   \n",
       "4    GM0034             Almere   \n",
       "..      ...                ...   \n",
       "350  GM1963     Hoeksche Waard   \n",
       "351  GM1966       Het Hogeland   \n",
       "352  GM1969     Westerkwartier   \n",
       "353  GM1970  Noardeast-Fryslân   \n",
       "354  GM1978        Molenlanden   \n",
       "\n",
       "                                              geometry  \n",
       "0    POLYGON ((6.80583 53.31703, 6.80588 53.31704, ...  \n",
       "1    MULTIPOLYGON (((7.07833 53.26658, 7.07826 53.2...  \n",
       "2    POLYGON ((6.48047 53.24551, 6.48050 53.24579, ...  \n",
       "3    POLYGON ((6.73921 53.38812, 6.73925 53.38815, ...  \n",
       "4    MULTIPOLYGON (((5.21106 52.33159, 5.21106 52.3...  \n",
       "..                                                 ...  \n",
       "350  MULTIPOLYGON (((4.57231 51.70007, 4.57053 51.6...  \n",
       "351  MULTIPOLYGON (((6.29052 53.33942, 6.29052 53.3...  \n",
       "352  POLYGON ((6.23175 53.25595, 6.23176 53.25599, ...  \n",
       "353  MULTIPOLYGON (((6.17582 53.34599, 6.17582 53.3...  \n",
       "354  POLYGON ((4.62940 51.88084, 4.62932 51.88088, ...  \n",
       "\n",
       "[355 rows x 3 columns]"
      ]
     },
     "execution_count": 6,
     "metadata": {},
     "output_type": "execute_result"
    }
   ],
   "source": [
    "gdf"
   ]
  },
  {
   "cell_type": "markdown",
   "metadata": {
    "id": "ryt3odo6h1W5"
   },
   "source": [
    "## Data management"
   ]
  },
  {
   "cell_type": "code",
   "execution_count": 7,
   "metadata": {
    "colab": {
     "base_uri": "https://localhost:8080/",
     "height": 206
    },
    "executionInfo": {
     "elapsed": 33,
     "status": "ok",
     "timestamp": 1737969657275,
     "user": {
      "displayName": "Maaike Kuipers",
      "userId": "04147149776489660608"
     },
     "user_tz": -60
    },
    "id": "F2PgA3ZMryBa",
    "outputId": "a792a6c1-6ed3-416a-d3fa-2f19b3dbaba8"
   },
   "outputs": [
    {
     "data": {
      "text/html": [
       "<div>\n",
       "<style scoped>\n",
       "    .dataframe tbody tr th:only-of-type {\n",
       "        vertical-align: middle;\n",
       "    }\n",
       "\n",
       "    .dataframe tbody tr th {\n",
       "        vertical-align: top;\n",
       "    }\n",
       "\n",
       "    .dataframe thead th {\n",
       "        text-align: right;\n",
       "    }\n",
       "</style>\n",
       "<table border=\"1\" class=\"dataframe\">\n",
       "  <thead>\n",
       "    <tr style=\"text-align: right;\">\n",
       "      <th></th>\n",
       "      <th>Perioden</th>\n",
       "      <th>Regio's</th>\n",
       "      <th>Vestiging in de gemeente /Vestiging vanuit een andere gemeente (aantal)</th>\n",
       "      <th>Vestiging in de gemeente /Immigratie (aantal)</th>\n",
       "      <th>Vertrek uit de gemeente/Vertrek naar andere gemeente (aantal)</th>\n",
       "      <th>Vertrek uit de gemeente/Emigratie inclusief adm. correcties (aantal)</th>\n",
       "    </tr>\n",
       "  </thead>\n",
       "  <tbody>\n",
       "    <tr>\n",
       "      <th>0</th>\n",
       "      <td>2002</td>\n",
       "      <td>Aa en Hunze</td>\n",
       "      <td>1121.0</td>\n",
       "      <td>232.0</td>\n",
       "      <td>1498.0</td>\n",
       "      <td>119.0</td>\n",
       "    </tr>\n",
       "    <tr>\n",
       "      <th>1</th>\n",
       "      <td>2003</td>\n",
       "      <td>Aa en Hunze</td>\n",
       "      <td>1071.0</td>\n",
       "      <td>56.0</td>\n",
       "      <td>1111.0</td>\n",
       "      <td>153.0</td>\n",
       "    </tr>\n",
       "    <tr>\n",
       "      <th>2</th>\n",
       "      <td>2004</td>\n",
       "      <td>Aa en Hunze</td>\n",
       "      <td>1104.0</td>\n",
       "      <td>63.0</td>\n",
       "      <td>1023.0</td>\n",
       "      <td>54.0</td>\n",
       "    </tr>\n",
       "    <tr>\n",
       "      <th>3</th>\n",
       "      <td>2005</td>\n",
       "      <td>Aa en Hunze</td>\n",
       "      <td>1254.0</td>\n",
       "      <td>68.0</td>\n",
       "      <td>1062.0</td>\n",
       "      <td>81.0</td>\n",
       "    </tr>\n",
       "    <tr>\n",
       "      <th>4</th>\n",
       "      <td>2006</td>\n",
       "      <td>Aa en Hunze</td>\n",
       "      <td>1320.0</td>\n",
       "      <td>49.0</td>\n",
       "      <td>1222.0</td>\n",
       "      <td>104.0</td>\n",
       "    </tr>\n",
       "  </tbody>\n",
       "</table>\n",
       "</div>"
      ],
      "text/plain": [
       "   Perioden      Regio's  \\\n",
       "0      2002  Aa en Hunze   \n",
       "1      2003  Aa en Hunze   \n",
       "2      2004  Aa en Hunze   \n",
       "3      2005  Aa en Hunze   \n",
       "4      2006  Aa en Hunze   \n",
       "\n",
       "   Vestiging in de gemeente /Vestiging vanuit een andere gemeente (aantal)  \\\n",
       "0                                             1121.0                         \n",
       "1                                             1071.0                         \n",
       "2                                             1104.0                         \n",
       "3                                             1254.0                         \n",
       "4                                             1320.0                         \n",
       "\n",
       "   Vestiging in de gemeente /Immigratie (aantal)  \\\n",
       "0                                          232.0   \n",
       "1                                           56.0   \n",
       "2                                           63.0   \n",
       "3                                           68.0   \n",
       "4                                           49.0   \n",
       "\n",
       "   Vertrek uit de gemeente/Vertrek naar andere gemeente (aantal)  \\\n",
       "0                                             1498.0               \n",
       "1                                             1111.0               \n",
       "2                                             1023.0               \n",
       "3                                             1062.0               \n",
       "4                                             1222.0               \n",
       "\n",
       "   Vertrek uit de gemeente/Emigratie inclusief adm. correcties (aantal)  \n",
       "0                                              119.0                     \n",
       "1                                              153.0                     \n",
       "2                                               54.0                     \n",
       "3                                               81.0                     \n",
       "4                                              104.0                     "
      ]
     },
     "execution_count": 7,
     "metadata": {},
     "output_type": "execute_result"
    }
   ],
   "source": [
    "df.head()"
   ]
  },
  {
   "cell_type": "code",
   "execution_count": 8,
   "metadata": {
    "colab": {
     "base_uri": "https://localhost:8080/",
     "height": 424
    },
    "executionInfo": {
     "elapsed": 29,
     "status": "ok",
     "timestamp": 1737969657275,
     "user": {
      "displayName": "Maaike Kuipers",
      "userId": "04147149776489660608"
     },
     "user_tz": -60
    },
    "id": "TMVDtOMjcOl8",
    "outputId": "0d557a70-d73e-4104-b71c-b3ced51ddb7b"
   },
   "outputs": [
    {
     "data": {
      "text/html": [
       "<div>\n",
       "<style scoped>\n",
       "    .dataframe tbody tr th:only-of-type {\n",
       "        vertical-align: middle;\n",
       "    }\n",
       "\n",
       "    .dataframe tbody tr th {\n",
       "        vertical-align: top;\n",
       "    }\n",
       "\n",
       "    .dataframe thead th {\n",
       "        text-align: right;\n",
       "    }\n",
       "</style>\n",
       "<table border=\"1\" class=\"dataframe\">\n",
       "  <thead>\n",
       "    <tr style=\"text-align: right;\">\n",
       "      <th></th>\n",
       "      <th>Perioden</th>\n",
       "      <th>Regio's</th>\n",
       "      <th>Vestiging in de gemeente /Vestiging vanuit een andere gemeente (aantal)</th>\n",
       "      <th>Vestiging in de gemeente /Immigratie (aantal)</th>\n",
       "      <th>Vertrek uit de gemeente/Vertrek naar andere gemeente (aantal)</th>\n",
       "      <th>Vertrek uit de gemeente/Emigratie inclusief adm. correcties (aantal)</th>\n",
       "    </tr>\n",
       "  </thead>\n",
       "  <tbody>\n",
       "    <tr>\n",
       "      <th>0</th>\n",
       "      <td>2002</td>\n",
       "      <td>Aa en Hunze</td>\n",
       "      <td>1121.0</td>\n",
       "      <td>232.0</td>\n",
       "      <td>1498.0</td>\n",
       "      <td>119.0</td>\n",
       "    </tr>\n",
       "    <tr>\n",
       "      <th>1</th>\n",
       "      <td>2003</td>\n",
       "      <td>Aa en Hunze</td>\n",
       "      <td>1071.0</td>\n",
       "      <td>56.0</td>\n",
       "      <td>1111.0</td>\n",
       "      <td>153.0</td>\n",
       "    </tr>\n",
       "    <tr>\n",
       "      <th>2</th>\n",
       "      <td>2004</td>\n",
       "      <td>Aa en Hunze</td>\n",
       "      <td>1104.0</td>\n",
       "      <td>63.0</td>\n",
       "      <td>1023.0</td>\n",
       "      <td>54.0</td>\n",
       "    </tr>\n",
       "    <tr>\n",
       "      <th>3</th>\n",
       "      <td>2005</td>\n",
       "      <td>Aa en Hunze</td>\n",
       "      <td>1254.0</td>\n",
       "      <td>68.0</td>\n",
       "      <td>1062.0</td>\n",
       "      <td>81.0</td>\n",
       "    </tr>\n",
       "    <tr>\n",
       "      <th>4</th>\n",
       "      <td>2006</td>\n",
       "      <td>Aa en Hunze</td>\n",
       "      <td>1320.0</td>\n",
       "      <td>49.0</td>\n",
       "      <td>1222.0</td>\n",
       "      <td>104.0</td>\n",
       "    </tr>\n",
       "    <tr>\n",
       "      <th>...</th>\n",
       "      <td>...</td>\n",
       "      <td>...</td>\n",
       "      <td>...</td>\n",
       "      <td>...</td>\n",
       "      <td>...</td>\n",
       "      <td>...</td>\n",
       "    </tr>\n",
       "    <tr>\n",
       "      <th>12227</th>\n",
       "      <td>2019</td>\n",
       "      <td>Zwolle</td>\n",
       "      <td>5940.0</td>\n",
       "      <td>975.0</td>\n",
       "      <td>5356.0</td>\n",
       "      <td>715.0</td>\n",
       "    </tr>\n",
       "    <tr>\n",
       "      <th>12228</th>\n",
       "      <td>2020</td>\n",
       "      <td>Zwolle</td>\n",
       "      <td>6022.0</td>\n",
       "      <td>686.0</td>\n",
       "      <td>5574.0</td>\n",
       "      <td>562.0</td>\n",
       "    </tr>\n",
       "    <tr>\n",
       "      <th>12229</th>\n",
       "      <td>2021</td>\n",
       "      <td>Zwolle</td>\n",
       "      <td>5714.0</td>\n",
       "      <td>843.0</td>\n",
       "      <td>5554.0</td>\n",
       "      <td>558.0</td>\n",
       "    </tr>\n",
       "    <tr>\n",
       "      <th>12230</th>\n",
       "      <td>2022</td>\n",
       "      <td>Zwolle</td>\n",
       "      <td>5775.0</td>\n",
       "      <td>1947.0</td>\n",
       "      <td>5401.0</td>\n",
       "      <td>913.0</td>\n",
       "    </tr>\n",
       "    <tr>\n",
       "      <th>12231</th>\n",
       "      <td>2023</td>\n",
       "      <td>Zwolle</td>\n",
       "      <td>6009.0</td>\n",
       "      <td>1088.0</td>\n",
       "      <td>5749.0</td>\n",
       "      <td>946.0</td>\n",
       "    </tr>\n",
       "  </tbody>\n",
       "</table>\n",
       "<p>12232 rows × 6 columns</p>\n",
       "</div>"
      ],
      "text/plain": [
       "       Perioden      Regio's  \\\n",
       "0          2002  Aa en Hunze   \n",
       "1          2003  Aa en Hunze   \n",
       "2          2004  Aa en Hunze   \n",
       "3          2005  Aa en Hunze   \n",
       "4          2006  Aa en Hunze   \n",
       "...         ...          ...   \n",
       "12227      2019       Zwolle   \n",
       "12228      2020       Zwolle   \n",
       "12229      2021       Zwolle   \n",
       "12230      2022       Zwolle   \n",
       "12231      2023       Zwolle   \n",
       "\n",
       "       Vestiging in de gemeente /Vestiging vanuit een andere gemeente (aantal)  \\\n",
       "0                                                 1121.0                         \n",
       "1                                                 1071.0                         \n",
       "2                                                 1104.0                         \n",
       "3                                                 1254.0                         \n",
       "4                                                 1320.0                         \n",
       "...                                                  ...                         \n",
       "12227                                             5940.0                         \n",
       "12228                                             6022.0                         \n",
       "12229                                             5714.0                         \n",
       "12230                                             5775.0                         \n",
       "12231                                             6009.0                         \n",
       "\n",
       "       Vestiging in de gemeente /Immigratie (aantal)  \\\n",
       "0                                              232.0   \n",
       "1                                               56.0   \n",
       "2                                               63.0   \n",
       "3                                               68.0   \n",
       "4                                               49.0   \n",
       "...                                              ...   \n",
       "12227                                          975.0   \n",
       "12228                                          686.0   \n",
       "12229                                          843.0   \n",
       "12230                                         1947.0   \n",
       "12231                                         1088.0   \n",
       "\n",
       "       Vertrek uit de gemeente/Vertrek naar andere gemeente (aantal)  \\\n",
       "0                                                 1498.0               \n",
       "1                                                 1111.0               \n",
       "2                                                 1023.0               \n",
       "3                                                 1062.0               \n",
       "4                                                 1222.0               \n",
       "...                                                  ...               \n",
       "12227                                             5356.0               \n",
       "12228                                             5574.0               \n",
       "12229                                             5554.0               \n",
       "12230                                             5401.0               \n",
       "12231                                             5749.0               \n",
       "\n",
       "       Vertrek uit de gemeente/Emigratie inclusief adm. correcties (aantal)  \n",
       "0                                                  119.0                     \n",
       "1                                                  153.0                     \n",
       "2                                                   54.0                     \n",
       "3                                                   81.0                     \n",
       "4                                                  104.0                     \n",
       "...                                                  ...                     \n",
       "12227                                              715.0                     \n",
       "12228                                              562.0                     \n",
       "12229                                              558.0                     \n",
       "12230                                              913.0                     \n",
       "12231                                              946.0                     \n",
       "\n",
       "[12232 rows x 6 columns]"
      ]
     },
     "execution_count": 8,
     "metadata": {},
     "output_type": "execute_result"
    }
   ],
   "source": [
    "df"
   ]
  },
  {
   "cell_type": "code",
   "execution_count": 9,
   "metadata": {
    "executionInfo": {
     "elapsed": 224,
     "status": "ok",
     "timestamp": 1737969657474,
     "user": {
      "displayName": "Maaike Kuipers",
      "userId": "04147149776489660608"
     },
     "user_tz": -60
    },
    "id": "0WrXbvBGbeuf"
   },
   "outputs": [],
   "source": [
    "columns_to_pivot = [\n",
    "    \"Vestiging in de gemeente /Vestiging vanuit een andere gemeente (aantal)\",\n",
    "    \"Vestiging in de gemeente /Immigratie (aantal)\",\n",
    "    \"Vertrek uit de gemeente/Vertrek naar andere gemeente (aantal)\",\n",
    "    \"Vertrek uit de gemeente/Emigratie inclusief adm. correcties (aantal)\"\n",
    "]\n",
    "\n",
    "new_dataframes = {}\n",
    "\n",
    "# Itereer door elke kolom en maak een pivot\n",
    "for col in columns_to_pivot:\n",
    "    df_pivot = df.pivot(index=\"Regio's\", columns=\"Perioden\", values=col).reset_index()\n",
    "    new_dataframes[col] = df_pivot  # Sla de nieuwe dataframe op\n",
    "\n",
    "# Toegang tot de individuele dataframes\n",
    "vestiging_gm = new_dataframes[columns_to_pivot[0]]\n",
    "immigratie = new_dataframes[columns_to_pivot[1]]\n",
    "vertek_gm = new_dataframes[columns_to_pivot[2]]\n",
    "emigratie = new_dataframes[columns_to_pivot[3]]"
   ]
  },
  {
   "cell_type": "code",
   "execution_count": 10,
   "metadata": {
    "executionInfo": {
     "elapsed": 226,
     "status": "ok",
     "timestamp": 1737969657478,
     "user": {
      "displayName": "Maaike Kuipers",
      "userId": "04147149776489660608"
     },
     "user_tz": -60
    },
    "id": "6X_wntpKctp6"
   },
   "outputs": [],
   "source": [
    "dfs = [vestiging_gm, immigratie, vertek_gm, emigratie]"
   ]
  },
  {
   "cell_type": "code",
   "execution_count": 11,
   "metadata": {
    "executionInfo": {
     "elapsed": 41,
     "status": "ok",
     "timestamp": 1737969657479,
     "user": {
      "displayName": "Maaike Kuipers",
      "userId": "04147149776489660608"
     },
     "user_tz": -60
    },
    "id": "lAspzFMJcFt_"
   },
   "outputs": [],
   "source": [
    "mapping = {\n",
    "    \"Beek (L.)\": \"Beek\",\n",
    "    \"'s-Gravenhage (gemeente)\": \"'s-Gravenhage\",\n",
    "    \"Groningen (gemeente)\": \"Groningen\",\n",
    "    \"Hengelo (O.)\": \"Hengelo\",\n",
    "    \"Laren (NH.)\": \"Laren\",\n",
    "    \"Middelburg (Z.)\": \"Middelburg\",\n",
    "    \"Rijswijk (ZH.)\": \"Rijswijk\",\n",
    "    \"Stein (L.)\": \"Stein\",\n",
    "    \"Utrecht (gemeente)\": \"Utrecht\",\n",
    "}\n",
    "\n",
    "# Functie om de waarde aan te passen met de mapping\n",
    "def update_name(name):\n",
    "    return mapping.get(name, name)  # Gebruik de waarde uit de mapping, of laat ongewijzigd als niet gevonden\n"
   ]
  },
  {
   "cell_type": "code",
   "execution_count": 12,
   "metadata": {
    "executionInfo": {
     "elapsed": 38,
     "status": "ok",
     "timestamp": 1737969657479,
     "user": {
      "displayName": "Maaike Kuipers",
      "userId": "04147149776489660608"
     },
     "user_tz": -60
    },
    "id": "Vo-WpDK3dMu3"
   },
   "outputs": [],
   "source": [
    "for i in dfs:\n",
    "  i.rename(columns={\"Regio's\" : \"gm_naam\"}, inplace =True)\n"
   ]
  },
  {
   "cell_type": "code",
   "execution_count": 13,
   "metadata": {
    "executionInfo": {
     "elapsed": 40,
     "status": "ok",
     "timestamp": 1737969657481,
     "user": {
      "displayName": "Maaike Kuipers",
      "userId": "04147149776489660608"
     },
     "user_tz": -60
    },
    "id": "7BRqzEhDci4S"
   },
   "outputs": [],
   "source": [
    "# Pas de kolom aan\n",
    "for i in dfs:\n",
    "    i[\"gm_naam\"] = i[\"gm_naam\"].apply(update_name)\n"
   ]
  },
  {
   "cell_type": "code",
   "execution_count": 14,
   "metadata": {
    "executionInfo": {
     "elapsed": 194,
     "status": "ok",
     "timestamp": 1737969942184,
     "user": {
      "displayName": "Maaike Kuipers",
      "userId": "04147149776489660608"
     },
     "user_tz": -60
    },
    "id": "euOl6lerc_kF"
   },
   "outputs": [],
   "source": [
    "vestiging_gm = vestiging_gm.merge(gdf, on = \"gm_naam\", how='right')\n",
    "immigratie = immigratie.merge(gdf, on = \"gm_naam\", how='right')\n",
    "vertek_gm = vertek_gm.merge(gdf, on = \"gm_naam\", how='right')\n",
    "emigratie = emigratie.merge(gdf, on = \"gm_naam\", how='right')"
   ]
  },
  {
   "cell_type": "markdown",
   "metadata": {
    "id": "a_ZrQ64i7plQ"
   },
   "source": [
    "## Save output"
   ]
  },
  {
   "cell_type": "code",
   "execution_count": 17,
   "metadata": {
    "executionInfo": {
     "elapsed": 28675,
     "status": "ok",
     "timestamp": 1737970002275,
     "user": {
      "displayName": "Maaike Kuipers",
      "userId": "04147149776489660608"
     },
     "user_tz": -60
    },
    "id": "6bj2-CeR7owh"
   },
   "outputs": [],
   "source": [
    "if SAVE_OUTPUT:\n",
    "    vestiging_gm.to_csv(\"../../data/processed/vestiging_gm.csv\", sep = ';', index = False)\n",
    "\n",
    "if SAVE_OUTPUT:\n",
    "    immigratie.to_csv(\"../../data/processed/immigratie.csv\", sep = ';', index = False)\n",
    "\n",
    "if SAVE_OUTPUT:\n",
    "    vertek_gm.to_csv(\"../../data/processed/vertek_gm.csv\", sep = ';', index = False)\n",
    "\n",
    "if SAVE_OUTPUT:\n",
    "    emigratie.to_csv(\"../../data/processed/emigratie.csv\", sep = ';', index = False)"
   ]
  },
  {
   "cell_type": "markdown",
   "metadata": {
    "id": "xT_uQYZSbEty"
   },
   "source": [
    "## Watermark"
   ]
  },
  {
   "cell_type": "code",
   "execution_count": 18,
   "metadata": {
    "executionInfo": {
     "elapsed": 2396,
     "status": "ok",
     "timestamp": 1737970004668,
     "user": {
      "displayName": "Maaike Kuipers",
      "userId": "04147149776489660608"
     },
     "user_tz": -60
    },
    "id": "iY8ZyfnAbFoO"
   },
   "outputs": [],
   "source": [
    "!python -m pip install watermark --quiet"
   ]
  },
  {
   "cell_type": "code",
   "execution_count": 19,
   "metadata": {
    "colab": {
     "base_uri": "https://localhost:8080/"
    },
    "executionInfo": {
     "elapsed": 15,
     "status": "ok",
     "timestamp": 1737970004669,
     "user": {
      "displayName": "Maaike Kuipers",
      "userId": "04147149776489660608"
     },
     "user_tz": -60
    },
    "id": "Cd2yG3BgbGE3",
    "outputId": "6a46e527-fd73-49b1-b259-2475c0f1650f"
   },
   "outputs": [],
   "source": [
    "%load_ext watermark"
   ]
  },
  {
   "cell_type": "code",
   "execution_count": 20,
   "metadata": {
    "colab": {
     "base_uri": "https://localhost:8080/"
    },
    "executionInfo": {
     "elapsed": 16,
     "status": "ok",
     "timestamp": 1737969953123,
     "user": {
      "displayName": "Maaike Kuipers",
      "userId": "04147149776489660608"
     },
     "user_tz": -60
    },
    "id": "Ef6VBO1QbI-_",
    "outputId": "70bf5bf2-00ed-4531-f9d4-5dc358177e92"
   },
   "outputs": [
    {
     "name": "stdout",
     "output_type": "stream",
     "text": [
      "Last updated: 2025-01-27T10:49:24.549353+01:00\n",
      "\n",
      "Python implementation: CPython\n",
      "Python version       : 3.11.5\n",
      "IPython version      : 8.17.2\n",
      "\n",
      "Compiler    : MSC v.1916 64 bit (AMD64)\n",
      "OS          : Windows\n",
      "Release     : 10\n",
      "Machine     : AMD64\n",
      "Processor   : Intel64 Family 6 Model 142 Stepping 10, GenuineIntel\n",
      "CPU cores   : 8\n",
      "Architecture: 64bit\n",
      "\n"
     ]
    }
   ],
   "source": [
    "%watermark"
   ]
  },
  {
   "cell_type": "code",
   "execution_count": 21,
   "metadata": {
    "colab": {
     "base_uri": "https://localhost:8080/"
    },
    "executionInfo": {
     "elapsed": 12,
     "status": "ok",
     "timestamp": 1737969953124,
     "user": {
      "displayName": "Maaike Kuipers",
      "userId": "04147149776489660608"
     },
     "user_tz": -60
    },
    "id": "EW9nOXoNbKrP",
    "outputId": "4aa7afab-6528-47b5-96c2-8ce0c71c277c"
   },
   "outputs": [
    {
     "name": "stdout",
     "output_type": "stream",
     "text": [
      "geopandas: 0.14.0\n",
      "numpy    : 1.26.1\n",
      "pandas   : 2.1.2\n",
      "\n"
     ]
    }
   ],
   "source": [
    "%watermark --iversions"
   ]
  },
  {
   "cell_type": "code",
   "execution_count": 22,
   "metadata": {
    "colab": {
     "base_uri": "https://localhost:8080/"
    },
    "executionInfo": {
     "elapsed": 201,
     "status": "ok",
     "timestamp": 1737969953317,
     "user": {
      "displayName": "Maaike Kuipers",
      "userId": "04147149776489660608"
     },
     "user_tz": -60
    },
    "id": "2LOCLnX0bMxt",
    "outputId": "d2e2e33f-e071-43b5-c482-4bb3d2b98bea"
   },
   "outputs": [
    {
     "name": "stderr",
     "output_type": "stream",
     "text": [
      "'lsb_release' is not recognized as an internal or external command,\n",
      "operable program or batch file.\n"
     ]
    }
   ],
   "source": [
    "!lsb_release -a"
   ]
  },
  {
   "cell_type": "code",
   "execution_count": 35,
   "metadata": {
    "executionInfo": {
     "elapsed": 9,
     "status": "ok",
     "timestamp": 1737969953317,
     "user": {
      "displayName": "Maaike Kuipers",
      "userId": "04147149776489660608"
     },
     "user_tz": -60
    },
    "id": "Qiz8TgbxFNWw"
   },
   "outputs": [],
   "source": []
  }
 ],
 "metadata": {
  "colab": {
   "provenance": []
  },
  "kernelspec": {
   "display_name": "ML3",
   "language": "python",
   "name": "python3"
  },
  "language_info": {
   "codemirror_mode": {
    "name": "ipython",
    "version": 3
   },
   "file_extension": ".py",
   "mimetype": "text/x-python",
   "name": "python",
   "nbconvert_exporter": "python",
   "pygments_lexer": "ipython3",
   "version": "3.11.5"
  }
 },
 "nbformat": 4,
 "nbformat_minor": 0
}

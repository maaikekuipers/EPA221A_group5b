{
 "cells": [
  {
   "cell_type": "markdown",
   "metadata": {
    "id": "rP8SuqILhaPo"
   },
   "source": [
    "## Config"
   ]
  },
  {
   "cell_type": "code",
   "execution_count": 1,
   "metadata": {
    "id": "I_hrwU9x479z"
   },
   "outputs": [],
   "source": [
    "# change to raw data file\n",
    "INPUT_DATA_PATH1 = \"../../data/raw/Koopprijzen/verkoopprijzen_meer_jaren.csv\"\n",
    "INPUT_DATA_PATH2 = \"../../data/raw/Koopprijzen/Gemiddelde_WOZ_waarde_van_woningen_op_1_januari__eigendom__regio__12122024_144034.csv\"\n",
    "INPUT_SHAPEFILE_PATH = \"../../data/gemeente_shapefiles/gemeente_shapefile.shp\"\n",
    "\n",
    "# set true or false\n",
    "SAVE_OUTPUT = True\n",
    "# change to filename\n",
    "OUTPUT_DATA_PATH = \"../../data/processed/verkoopprijzen.csv\""
   ]
  },
  {
   "cell_type": "code",
   "execution_count": 2,
   "metadata": {
    "id": "HnDB36CLTIxL"
   },
   "outputs": [],
   "source": [
    "import numpy as np\n",
    "import pandas as pd\n",
    "import geopandas as gpd"
   ]
  },
  {
   "cell_type": "markdown",
   "metadata": {
    "id": "JMxfkSGDhuDI"
   },
   "source": [
    "## Load data"
   ]
  },
  {
   "cell_type": "code",
   "execution_count": 3,
   "metadata": {
    "colab": {
     "base_uri": "https://localhost:8080/"
    },
    "executionInfo": {
     "elapsed": 293,
     "status": "ok",
     "timestamp": 1736780072062,
     "user": {
      "displayName": "Cato Martens",
      "userId": "03261732747761201437"
     },
     "user_tz": -60
    },
    "id": "rVnEtRfdTONP",
    "outputId": "2d4e8699-488c-4157-85b6-da6f82ffc3ce"
   },
   "outputs": [],
   "source": [
    "# load data\n",
    "df1 = pd.read_csv(INPUT_DATA_PATH1, sep = ';')\n",
    "df2 = pd.read_csv(INPUT_DATA_PATH2, sep = ',')\n",
    "gdf = gpd.read_file(INPUT_SHAPEFILE_PATH, sep = ';')"
   ]
  },
  {
   "cell_type": "code",
   "execution_count": 4,
   "metadata": {
    "id": "ypu_hCMX8hVw"
   },
   "outputs": [],
   "source": [
    "gdf = gdf.to_crs(4326)"
   ]
  },
  {
   "cell_type": "code",
   "execution_count": 5,
   "metadata": {
    "colab": {
     "base_uri": "https://localhost:8080/",
     "height": 423
    },
    "executionInfo": {
     "elapsed": 710,
     "status": "ok",
     "timestamp": 1736780074884,
     "user": {
      "displayName": "Cato Martens",
      "userId": "03261732747761201437"
     },
     "user_tz": -60
    },
    "id": "l9TQoeI-8pAn",
    "outputId": "af47e959-7af6-4014-c1e9-2e82b282e2ea"
   },
   "outputs": [
    {
     "data": {
      "text/html": [
       "<div>\n",
       "<style scoped>\n",
       "    .dataframe tbody tr th:only-of-type {\n",
       "        vertical-align: middle;\n",
       "    }\n",
       "\n",
       "    .dataframe tbody tr th {\n",
       "        vertical-align: top;\n",
       "    }\n",
       "\n",
       "    .dataframe thead th {\n",
       "        text-align: right;\n",
       "    }\n",
       "</style>\n",
       "<table border=\"1\" class=\"dataframe\">\n",
       "  <thead>\n",
       "    <tr style=\"text-align: right;\">\n",
       "      <th></th>\n",
       "      <th>gm_code</th>\n",
       "      <th>gm_naam</th>\n",
       "      <th>geometry</th>\n",
       "    </tr>\n",
       "  </thead>\n",
       "  <tbody>\n",
       "    <tr>\n",
       "      <th>0</th>\n",
       "      <td>GM0003</td>\n",
       "      <td>Appingedam</td>\n",
       "      <td>POLYGON ((6.80583 53.31703, 6.80588 53.31704, ...</td>\n",
       "    </tr>\n",
       "    <tr>\n",
       "      <th>1</th>\n",
       "      <td>GM0010</td>\n",
       "      <td>Delfzijl</td>\n",
       "      <td>MULTIPOLYGON (((7.07833 53.26658, 7.07826 53.2...</td>\n",
       "    </tr>\n",
       "    <tr>\n",
       "      <th>2</th>\n",
       "      <td>GM0014</td>\n",
       "      <td>Groningen</td>\n",
       "      <td>POLYGON ((6.48047 53.24551, 6.48050 53.24579, ...</td>\n",
       "    </tr>\n",
       "    <tr>\n",
       "      <th>3</th>\n",
       "      <td>GM0024</td>\n",
       "      <td>Loppersum</td>\n",
       "      <td>POLYGON ((6.73921 53.38812, 6.73925 53.38815, ...</td>\n",
       "    </tr>\n",
       "    <tr>\n",
       "      <th>4</th>\n",
       "      <td>GM0034</td>\n",
       "      <td>Almere</td>\n",
       "      <td>MULTIPOLYGON (((5.21106 52.33159, 5.21106 52.3...</td>\n",
       "    </tr>\n",
       "    <tr>\n",
       "      <th>...</th>\n",
       "      <td>...</td>\n",
       "      <td>...</td>\n",
       "      <td>...</td>\n",
       "    </tr>\n",
       "    <tr>\n",
       "      <th>350</th>\n",
       "      <td>GM1963</td>\n",
       "      <td>Hoeksche Waard</td>\n",
       "      <td>MULTIPOLYGON (((4.57231 51.70007, 4.57053 51.6...</td>\n",
       "    </tr>\n",
       "    <tr>\n",
       "      <th>351</th>\n",
       "      <td>GM1966</td>\n",
       "      <td>Het Hogeland</td>\n",
       "      <td>MULTIPOLYGON (((6.29052 53.33942, 6.29052 53.3...</td>\n",
       "    </tr>\n",
       "    <tr>\n",
       "      <th>352</th>\n",
       "      <td>GM1969</td>\n",
       "      <td>Westerkwartier</td>\n",
       "      <td>POLYGON ((6.23175 53.25595, 6.23176 53.25599, ...</td>\n",
       "    </tr>\n",
       "    <tr>\n",
       "      <th>353</th>\n",
       "      <td>GM1970</td>\n",
       "      <td>Noardeast-Fryslân</td>\n",
       "      <td>MULTIPOLYGON (((6.17582 53.34599, 6.17582 53.3...</td>\n",
       "    </tr>\n",
       "    <tr>\n",
       "      <th>354</th>\n",
       "      <td>GM1978</td>\n",
       "      <td>Molenlanden</td>\n",
       "      <td>POLYGON ((4.62940 51.88084, 4.62932 51.88088, ...</td>\n",
       "    </tr>\n",
       "  </tbody>\n",
       "</table>\n",
       "<p>355 rows × 3 columns</p>\n",
       "</div>"
      ],
      "text/plain": [
       "    gm_code            gm_naam  \\\n",
       "0    GM0003         Appingedam   \n",
       "1    GM0010           Delfzijl   \n",
       "2    GM0014          Groningen   \n",
       "3    GM0024          Loppersum   \n",
       "4    GM0034             Almere   \n",
       "..      ...                ...   \n",
       "350  GM1963     Hoeksche Waard   \n",
       "351  GM1966       Het Hogeland   \n",
       "352  GM1969     Westerkwartier   \n",
       "353  GM1970  Noardeast-Fryslân   \n",
       "354  GM1978        Molenlanden   \n",
       "\n",
       "                                              geometry  \n",
       "0    POLYGON ((6.80583 53.31703, 6.80588 53.31704, ...  \n",
       "1    MULTIPOLYGON (((7.07833 53.26658, 7.07826 53.2...  \n",
       "2    POLYGON ((6.48047 53.24551, 6.48050 53.24579, ...  \n",
       "3    POLYGON ((6.73921 53.38812, 6.73925 53.38815, ...  \n",
       "4    MULTIPOLYGON (((5.21106 52.33159, 5.21106 52.3...  \n",
       "..                                                 ...  \n",
       "350  MULTIPOLYGON (((4.57231 51.70007, 4.57053 51.6...  \n",
       "351  MULTIPOLYGON (((6.29052 53.33942, 6.29052 53.3...  \n",
       "352  POLYGON ((6.23175 53.25595, 6.23176 53.25599, ...  \n",
       "353  MULTIPOLYGON (((6.17582 53.34599, 6.17582 53.3...  \n",
       "354  POLYGON ((4.62940 51.88084, 4.62932 51.88088, ...  \n",
       "\n",
       "[355 rows x 3 columns]"
      ]
     },
     "execution_count": 5,
     "metadata": {},
     "output_type": "execute_result"
    }
   ],
   "source": [
    "gdf"
   ]
  },
  {
   "cell_type": "markdown",
   "metadata": {
    "id": "ryt3odo6h1W5"
   },
   "source": [
    "## Data management"
   ]
  },
  {
   "cell_type": "code",
   "execution_count": 6,
   "metadata": {
    "colab": {
     "base_uri": "https://localhost:8080/",
     "height": 423
    },
    "executionInfo": {
     "elapsed": 7,
     "status": "ok",
     "timestamp": 1736780074884,
     "user": {
      "displayName": "Cato Martens",
      "userId": "03261732747761201437"
     },
     "user_tz": -60
    },
    "id": "lauSeTuFJ8Iy",
    "outputId": "d7b521d0-8ddc-4225-8e63-a5ae3e7fae34"
   },
   "outputs": [
    {
     "data": {
      "text/html": [
       "<div>\n",
       "<style scoped>\n",
       "    .dataframe tbody tr th:only-of-type {\n",
       "        vertical-align: middle;\n",
       "    }\n",
       "\n",
       "    .dataframe tbody tr th {\n",
       "        vertical-align: top;\n",
       "    }\n",
       "\n",
       "    .dataframe thead th {\n",
       "        text-align: right;\n",
       "    }\n",
       "</style>\n",
       "<table border=\"1\" class=\"dataframe\">\n",
       "  <thead>\n",
       "    <tr style=\"text-align: right;\">\n",
       "      <th></th>\n",
       "      <th>ID</th>\n",
       "      <th>RegioS</th>\n",
       "      <th>Perioden</th>\n",
       "      <th>GemiddeldeVerkoopprijs_1</th>\n",
       "    </tr>\n",
       "  </thead>\n",
       "  <tbody>\n",
       "    <tr>\n",
       "      <th>0</th>\n",
       "      <td>493</td>\n",
       "      <td>GM1680</td>\n",
       "      <td>1995JJ00</td>\n",
       "      <td>NaN</td>\n",
       "    </tr>\n",
       "    <tr>\n",
       "      <th>1</th>\n",
       "      <td>494</td>\n",
       "      <td>GM1680</td>\n",
       "      <td>1996JJ00</td>\n",
       "      <td>NaN</td>\n",
       "    </tr>\n",
       "    <tr>\n",
       "      <th>2</th>\n",
       "      <td>495</td>\n",
       "      <td>GM1680</td>\n",
       "      <td>1997JJ00</td>\n",
       "      <td>NaN</td>\n",
       "    </tr>\n",
       "    <tr>\n",
       "      <th>3</th>\n",
       "      <td>496</td>\n",
       "      <td>GM1680</td>\n",
       "      <td>1998JJ00</td>\n",
       "      <td>130136.0</td>\n",
       "    </tr>\n",
       "    <tr>\n",
       "      <th>4</th>\n",
       "      <td>497</td>\n",
       "      <td>GM1680</td>\n",
       "      <td>1999JJ00</td>\n",
       "      <td>159338.0</td>\n",
       "    </tr>\n",
       "    <tr>\n",
       "      <th>...</th>\n",
       "      <td>...</td>\n",
       "      <td>...</td>\n",
       "      <td>...</td>\n",
       "      <td>...</td>\n",
       "    </tr>\n",
       "    <tr>\n",
       "      <th>21107</th>\n",
       "      <td>21600</td>\n",
       "      <td>GM0193</td>\n",
       "      <td>2019JJ00</td>\n",
       "      <td>293098.0</td>\n",
       "    </tr>\n",
       "    <tr>\n",
       "      <th>21108</th>\n",
       "      <td>21601</td>\n",
       "      <td>GM0193</td>\n",
       "      <td>2020JJ00</td>\n",
       "      <td>315874.0</td>\n",
       "    </tr>\n",
       "    <tr>\n",
       "      <th>21109</th>\n",
       "      <td>21602</td>\n",
       "      <td>GM0193</td>\n",
       "      <td>2021JJ00</td>\n",
       "      <td>363081.0</td>\n",
       "    </tr>\n",
       "    <tr>\n",
       "      <th>21110</th>\n",
       "      <td>21603</td>\n",
       "      <td>GM0193</td>\n",
       "      <td>2022JJ00</td>\n",
       "      <td>414535.0</td>\n",
       "    </tr>\n",
       "    <tr>\n",
       "      <th>21111</th>\n",
       "      <td>21604</td>\n",
       "      <td>GM0193</td>\n",
       "      <td>2023JJ00</td>\n",
       "      <td>410024.0</td>\n",
       "    </tr>\n",
       "  </tbody>\n",
       "</table>\n",
       "<p>21112 rows × 4 columns</p>\n",
       "</div>"
      ],
      "text/plain": [
       "          ID  RegioS  Perioden  GemiddeldeVerkoopprijs_1\n",
       "0        493  GM1680  1995JJ00                       NaN\n",
       "1        494  GM1680  1996JJ00                       NaN\n",
       "2        495  GM1680  1997JJ00                       NaN\n",
       "3        496  GM1680  1998JJ00                  130136.0\n",
       "4        497  GM1680  1999JJ00                  159338.0\n",
       "...      ...     ...       ...                       ...\n",
       "21107  21600  GM0193  2019JJ00                  293098.0\n",
       "21108  21601  GM0193  2020JJ00                  315874.0\n",
       "21109  21602  GM0193  2021JJ00                  363081.0\n",
       "21110  21603  GM0193  2022JJ00                  414535.0\n",
       "21111  21604  GM0193  2023JJ00                  410024.0\n",
       "\n",
       "[21112 rows x 4 columns]"
      ]
     },
     "execution_count": 6,
     "metadata": {},
     "output_type": "execute_result"
    }
   ],
   "source": [
    "df1"
   ]
  },
  {
   "cell_type": "code",
   "execution_count": 7,
   "metadata": {
    "id": "ksxAQCUBIBia"
   },
   "outputs": [],
   "source": [
    "df_merged = df1.merge(gdf, left_on = \"RegioS\", right_on = \"gm_code\", how = \"right\")"
   ]
  },
  {
   "cell_type": "code",
   "execution_count": 8,
   "metadata": {
    "colab": {
     "base_uri": "https://localhost:8080/",
     "height": 423
    },
    "executionInfo": {
     "elapsed": 8244,
     "status": "ok",
     "timestamp": 1736780092210,
     "user": {
      "displayName": "Cato Martens",
      "userId": "03261732747761201437"
     },
     "user_tz": -60
    },
    "id": "Ioz-0J64OAuT",
    "outputId": "48afd46f-077f-4257-e10e-4ede7a6b17a3"
   },
   "outputs": [
    {
     "data": {
      "text/html": [
       "<div>\n",
       "<style scoped>\n",
       "    .dataframe tbody tr th:only-of-type {\n",
       "        vertical-align: middle;\n",
       "    }\n",
       "\n",
       "    .dataframe tbody tr th {\n",
       "        vertical-align: top;\n",
       "    }\n",
       "\n",
       "    .dataframe thead th {\n",
       "        text-align: right;\n",
       "    }\n",
       "</style>\n",
       "<table border=\"1\" class=\"dataframe\">\n",
       "  <thead>\n",
       "    <tr style=\"text-align: right;\">\n",
       "      <th></th>\n",
       "      <th>ID</th>\n",
       "      <th>RegioS</th>\n",
       "      <th>Perioden</th>\n",
       "      <th>GemiddeldeVerkoopprijs_1</th>\n",
       "      <th>gm_code</th>\n",
       "      <th>gm_naam</th>\n",
       "      <th>geometry</th>\n",
       "    </tr>\n",
       "  </thead>\n",
       "  <tbody>\n",
       "    <tr>\n",
       "      <th>0</th>\n",
       "      <td>1421</td>\n",
       "      <td>GM0003</td>\n",
       "      <td>1995JJ00</td>\n",
       "      <td>63239.0</td>\n",
       "      <td>GM0003</td>\n",
       "      <td>Appingedam</td>\n",
       "      <td>POLYGON ((6.80583 53.31703, 6.80588 53.31704, ...</td>\n",
       "    </tr>\n",
       "    <tr>\n",
       "      <th>1</th>\n",
       "      <td>1422</td>\n",
       "      <td>GM0003</td>\n",
       "      <td>1996JJ00</td>\n",
       "      <td>63839.0</td>\n",
       "      <td>GM0003</td>\n",
       "      <td>Appingedam</td>\n",
       "      <td>POLYGON ((6.80583 53.31703, 6.80588 53.31704, ...</td>\n",
       "    </tr>\n",
       "    <tr>\n",
       "      <th>2</th>\n",
       "      <td>1423</td>\n",
       "      <td>GM0003</td>\n",
       "      <td>1997JJ00</td>\n",
       "      <td>75184.0</td>\n",
       "      <td>GM0003</td>\n",
       "      <td>Appingedam</td>\n",
       "      <td>POLYGON ((6.80583 53.31703, 6.80588 53.31704, ...</td>\n",
       "    </tr>\n",
       "    <tr>\n",
       "      <th>3</th>\n",
       "      <td>1424</td>\n",
       "      <td>GM0003</td>\n",
       "      <td>1998JJ00</td>\n",
       "      <td>77023.0</td>\n",
       "      <td>GM0003</td>\n",
       "      <td>Appingedam</td>\n",
       "      <td>POLYGON ((6.80583 53.31703, 6.80588 53.31704, ...</td>\n",
       "    </tr>\n",
       "    <tr>\n",
       "      <th>4</th>\n",
       "      <td>1425</td>\n",
       "      <td>GM0003</td>\n",
       "      <td>1999JJ00</td>\n",
       "      <td>80202.0</td>\n",
       "      <td>GM0003</td>\n",
       "      <td>Appingedam</td>\n",
       "      <td>POLYGON ((6.80583 53.31703, 6.80588 53.31704, ...</td>\n",
       "    </tr>\n",
       "    <tr>\n",
       "      <th>...</th>\n",
       "      <td>...</td>\n",
       "      <td>...</td>\n",
       "      <td>...</td>\n",
       "      <td>...</td>\n",
       "      <td>...</td>\n",
       "      <td>...</td>\n",
       "      <td>...</td>\n",
       "    </tr>\n",
       "    <tr>\n",
       "      <th>10290</th>\n",
       "      <td>12436</td>\n",
       "      <td>GM1978</td>\n",
       "      <td>2019JJ00</td>\n",
       "      <td>302028.0</td>\n",
       "      <td>GM1978</td>\n",
       "      <td>Molenlanden</td>\n",
       "      <td>POLYGON ((4.62940 51.88084, 4.62932 51.88088, ...</td>\n",
       "    </tr>\n",
       "    <tr>\n",
       "      <th>10291</th>\n",
       "      <td>12437</td>\n",
       "      <td>GM1978</td>\n",
       "      <td>2020JJ00</td>\n",
       "      <td>337367.0</td>\n",
       "      <td>GM1978</td>\n",
       "      <td>Molenlanden</td>\n",
       "      <td>POLYGON ((4.62940 51.88084, 4.62932 51.88088, ...</td>\n",
       "    </tr>\n",
       "    <tr>\n",
       "      <th>10292</th>\n",
       "      <td>12438</td>\n",
       "      <td>GM1978</td>\n",
       "      <td>2021JJ00</td>\n",
       "      <td>373551.0</td>\n",
       "      <td>GM1978</td>\n",
       "      <td>Molenlanden</td>\n",
       "      <td>POLYGON ((4.62940 51.88084, 4.62932 51.88088, ...</td>\n",
       "    </tr>\n",
       "    <tr>\n",
       "      <th>10293</th>\n",
       "      <td>12439</td>\n",
       "      <td>GM1978</td>\n",
       "      <td>2022JJ00</td>\n",
       "      <td>450833.0</td>\n",
       "      <td>GM1978</td>\n",
       "      <td>Molenlanden</td>\n",
       "      <td>POLYGON ((4.62940 51.88084, 4.62932 51.88088, ...</td>\n",
       "    </tr>\n",
       "    <tr>\n",
       "      <th>10294</th>\n",
       "      <td>12440</td>\n",
       "      <td>GM1978</td>\n",
       "      <td>2023JJ00</td>\n",
       "      <td>404893.0</td>\n",
       "      <td>GM1978</td>\n",
       "      <td>Molenlanden</td>\n",
       "      <td>POLYGON ((4.62940 51.88084, 4.62932 51.88088, ...</td>\n",
       "    </tr>\n",
       "  </tbody>\n",
       "</table>\n",
       "<p>10295 rows × 7 columns</p>\n",
       "</div>"
      ],
      "text/plain": [
       "          ID  RegioS  Perioden  GemiddeldeVerkoopprijs_1 gm_code      gm_naam  \\\n",
       "0       1421  GM0003  1995JJ00                   63239.0  GM0003   Appingedam   \n",
       "1       1422  GM0003  1996JJ00                   63839.0  GM0003   Appingedam   \n",
       "2       1423  GM0003  1997JJ00                   75184.0  GM0003   Appingedam   \n",
       "3       1424  GM0003  1998JJ00                   77023.0  GM0003   Appingedam   \n",
       "4       1425  GM0003  1999JJ00                   80202.0  GM0003   Appingedam   \n",
       "...      ...     ...       ...                       ...     ...          ...   \n",
       "10290  12436  GM1978  2019JJ00                  302028.0  GM1978  Molenlanden   \n",
       "10291  12437  GM1978  2020JJ00                  337367.0  GM1978  Molenlanden   \n",
       "10292  12438  GM1978  2021JJ00                  373551.0  GM1978  Molenlanden   \n",
       "10293  12439  GM1978  2022JJ00                  450833.0  GM1978  Molenlanden   \n",
       "10294  12440  GM1978  2023JJ00                  404893.0  GM1978  Molenlanden   \n",
       "\n",
       "                                                geometry  \n",
       "0      POLYGON ((6.80583 53.31703, 6.80588 53.31704, ...  \n",
       "1      POLYGON ((6.80583 53.31703, 6.80588 53.31704, ...  \n",
       "2      POLYGON ((6.80583 53.31703, 6.80588 53.31704, ...  \n",
       "3      POLYGON ((6.80583 53.31703, 6.80588 53.31704, ...  \n",
       "4      POLYGON ((6.80583 53.31703, 6.80588 53.31704, ...  \n",
       "...                                                  ...  \n",
       "10290  POLYGON ((4.62940 51.88084, 4.62932 51.88088, ...  \n",
       "10291  POLYGON ((4.62940 51.88084, 4.62932 51.88088, ...  \n",
       "10292  POLYGON ((4.62940 51.88084, 4.62932 51.88088, ...  \n",
       "10293  POLYGON ((4.62940 51.88084, 4.62932 51.88088, ...  \n",
       "10294  POLYGON ((4.62940 51.88084, 4.62932 51.88088, ...  \n",
       "\n",
       "[10295 rows x 7 columns]"
      ]
     },
     "execution_count": 8,
     "metadata": {},
     "output_type": "execute_result"
    }
   ],
   "source": [
    "df_merged"
   ]
  },
  {
   "cell_type": "code",
   "execution_count": 9,
   "metadata": {
    "colab": {
     "base_uri": "https://localhost:8080/",
     "height": 423
    },
    "executionInfo": {
     "elapsed": 168,
     "status": "ok",
     "timestamp": 1736780172092,
     "user": {
      "displayName": "Cato Martens",
      "userId": "03261732747761201437"
     },
     "user_tz": -60
    },
    "id": "F2PgA3ZMryBa",
    "outputId": "63e3b1d0-e4cd-489b-8bbc-f3942011a336"
   },
   "outputs": [
    {
     "data": {
      "text/html": [
       "<div>\n",
       "<style scoped>\n",
       "    .dataframe tbody tr th:only-of-type {\n",
       "        vertical-align: middle;\n",
       "    }\n",
       "\n",
       "    .dataframe tbody tr th {\n",
       "        vertical-align: top;\n",
       "    }\n",
       "\n",
       "    .dataframe thead th {\n",
       "        text-align: right;\n",
       "    }\n",
       "</style>\n",
       "<table border=\"1\" class=\"dataframe\">\n",
       "  <thead>\n",
       "    <tr style=\"text-align: right;\">\n",
       "      <th></th>\n",
       "      <th>Unnamed: 0</th>\n",
       "      <th>2019</th>\n",
       "      <th>2020</th>\n",
       "      <th>2021</th>\n",
       "      <th>2022</th>\n",
       "      <th>2023</th>\n",
       "      <th>2024**</th>\n",
       "    </tr>\n",
       "  </thead>\n",
       "  <tbody>\n",
       "    <tr>\n",
       "      <th>0</th>\n",
       "      <td>Aa en Hunze</td>\n",
       "      <td>276.0</td>\n",
       "      <td>292.0</td>\n",
       "      <td>309.0</td>\n",
       "      <td>340.0</td>\n",
       "      <td>390.0</td>\n",
       "      <td>396.0</td>\n",
       "    </tr>\n",
       "    <tr>\n",
       "      <th>1</th>\n",
       "      <td>Aalsmeer</td>\n",
       "      <td>393.0</td>\n",
       "      <td>421.0</td>\n",
       "      <td>447.0</td>\n",
       "      <td>498.0</td>\n",
       "      <td>574.0</td>\n",
       "      <td>573.0</td>\n",
       "    </tr>\n",
       "    <tr>\n",
       "      <th>2</th>\n",
       "      <td>Aalten</td>\n",
       "      <td>234.0</td>\n",
       "      <td>249.0</td>\n",
       "      <td>265.0</td>\n",
       "      <td>294.0</td>\n",
       "      <td>347.0</td>\n",
       "      <td>366.0</td>\n",
       "    </tr>\n",
       "    <tr>\n",
       "      <th>3</th>\n",
       "      <td>Achtkarspelen</td>\n",
       "      <td>217.0</td>\n",
       "      <td>229.0</td>\n",
       "      <td>247.0</td>\n",
       "      <td>270.0</td>\n",
       "      <td>305.0</td>\n",
       "      <td>323.0</td>\n",
       "    </tr>\n",
       "    <tr>\n",
       "      <th>4</th>\n",
       "      <td>Alblasserdam</td>\n",
       "      <td>257.0</td>\n",
       "      <td>278.0</td>\n",
       "      <td>299.0</td>\n",
       "      <td>326.0</td>\n",
       "      <td>385.0</td>\n",
       "      <td>408.0</td>\n",
       "    </tr>\n",
       "    <tr>\n",
       "      <th>...</th>\n",
       "      <td>...</td>\n",
       "      <td>...</td>\n",
       "      <td>...</td>\n",
       "      <td>...</td>\n",
       "      <td>...</td>\n",
       "      <td>...</td>\n",
       "      <td>...</td>\n",
       "    </tr>\n",
       "    <tr>\n",
       "      <th>355</th>\n",
       "      <td>Zundert</td>\n",
       "      <td>316.0</td>\n",
       "      <td>333.0</td>\n",
       "      <td>348.0</td>\n",
       "      <td>388.0</td>\n",
       "      <td>443.0</td>\n",
       "      <td>472.0</td>\n",
       "    </tr>\n",
       "    <tr>\n",
       "      <th>356</th>\n",
       "      <td>Zutphen</td>\n",
       "      <td>246.0</td>\n",
       "      <td>266.0</td>\n",
       "      <td>285.0</td>\n",
       "      <td>313.0</td>\n",
       "      <td>382.0</td>\n",
       "      <td>396.0</td>\n",
       "    </tr>\n",
       "    <tr>\n",
       "      <th>357</th>\n",
       "      <td>Zwartewaterland</td>\n",
       "      <td>245.0</td>\n",
       "      <td>255.0</td>\n",
       "      <td>270.0</td>\n",
       "      <td>299.0</td>\n",
       "      <td>338.0</td>\n",
       "      <td>357.0</td>\n",
       "    </tr>\n",
       "    <tr>\n",
       "      <th>358</th>\n",
       "      <td>Zwijndrecht</td>\n",
       "      <td>240.0</td>\n",
       "      <td>266.0</td>\n",
       "      <td>292.0</td>\n",
       "      <td>316.0</td>\n",
       "      <td>371.0</td>\n",
       "      <td>385.0</td>\n",
       "    </tr>\n",
       "    <tr>\n",
       "      <th>359</th>\n",
       "      <td>Zwolle</td>\n",
       "      <td>295.0</td>\n",
       "      <td>318.0</td>\n",
       "      <td>342.0</td>\n",
       "      <td>374.0</td>\n",
       "      <td>429.0</td>\n",
       "      <td>443.0</td>\n",
       "    </tr>\n",
       "  </tbody>\n",
       "</table>\n",
       "<p>360 rows × 7 columns</p>\n",
       "</div>"
      ],
      "text/plain": [
       "          Unnamed: 0   2019   2020   2021   2022   2023  2024**\n",
       "0        Aa en Hunze  276.0  292.0  309.0  340.0  390.0   396.0\n",
       "1           Aalsmeer  393.0  421.0  447.0  498.0  574.0   573.0\n",
       "2             Aalten  234.0  249.0  265.0  294.0  347.0   366.0\n",
       "3      Achtkarspelen  217.0  229.0  247.0  270.0  305.0   323.0\n",
       "4       Alblasserdam  257.0  278.0  299.0  326.0  385.0   408.0\n",
       "..               ...    ...    ...    ...    ...    ...     ...\n",
       "355          Zundert  316.0  333.0  348.0  388.0  443.0   472.0\n",
       "356          Zutphen  246.0  266.0  285.0  313.0  382.0   396.0\n",
       "357  Zwartewaterland  245.0  255.0  270.0  299.0  338.0   357.0\n",
       "358      Zwijndrecht  240.0  266.0  292.0  316.0  371.0   385.0\n",
       "359           Zwolle  295.0  318.0  342.0  374.0  429.0   443.0\n",
       "\n",
       "[360 rows x 7 columns]"
      ]
     },
     "execution_count": 9,
     "metadata": {},
     "output_type": "execute_result"
    }
   ],
   "source": [
    "df2"
   ]
  },
  {
   "cell_type": "code",
   "execution_count": 10,
   "metadata": {
    "id": "baBCrFQKKUts"
   },
   "outputs": [],
   "source": [
    "mapping = {\n",
    "    \"Beek (L.)\": \"Beek\",\n",
    "    \"'s-Gravenhage (gemeente)\": \"'s-Gravenhage\",\n",
    "    \"Groningen (gemeente)\": \"Groningen\",\n",
    "    \"Hengelo (O.)\": \"Hengelo\",\n",
    "    \"Laren (NH.)\": \"Laren\",\n",
    "    \"Middelburg (Z.)\": \"Middelburg\",\n",
    "    \"Rijswijk (ZH.)\": \"Rijswijk\",\n",
    "    \"Stein (L.)\": \"Stein\",\n",
    "    \"Utrecht (gemeente)\": \"Utrecht\",\n",
    "}"
   ]
  },
  {
   "cell_type": "code",
   "execution_count": 11,
   "metadata": {
    "id": "zSIPwbt0K7su"
   },
   "outputs": [],
   "source": [
    "# Function to adjust the value with the mapping\n",
    "def update_name(name):\n",
    "    return mapping.get(name, name)  # Use the value from the mapping, or leave unchanged if not found\n",
    "\n",
    "# Customize the column\n",
    "df2[\"Unnamed: 0\"] = df2[\"Unnamed: 0\"].apply(update_name)"
   ]
  },
  {
   "cell_type": "code",
   "execution_count": 12,
   "metadata": {
    "id": "L_zlxdpSHOkE"
   },
   "outputs": [],
   "source": [
    "df2.rename(columns = {\"2024**\t\": \"2024\"}, inplace = True)"
   ]
  },
  {
   "cell_type": "code",
   "execution_count": 13,
   "metadata": {
    "id": "6noGIH8VK-G9"
   },
   "outputs": [],
   "source": [
    "df2[df2.select_dtypes(include=['number']).columns] *= 1000"
   ]
  },
  {
   "cell_type": "code",
   "execution_count": 14,
   "metadata": {
    "id": "tNp9mkPCF0iB"
   },
   "outputs": [],
   "source": [
    "df2_right = df2.merge(gdf, left_on = \"Unnamed: 0\", right_on = \"gm_naam\", how = \"right\")\n",
    "df2_left = df2.merge(gdf, left_on = \"Unnamed: 0\", right_on = \"gm_naam\", how = \"left\")"
   ]
  },
  {
   "cell_type": "code",
   "execution_count": 15,
   "metadata": {
    "colab": {
     "base_uri": "https://localhost:8080/",
     "height": 206
    },
    "executionInfo": {
     "elapsed": 4,
     "status": "ok",
     "timestamp": 1736780180510,
     "user": {
      "displayName": "Cato Martens",
      "userId": "03261732747761201437"
     },
     "user_tz": -60
    },
    "id": "XsAGT8xNI1Fa",
    "outputId": "696daf00-f9ee-4dd6-d2b8-daee41480661"
   },
   "outputs": [
    {
     "data": {
      "text/html": [
       "<div>\n",
       "<style scoped>\n",
       "    .dataframe tbody tr th:only-of-type {\n",
       "        vertical-align: middle;\n",
       "    }\n",
       "\n",
       "    .dataframe tbody tr th {\n",
       "        vertical-align: top;\n",
       "    }\n",
       "\n",
       "    .dataframe thead th {\n",
       "        text-align: right;\n",
       "    }\n",
       "</style>\n",
       "<table border=\"1\" class=\"dataframe\">\n",
       "  <thead>\n",
       "    <tr style=\"text-align: right;\">\n",
       "      <th></th>\n",
       "      <th>Unnamed: 0</th>\n",
       "      <th>2019</th>\n",
       "      <th>2020</th>\n",
       "      <th>2021</th>\n",
       "      <th>2022</th>\n",
       "      <th>2023</th>\n",
       "      <th>2024**</th>\n",
       "      <th>gm_code</th>\n",
       "      <th>gm_naam</th>\n",
       "      <th>geometry</th>\n",
       "    </tr>\n",
       "  </thead>\n",
       "  <tbody>\n",
       "    <tr>\n",
       "      <th>71</th>\n",
       "      <td>Dijk en Waard</td>\n",
       "      <td>NaN</td>\n",
       "      <td>NaN</td>\n",
       "      <td>NaN</td>\n",
       "      <td>350000.0</td>\n",
       "      <td>414000.0</td>\n",
       "      <td>443000.0</td>\n",
       "      <td>NaN</td>\n",
       "      <td>NaN</td>\n",
       "      <td>None</td>\n",
       "    </tr>\n",
       "    <tr>\n",
       "      <th>86</th>\n",
       "      <td>Eemsdelta</td>\n",
       "      <td>NaN</td>\n",
       "      <td>NaN</td>\n",
       "      <td>197000.0</td>\n",
       "      <td>218000.0</td>\n",
       "      <td>254000.0</td>\n",
       "      <td>272000.0</td>\n",
       "      <td>NaN</td>\n",
       "      <td>NaN</td>\n",
       "      <td>None</td>\n",
       "    </tr>\n",
       "    <tr>\n",
       "      <th>163</th>\n",
       "      <td>Land van Cuijk</td>\n",
       "      <td>NaN</td>\n",
       "      <td>NaN</td>\n",
       "      <td>NaN</td>\n",
       "      <td>346000.0</td>\n",
       "      <td>396000.0</td>\n",
       "      <td>426000.0</td>\n",
       "      <td>NaN</td>\n",
       "      <td>NaN</td>\n",
       "      <td>None</td>\n",
       "    </tr>\n",
       "    <tr>\n",
       "      <th>186</th>\n",
       "      <td>Maashorst</td>\n",
       "      <td>NaN</td>\n",
       "      <td>NaN</td>\n",
       "      <td>NaN</td>\n",
       "      <td>395000.0</td>\n",
       "      <td>455000.0</td>\n",
       "      <td>476000.0</td>\n",
       "      <td>NaN</td>\n",
       "      <td>NaN</td>\n",
       "      <td>None</td>\n",
       "    </tr>\n",
       "    <tr>\n",
       "      <th>314</th>\n",
       "      <td>Voorne aan Zee</td>\n",
       "      <td>NaN</td>\n",
       "      <td>NaN</td>\n",
       "      <td>NaN</td>\n",
       "      <td>NaN</td>\n",
       "      <td>424000.0</td>\n",
       "      <td>447000.0</td>\n",
       "      <td>NaN</td>\n",
       "      <td>NaN</td>\n",
       "      <td>None</td>\n",
       "    </tr>\n",
       "  </tbody>\n",
       "</table>\n",
       "</div>"
      ],
      "text/plain": [
       "         Unnamed: 0  2019  2020      2021      2022      2023    2024**  \\\n",
       "71    Dijk en Waard   NaN   NaN       NaN  350000.0  414000.0  443000.0   \n",
       "86        Eemsdelta   NaN   NaN  197000.0  218000.0  254000.0  272000.0   \n",
       "163  Land van Cuijk   NaN   NaN       NaN  346000.0  396000.0  426000.0   \n",
       "186       Maashorst   NaN   NaN       NaN  395000.0  455000.0  476000.0   \n",
       "314  Voorne aan Zee   NaN   NaN       NaN       NaN  424000.0  447000.0   \n",
       "\n",
       "    gm_code gm_naam geometry  \n",
       "71      NaN     NaN     None  \n",
       "86      NaN     NaN     None  \n",
       "163     NaN     NaN     None  \n",
       "186     NaN     NaN     None  \n",
       "314     NaN     NaN     None  "
      ]
     },
     "execution_count": 15,
     "metadata": {},
     "output_type": "execute_result"
    }
   ],
   "source": [
    "df2_left[df2_left[\"gm_naam\"].isna()]"
   ]
  },
  {
   "cell_type": "code",
   "execution_count": 16,
   "metadata": {
    "colab": {
     "base_uri": "https://localhost:8080/",
     "height": 53
    },
    "executionInfo": {
     "elapsed": 3,
     "status": "ok",
     "timestamp": 1736780180746,
     "user": {
      "displayName": "Cato Martens",
      "userId": "03261732747761201437"
     },
     "user_tz": -60
    },
    "id": "zfqO7dkWHXlH",
    "outputId": "dd815f26-914a-485c-c7cd-f8bebf275341"
   },
   "outputs": [
    {
     "data": {
      "text/html": [
       "<div>\n",
       "<style scoped>\n",
       "    .dataframe tbody tr th:only-of-type {\n",
       "        vertical-align: middle;\n",
       "    }\n",
       "\n",
       "    .dataframe tbody tr th {\n",
       "        vertical-align: top;\n",
       "    }\n",
       "\n",
       "    .dataframe thead th {\n",
       "        text-align: right;\n",
       "    }\n",
       "</style>\n",
       "<table border=\"1\" class=\"dataframe\">\n",
       "  <thead>\n",
       "    <tr style=\"text-align: right;\">\n",
       "      <th></th>\n",
       "      <th>Unnamed: 0</th>\n",
       "      <th>2019</th>\n",
       "      <th>2020</th>\n",
       "      <th>2021</th>\n",
       "      <th>2022</th>\n",
       "      <th>2023</th>\n",
       "      <th>2024**</th>\n",
       "      <th>gm_code</th>\n",
       "      <th>gm_naam</th>\n",
       "      <th>geometry</th>\n",
       "    </tr>\n",
       "  </thead>\n",
       "  <tbody>\n",
       "  </tbody>\n",
       "</table>\n",
       "</div>"
      ],
      "text/plain": [
       "Empty DataFrame\n",
       "Columns: [Unnamed: 0, 2019, 2020, 2021, 2022, 2023, 2024**, gm_code, gm_naam, geometry]\n",
       "Index: []"
      ]
     },
     "execution_count": 16,
     "metadata": {},
     "output_type": "execute_result"
    }
   ],
   "source": [
    "df2_right[df2_right[\"Unnamed: 0\"].isna()]\n"
   ]
  },
  {
   "cell_type": "markdown",
   "metadata": {
    "id": "FgmOgLelL4xI"
   },
   "source": [
    "df2_right is dus correct nu, de 5 gemeenten skippen we."
   ]
  },
  {
   "cell_type": "code",
   "execution_count": 17,
   "metadata": {
    "id": "ep8YGy09MaU8"
   },
   "outputs": [],
   "source": [
    "df2_right.rename(columns = {\"2019\": \"2019_woz\"}, inplace = True)\n",
    "df2_right.rename(columns = {\"2020\": \"2020_woz\"}, inplace = True)\n",
    "df2_right.rename(columns = {\"2021\": \"2021_woz\"}, inplace = True)\n",
    "df2_right.rename(columns = {\"2022\": \"2022_woz\"}, inplace = True)\n",
    "df2_right.rename(columns = {\"2023\": \"2023_woz\"}, inplace = True)"
   ]
  },
  {
   "cell_type": "code",
   "execution_count": 18,
   "metadata": {
    "id": "DzjMiOqPNL4q"
   },
   "outputs": [],
   "source": [
    "df2_right.drop(columns = [\"Unnamed: 0\", \"gm_naam\", \"geometry\", \"2024**\"], inplace = True)"
   ]
  },
  {
   "cell_type": "code",
   "execution_count": 19,
   "metadata": {
    "colab": {
     "base_uri": "https://localhost:8080/",
     "height": 423
    },
    "executionInfo": {
     "elapsed": 147,
     "status": "ok",
     "timestamp": 1736780186615,
     "user": {
      "displayName": "Cato Martens",
      "userId": "03261732747761201437"
     },
     "user_tz": -60
    },
    "id": "27SIsekuSawT",
    "outputId": "e6556498-c511-446b-c3f3-87a506420a0c"
   },
   "outputs": [
    {
     "data": {
      "text/html": [
       "<div>\n",
       "<style scoped>\n",
       "    .dataframe tbody tr th:only-of-type {\n",
       "        vertical-align: middle;\n",
       "    }\n",
       "\n",
       "    .dataframe tbody tr th {\n",
       "        vertical-align: top;\n",
       "    }\n",
       "\n",
       "    .dataframe thead th {\n",
       "        text-align: right;\n",
       "    }\n",
       "</style>\n",
       "<table border=\"1\" class=\"dataframe\">\n",
       "  <thead>\n",
       "    <tr style=\"text-align: right;\">\n",
       "      <th></th>\n",
       "      <th>2019_woz</th>\n",
       "      <th>2020_woz</th>\n",
       "      <th>2021_woz</th>\n",
       "      <th>2022_woz</th>\n",
       "      <th>2023_woz</th>\n",
       "      <th>gm_code</th>\n",
       "    </tr>\n",
       "  </thead>\n",
       "  <tbody>\n",
       "    <tr>\n",
       "      <th>0</th>\n",
       "      <td>179000.0</td>\n",
       "      <td>193000.0</td>\n",
       "      <td>NaN</td>\n",
       "      <td>NaN</td>\n",
       "      <td>NaN</td>\n",
       "      <td>GM0003</td>\n",
       "    </tr>\n",
       "    <tr>\n",
       "      <th>1</th>\n",
       "      <td>151000.0</td>\n",
       "      <td>160000.0</td>\n",
       "      <td>NaN</td>\n",
       "      <td>NaN</td>\n",
       "      <td>NaN</td>\n",
       "      <td>GM0010</td>\n",
       "    </tr>\n",
       "    <tr>\n",
       "      <th>2</th>\n",
       "      <td>257000.0</td>\n",
       "      <td>279000.0</td>\n",
       "      <td>304000.0</td>\n",
       "      <td>338000.0</td>\n",
       "      <td>393000.0</td>\n",
       "      <td>GM0014</td>\n",
       "    </tr>\n",
       "    <tr>\n",
       "      <th>3</th>\n",
       "      <td>192000.0</td>\n",
       "      <td>209000.0</td>\n",
       "      <td>NaN</td>\n",
       "      <td>NaN</td>\n",
       "      <td>NaN</td>\n",
       "      <td>GM0024</td>\n",
       "    </tr>\n",
       "    <tr>\n",
       "      <th>4</th>\n",
       "      <td>250000.0</td>\n",
       "      <td>282000.0</td>\n",
       "      <td>310000.0</td>\n",
       "      <td>348000.0</td>\n",
       "      <td>409000.0</td>\n",
       "      <td>GM0034</td>\n",
       "    </tr>\n",
       "    <tr>\n",
       "      <th>...</th>\n",
       "      <td>...</td>\n",
       "      <td>...</td>\n",
       "      <td>...</td>\n",
       "      <td>...</td>\n",
       "      <td>...</td>\n",
       "      <td>...</td>\n",
       "    </tr>\n",
       "    <tr>\n",
       "      <th>350</th>\n",
       "      <td>279000.0</td>\n",
       "      <td>301000.0</td>\n",
       "      <td>317000.0</td>\n",
       "      <td>347000.0</td>\n",
       "      <td>405000.0</td>\n",
       "      <td>GM1963</td>\n",
       "    </tr>\n",
       "    <tr>\n",
       "      <th>351</th>\n",
       "      <td>195000.0</td>\n",
       "      <td>209000.0</td>\n",
       "      <td>222000.0</td>\n",
       "      <td>247000.0</td>\n",
       "      <td>291000.0</td>\n",
       "      <td>GM1966</td>\n",
       "    </tr>\n",
       "    <tr>\n",
       "      <th>352</th>\n",
       "      <td>245000.0</td>\n",
       "      <td>258000.0</td>\n",
       "      <td>272000.0</td>\n",
       "      <td>300000.0</td>\n",
       "      <td>348000.0</td>\n",
       "      <td>GM1969</td>\n",
       "    </tr>\n",
       "    <tr>\n",
       "      <th>353</th>\n",
       "      <td>196000.0</td>\n",
       "      <td>204000.0</td>\n",
       "      <td>224000.0</td>\n",
       "      <td>266000.0</td>\n",
       "      <td>312000.0</td>\n",
       "      <td>GM1970</td>\n",
       "    </tr>\n",
       "    <tr>\n",
       "      <th>354</th>\n",
       "      <td>323000.0</td>\n",
       "      <td>334000.0</td>\n",
       "      <td>357000.0</td>\n",
       "      <td>397000.0</td>\n",
       "      <td>447000.0</td>\n",
       "      <td>GM1978</td>\n",
       "    </tr>\n",
       "  </tbody>\n",
       "</table>\n",
       "<p>355 rows × 6 columns</p>\n",
       "</div>"
      ],
      "text/plain": [
       "     2019_woz  2020_woz  2021_woz  2022_woz  2023_woz gm_code\n",
       "0    179000.0  193000.0       NaN       NaN       NaN  GM0003\n",
       "1    151000.0  160000.0       NaN       NaN       NaN  GM0010\n",
       "2    257000.0  279000.0  304000.0  338000.0  393000.0  GM0014\n",
       "3    192000.0  209000.0       NaN       NaN       NaN  GM0024\n",
       "4    250000.0  282000.0  310000.0  348000.0  409000.0  GM0034\n",
       "..        ...       ...       ...       ...       ...     ...\n",
       "350  279000.0  301000.0  317000.0  347000.0  405000.0  GM1963\n",
       "351  195000.0  209000.0  222000.0  247000.0  291000.0  GM1966\n",
       "352  245000.0  258000.0  272000.0  300000.0  348000.0  GM1969\n",
       "353  196000.0  204000.0  224000.0  266000.0  312000.0  GM1970\n",
       "354  323000.0  334000.0  357000.0  397000.0  447000.0  GM1978\n",
       "\n",
       "[355 rows x 6 columns]"
      ]
     },
     "execution_count": 19,
     "metadata": {},
     "output_type": "execute_result"
    }
   ],
   "source": [
    "df2_right"
   ]
  },
  {
   "cell_type": "code",
   "execution_count": 20,
   "metadata": {
    "id": "68Sw75ZSMyeU"
   },
   "outputs": [],
   "source": [
    "merged = df2_right.merge(df1, left_on=\"gm_code\", right_on=\"RegioS\", how = \"left\")"
   ]
  },
  {
   "cell_type": "code",
   "execution_count": 21,
   "metadata": {
    "colab": {
     "base_uri": "https://localhost:8080/",
     "height": 423
    },
    "executionInfo": {
     "elapsed": 370,
     "status": "ok",
     "timestamp": 1736780223969,
     "user": {
      "displayName": "Cato Martens",
      "userId": "03261732747761201437"
     },
     "user_tz": -60
    },
    "id": "A8HJzpGBRl7O",
    "outputId": "425b21d1-b11c-4cb1-e352-bca17f548090"
   },
   "outputs": [
    {
     "data": {
      "text/html": [
       "<div>\n",
       "<style scoped>\n",
       "    .dataframe tbody tr th:only-of-type {\n",
       "        vertical-align: middle;\n",
       "    }\n",
       "\n",
       "    .dataframe tbody tr th {\n",
       "        vertical-align: top;\n",
       "    }\n",
       "\n",
       "    .dataframe thead th {\n",
       "        text-align: right;\n",
       "    }\n",
       "</style>\n",
       "<table border=\"1\" class=\"dataframe\">\n",
       "  <thead>\n",
       "    <tr style=\"text-align: right;\">\n",
       "      <th></th>\n",
       "      <th>2019_woz</th>\n",
       "      <th>2020_woz</th>\n",
       "      <th>2021_woz</th>\n",
       "      <th>2022_woz</th>\n",
       "      <th>2023_woz</th>\n",
       "      <th>gm_code</th>\n",
       "      <th>ID</th>\n",
       "      <th>RegioS</th>\n",
       "      <th>Perioden</th>\n",
       "      <th>GemiddeldeVerkoopprijs_1</th>\n",
       "    </tr>\n",
       "  </thead>\n",
       "  <tbody>\n",
       "    <tr>\n",
       "      <th>0</th>\n",
       "      <td>179000.0</td>\n",
       "      <td>193000.0</td>\n",
       "      <td>NaN</td>\n",
       "      <td>NaN</td>\n",
       "      <td>NaN</td>\n",
       "      <td>GM0003</td>\n",
       "      <td>1421</td>\n",
       "      <td>GM0003</td>\n",
       "      <td>1995JJ00</td>\n",
       "      <td>63239.0</td>\n",
       "    </tr>\n",
       "    <tr>\n",
       "      <th>1</th>\n",
       "      <td>179000.0</td>\n",
       "      <td>193000.0</td>\n",
       "      <td>NaN</td>\n",
       "      <td>NaN</td>\n",
       "      <td>NaN</td>\n",
       "      <td>GM0003</td>\n",
       "      <td>1422</td>\n",
       "      <td>GM0003</td>\n",
       "      <td>1996JJ00</td>\n",
       "      <td>63839.0</td>\n",
       "    </tr>\n",
       "    <tr>\n",
       "      <th>2</th>\n",
       "      <td>179000.0</td>\n",
       "      <td>193000.0</td>\n",
       "      <td>NaN</td>\n",
       "      <td>NaN</td>\n",
       "      <td>NaN</td>\n",
       "      <td>GM0003</td>\n",
       "      <td>1423</td>\n",
       "      <td>GM0003</td>\n",
       "      <td>1997JJ00</td>\n",
       "      <td>75184.0</td>\n",
       "    </tr>\n",
       "    <tr>\n",
       "      <th>3</th>\n",
       "      <td>179000.0</td>\n",
       "      <td>193000.0</td>\n",
       "      <td>NaN</td>\n",
       "      <td>NaN</td>\n",
       "      <td>NaN</td>\n",
       "      <td>GM0003</td>\n",
       "      <td>1424</td>\n",
       "      <td>GM0003</td>\n",
       "      <td>1998JJ00</td>\n",
       "      <td>77023.0</td>\n",
       "    </tr>\n",
       "    <tr>\n",
       "      <th>4</th>\n",
       "      <td>179000.0</td>\n",
       "      <td>193000.0</td>\n",
       "      <td>NaN</td>\n",
       "      <td>NaN</td>\n",
       "      <td>NaN</td>\n",
       "      <td>GM0003</td>\n",
       "      <td>1425</td>\n",
       "      <td>GM0003</td>\n",
       "      <td>1999JJ00</td>\n",
       "      <td>80202.0</td>\n",
       "    </tr>\n",
       "    <tr>\n",
       "      <th>...</th>\n",
       "      <td>...</td>\n",
       "      <td>...</td>\n",
       "      <td>...</td>\n",
       "      <td>...</td>\n",
       "      <td>...</td>\n",
       "      <td>...</td>\n",
       "      <td>...</td>\n",
       "      <td>...</td>\n",
       "      <td>...</td>\n",
       "      <td>...</td>\n",
       "    </tr>\n",
       "    <tr>\n",
       "      <th>10290</th>\n",
       "      <td>323000.0</td>\n",
       "      <td>334000.0</td>\n",
       "      <td>357000.0</td>\n",
       "      <td>397000.0</td>\n",
       "      <td>447000.0</td>\n",
       "      <td>GM1978</td>\n",
       "      <td>12436</td>\n",
       "      <td>GM1978</td>\n",
       "      <td>2019JJ00</td>\n",
       "      <td>302028.0</td>\n",
       "    </tr>\n",
       "    <tr>\n",
       "      <th>10291</th>\n",
       "      <td>323000.0</td>\n",
       "      <td>334000.0</td>\n",
       "      <td>357000.0</td>\n",
       "      <td>397000.0</td>\n",
       "      <td>447000.0</td>\n",
       "      <td>GM1978</td>\n",
       "      <td>12437</td>\n",
       "      <td>GM1978</td>\n",
       "      <td>2020JJ00</td>\n",
       "      <td>337367.0</td>\n",
       "    </tr>\n",
       "    <tr>\n",
       "      <th>10292</th>\n",
       "      <td>323000.0</td>\n",
       "      <td>334000.0</td>\n",
       "      <td>357000.0</td>\n",
       "      <td>397000.0</td>\n",
       "      <td>447000.0</td>\n",
       "      <td>GM1978</td>\n",
       "      <td>12438</td>\n",
       "      <td>GM1978</td>\n",
       "      <td>2021JJ00</td>\n",
       "      <td>373551.0</td>\n",
       "    </tr>\n",
       "    <tr>\n",
       "      <th>10293</th>\n",
       "      <td>323000.0</td>\n",
       "      <td>334000.0</td>\n",
       "      <td>357000.0</td>\n",
       "      <td>397000.0</td>\n",
       "      <td>447000.0</td>\n",
       "      <td>GM1978</td>\n",
       "      <td>12439</td>\n",
       "      <td>GM1978</td>\n",
       "      <td>2022JJ00</td>\n",
       "      <td>450833.0</td>\n",
       "    </tr>\n",
       "    <tr>\n",
       "      <th>10294</th>\n",
       "      <td>323000.0</td>\n",
       "      <td>334000.0</td>\n",
       "      <td>357000.0</td>\n",
       "      <td>397000.0</td>\n",
       "      <td>447000.0</td>\n",
       "      <td>GM1978</td>\n",
       "      <td>12440</td>\n",
       "      <td>GM1978</td>\n",
       "      <td>2023JJ00</td>\n",
       "      <td>404893.0</td>\n",
       "    </tr>\n",
       "  </tbody>\n",
       "</table>\n",
       "<p>10295 rows × 10 columns</p>\n",
       "</div>"
      ],
      "text/plain": [
       "       2019_woz  2020_woz  2021_woz  2022_woz  2023_woz gm_code     ID  \\\n",
       "0      179000.0  193000.0       NaN       NaN       NaN  GM0003   1421   \n",
       "1      179000.0  193000.0       NaN       NaN       NaN  GM0003   1422   \n",
       "2      179000.0  193000.0       NaN       NaN       NaN  GM0003   1423   \n",
       "3      179000.0  193000.0       NaN       NaN       NaN  GM0003   1424   \n",
       "4      179000.0  193000.0       NaN       NaN       NaN  GM0003   1425   \n",
       "...         ...       ...       ...       ...       ...     ...    ...   \n",
       "10290  323000.0  334000.0  357000.0  397000.0  447000.0  GM1978  12436   \n",
       "10291  323000.0  334000.0  357000.0  397000.0  447000.0  GM1978  12437   \n",
       "10292  323000.0  334000.0  357000.0  397000.0  447000.0  GM1978  12438   \n",
       "10293  323000.0  334000.0  357000.0  397000.0  447000.0  GM1978  12439   \n",
       "10294  323000.0  334000.0  357000.0  397000.0  447000.0  GM1978  12440   \n",
       "\n",
       "       RegioS  Perioden  GemiddeldeVerkoopprijs_1  \n",
       "0      GM0003  1995JJ00                   63239.0  \n",
       "1      GM0003  1996JJ00                   63839.0  \n",
       "2      GM0003  1997JJ00                   75184.0  \n",
       "3      GM0003  1998JJ00                   77023.0  \n",
       "4      GM0003  1999JJ00                   80202.0  \n",
       "...       ...       ...                       ...  \n",
       "10290  GM1978  2019JJ00                  302028.0  \n",
       "10291  GM1978  2020JJ00                  337367.0  \n",
       "10292  GM1978  2021JJ00                  373551.0  \n",
       "10293  GM1978  2022JJ00                  450833.0  \n",
       "10294  GM1978  2023JJ00                  404893.0  \n",
       "\n",
       "[10295 rows x 10 columns]"
      ]
     },
     "execution_count": 21,
     "metadata": {},
     "output_type": "execute_result"
    }
   ],
   "source": [
    "merged"
   ]
  },
  {
   "cell_type": "code",
   "execution_count": 22,
   "metadata": {
    "id": "vRZPQ8flP0Bw"
   },
   "outputs": [],
   "source": [
    "# merged[\"verschil_woz_verkoop_2019\"] = merged[\"2019\"] - merged[\"2019_woz\"]\n",
    "# merged[\"verschil_woz_verkoop_2020\"] = merged[\"2020\"] - merged[\"2020_woz\"]\n",
    "# merged[\"verschil_woz_verkoop_2021\"] = merged[\"2021\"] - merged[\"2021_woz\"]\n",
    "# merged[\"verschil_woz_verkoop_2022\"] = merged[\"2022\"] - merged[\"2022_woz\"]\n",
    "# merged[\"verschil_woz_verkoop_2023\"] = merged[\"2023\"] - merged[\"2023_woz\"]"
   ]
  },
  {
   "cell_type": "code",
   "execution_count": 23,
   "metadata": {
    "id": "U5w-2EFpQlEi"
   },
   "outputs": [],
   "source": [
    "# final = merged[[\"gm_code\", \"gm_naam\", \"verschil_woz_verkoop_2019\", \"verschil_woz_verkoop_2020\", \"verschil_woz_verkoop_2021\", \"verschil_woz_verkoop_2022\", \"verschil_woz_verkoop_2023\"]]"
   ]
  },
  {
   "cell_type": "code",
   "execution_count": 24,
   "metadata": {
    "id": "s4lBvyMPROFx"
   },
   "outputs": [],
   "source": [
    "# final[final['gm_naam'] == \"Amsterdam\"]"
   ]
  },
  {
   "cell_type": "code",
   "execution_count": 25,
   "metadata": {
    "id": "hpwZ5_k3SV7b"
   },
   "outputs": [],
   "source": [
    "# df1[df1['gm_naam'] == \"Amsterdam\"]"
   ]
  },
  {
   "cell_type": "code",
   "execution_count": 26,
   "metadata": {
    "id": "8gyevTvDSvKC"
   },
   "outputs": [],
   "source": [
    "# df2_right[df2_right['gm_code'] == \"GM0363\"]"
   ]
  },
  {
   "cell_type": "markdown",
   "metadata": {
    "id": "h6xc-vgPTIGy"
   },
   "source": [
    "We can only do this if we can link the WOZ values the sales prices to specific houses. Now we generalize average sales prices and WOZ values, so the difference between them is not representative. Indeed, it may be that houses in the lower price range are mostly sold, so that mean sales price is much lower than mean WOZ value. This is why we include average sales price in our model because it best represents supply and demand."
   ]
  },
  {
   "cell_type": "code",
   "execution_count": 27,
   "metadata": {
    "id": "L0f79Ec0LT07"
   },
   "outputs": [],
   "source": [
    "df1.rename(columns = {\"RegioS\": \"gm_code\"}, inplace = True)"
   ]
  },
  {
   "cell_type": "code",
   "execution_count": 28,
   "metadata": {
    "id": "GUIhns8NT0y2"
   },
   "outputs": [],
   "source": [
    "# Remove \"JJ00\" from the 'Periods' column to leave only the year\n",
    "df1['Jaar'] = df1['Perioden'].str[:4].astype(int)\n",
    "\n",
    "# Create a pivot table\n",
    "df_pivot = df1.pivot_table(\n",
    "    index=['gm_code'],  # Index: Unique municipality information\n",
    "    columns='Jaar',  # Columns: Years\n",
    "    values='GemiddeldeVerkoopprijs_1',  # Values: Average sales price.\n",
    "    aggfunc='first'  # Since there are no duplicate values, use 'first'\n",
    ")\n",
    "\n",
    "# Reset the index so that it becomes a flat table\n",
    "df_pivot = df_pivot.reset_index()\n",
    "\n",
    "# Adjust column names for better readability\n",
    "df_pivot.columns.name = None  # Remove column name (Year)\n",
    "df_pivot.columns = [f\"{col}\" if isinstance(col, int) else col for col in df_pivot.columns]\n"
   ]
  },
  {
   "cell_type": "code",
   "execution_count": 29,
   "metadata": {
    "id": "RorKFx_6UTr-"
   },
   "outputs": [],
   "source": [
    "final = gdf.merge(df_pivot, on = \"gm_code\", how = \"left\")"
   ]
  },
  {
   "cell_type": "markdown",
   "metadata": {
    "id": "a_ZrQ64i7plQ"
   },
   "source": [
    "## Save output"
   ]
  },
  {
   "cell_type": "code",
   "execution_count": 30,
   "metadata": {
    "id": "6bj2-CeR7owh"
   },
   "outputs": [],
   "source": [
    "if SAVE_OUTPUT:\n",
    "    final.to_csv(OUTPUT_DATA_PATH, sep = ';', index = False)"
   ]
  },
  {
   "cell_type": "markdown",
   "metadata": {
    "id": "xT_uQYZSbEty"
   },
   "source": [
    "## Watermark"
   ]
  },
  {
   "cell_type": "code",
   "execution_count": 31,
   "metadata": {
    "colab": {
     "base_uri": "https://localhost:8080/"
    },
    "executionInfo": {
     "elapsed": 5491,
     "status": "ok",
     "timestamp": 1736780523552,
     "user": {
      "displayName": "Cato Martens",
      "userId": "03261732747761201437"
     },
     "user_tz": -60
    },
    "id": "iY8ZyfnAbFoO",
    "outputId": "f4345461-f2d0-4fd7-805c-2f4f2efeb82d"
   },
   "outputs": [],
   "source": [
    "!python -m pip install watermark --quiet"
   ]
  },
  {
   "cell_type": "code",
   "execution_count": 32,
   "metadata": {
    "id": "Cd2yG3BgbGE3"
   },
   "outputs": [],
   "source": [
    "%load_ext watermark"
   ]
  },
  {
   "cell_type": "code",
   "execution_count": 33,
   "metadata": {
    "colab": {
     "base_uri": "https://localhost:8080/"
    },
    "executionInfo": {
     "elapsed": 9,
     "status": "ok",
     "timestamp": 1736780523552,
     "user": {
      "displayName": "Cato Martens",
      "userId": "03261732747761201437"
     },
     "user_tz": -60
    },
    "id": "Ef6VBO1QbI-_",
    "outputId": "05da992b-b132-4dd4-84f0-c732c39d27b1"
   },
   "outputs": [
    {
     "name": "stdout",
     "output_type": "stream",
     "text": [
      "Last updated: 2025-01-27T11:01:45.388738+01:00\n",
      "\n",
      "Python implementation: CPython\n",
      "Python version       : 3.11.5\n",
      "IPython version      : 8.17.2\n",
      "\n",
      "Compiler    : MSC v.1916 64 bit (AMD64)\n",
      "OS          : Windows\n",
      "Release     : 10\n",
      "Machine     : AMD64\n",
      "Processor   : Intel64 Family 6 Model 142 Stepping 10, GenuineIntel\n",
      "CPU cores   : 8\n",
      "Architecture: 64bit\n",
      "\n"
     ]
    }
   ],
   "source": [
    "%watermark"
   ]
  },
  {
   "cell_type": "code",
   "execution_count": 34,
   "metadata": {
    "colab": {
     "base_uri": "https://localhost:8080/"
    },
    "executionInfo": {
     "elapsed": 8,
     "status": "ok",
     "timestamp": 1736780523552,
     "user": {
      "displayName": "Cato Martens",
      "userId": "03261732747761201437"
     },
     "user_tz": -60
    },
    "id": "EW9nOXoNbKrP",
    "outputId": "dcfeffba-05ad-4236-8c2d-c634ba983000"
   },
   "outputs": [
    {
     "name": "stdout",
     "output_type": "stream",
     "text": [
      "numpy    : 1.26.1\n",
      "geopandas: 0.14.0\n",
      "pandas   : 2.1.2\n",
      "\n"
     ]
    }
   ],
   "source": [
    "%watermark --iversions"
   ]
  },
  {
   "cell_type": "code",
   "execution_count": 35,
   "metadata": {
    "colab": {
     "base_uri": "https://localhost:8080/"
    },
    "executionInfo": {
     "elapsed": 166,
     "status": "ok",
     "timestamp": 1736780523713,
     "user": {
      "displayName": "Cato Martens",
      "userId": "03261732747761201437"
     },
     "user_tz": -60
    },
    "id": "2LOCLnX0bMxt",
    "outputId": "b63c2567-44b2-429b-ef03-db1f3ea4ec0c"
   },
   "outputs": [
    {
     "name": "stderr",
     "output_type": "stream",
     "text": [
      "'lsb_release' is not recognized as an internal or external command,\n",
      "operable program or batch file.\n"
     ]
    }
   ],
   "source": [
    "!lsb_release -a"
   ]
  },
  {
   "cell_type": "code",
   "execution_count": null,
   "metadata": {
    "id": "QNHU37aYL5il"
   },
   "outputs": [],
   "source": []
  }
 ],
 "metadata": {
  "colab": {
   "provenance": []
  },
  "kernelspec": {
   "display_name": "ML3",
   "language": "python",
   "name": "python3"
  },
  "language_info": {
   "codemirror_mode": {
    "name": "ipython",
    "version": 3
   },
   "file_extension": ".py",
   "mimetype": "text/x-python",
   "name": "python",
   "nbconvert_exporter": "python",
   "pygments_lexer": "ipython3",
   "version": "3.11.5"
  }
 },
 "nbformat": 4,
 "nbformat_minor": 0
}
